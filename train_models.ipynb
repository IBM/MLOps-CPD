{
    "cells": [
        {
            "cell_type": "markdown",
            "metadata": {
                "collapsed": true
            },
            "source": [
                "## Training Notebook "
            ]
        },
        {
            "cell_type": "markdown",
            "metadata": {},
            "source": [
                "### The following cell is a way to get the utility script required for this notebook. \n",
                "Since IBM CPD SaaS doesn't have a filesystem, this is the only reliable way to get scripts on the cloud environment.\n",
                "\n",
                "```\n",
                "!rm -rf MLOps-CPD && git clone --quiet -b master https://github.com/IBM/MLOps-CPD.git\n",
                "```"
            ]
        },
        {
            "cell_type": "code",
            "execution_count": 1,
            "metadata": {},
            "outputs": [],
            "source": [
                "# The code was removed by Watson Studio for sharing."
            ]
        },
        {
            "cell_type": "code",
            "execution_count": 2,
            "metadata": {},
            "outputs": [],
            "source": [
                "from botocore.client import Config\n",
                "from ibm_botocore.client import Config\n",
                "from sklearn.pipeline import Pipeline\n",
                "from sklearn.model_selection import train_test_split,cross_val_score,KFold\n",
                "from sklearn.metrics import roc_auc_score,confusion_matrix,plot_confusion_matrix,plot_roc_curve,f1_score,auc,roc_curve,accuracy_score\n",
                "from hyperopt import STATUS_OK, Trials, fmin, hp, tpe\n",
                "from ibm_aigov_facts_client import AIGovFactsClient\n",
                "from MLOps_CPD.utils import fs_utils,catalog_utils\n",
                "from ibm_watson_studio_pipelines import WSPipelines\n",
                "from ibm_watson_machine_learning import APIClient\n",
                "import warnings\n",
                "import os, types\n",
                "import pandas as pd\n",
                "import numpy as np\n",
                "import ibm_boto3\n",
                "import seaborn as sns\n",
                "import json\n",
                "import pickle\n",
                "import matplotlib.pyplot as plt\n",
                "\n",
                "\n",
                "warnings.filterwarnings(\"ignore\")"
            ]
        },
        {
            "cell_type": "markdown",
            "metadata": {},
            "source": [
                "## Succeeding cell contains the credentials for MLOps COS\n",
                "```\n",
                "## PROJECT COS \n",
                "AUTH_ENDPOINT = \"https://iam.cloud.ibm.com/oidc/token\"\n",
                "ENDPOINT_URL = \"https://s3.private.us.cloud-object-storage.appdomain.cloud\"\n",
                "API_KEY_COS = \"xxx\"\n",
                "BUCKET_PROJECT_COS = \"mlops-donotdelete-pr-qxxcecxi1dtw94\"\n",
                "\n",
                "##MLOPS COS\n",
                "ENDPOINT_URL_MLOPS = \"https://s3.jp-tok.cloud-object-storage.appdomain.cloud\"\n",
                "API_KEY_MLOPS = \"xxx\"\n",
                "CRN_MLOPS = \"xxx\"\n",
                "BUCKET_MLOPS  = \"mlops-asset\"\n",
                "\n",
                "```"
            ]
        },
        {
            "cell_type": "code",
            "execution_count": 4,
            "metadata": {},
            "outputs": [],
            "source": [
                "# The code was removed by Watson Studio for sharing."
            ]
        },
        {
            "cell_type": "markdown",
            "metadata": {},
            "source": [
                "## Pipeline Params"
            ]
        },
        {
            "cell_type": "code",
            "execution_count": null,
            "metadata": {},
            "outputs": [],
            "source": [
                "filename = os.getenv(\"feature_pickle\")\n",
                "apikey = os.getenv(\"apikey\")\n",
                "\n",
                "MODEL_NAME =os.getenv(\"model_name\")\n",
                "DEPLOYMENT_NAME =os.getenv(\"deployment_name\")\n",
                "\n",
                "project_id = os.environ['PROJECT_ID']\n",
                "space_id = os.getenv(\"model_name\")"
            ]
        },
        {
            "cell_type": "markdown",
            "metadata": {},
            "source": [
                "## Utility Functions"
            ]
        },
        {
            "cell_type": "code",
            "execution_count": 5,
            "metadata": {},
            "outputs": [],
            "source": [
                "def download_file_cos(local_file_name,key):\n",
                "    cos = ibm_boto3.client(service_name='s3',\n",
                "                           ibm_api_key_id=API_KEY_MLOPS,\n",
                "                           ibm_service_instance_id=CRN_MLOPS,\n",
                "                           ibm_auth_endpoint=AUTH_ENDPOINT,\n",
                "                           config=Config(signature_version='oauth'),\n",
                "                           endpoint_url=ENDPOINT_URL_MLOPS)\n",
                "    try:\n",
                "        res=cos.download_file(Bucket=BUCKET_MLOPS,Key=key,Filename=local_file_name)\n",
                "    except Exception as e:\n",
                "        print(Exception, e)\n",
                "    else:\n",
                "        print('File Downloaded')\n",
                "        \n",
                "def read_data_from_mlops_cos(key):\n",
                "    def __iter__(self): return 0\n",
                "    MLOPS_DATA_STORE_client = ibm_boto3.client(\n",
                "        service_name='s3',\n",
                "        ibm_api_key_id=API_KEY_MLOPS,\n",
                "        ibm_service_instance_id=CRN_MLOPS,\n",
                "        ibm_auth_endpoint=AUTH_ENDPOINT,\n",
                "        config=Config(signature_version='oauth'),\n",
                "        endpoint_url=ENDPOINT_URL_MLOPS)\n",
                "\n",
                "    body = MLOPS_DATA_STORE_client.get_object(Bucket='mlops-asset', Key=key)['Body']\n",
                "    # add missing __iter__ method, so pandas accepts body as file-like object\n",
                "    if not hasattr(body, \"__iter__\"): body.__iter__ = types.MethodType( __iter__, body )\n",
                "\n",
                "    gcf_df = pd.read_csv(body)\n",
                "    return gcf_df\n",
                "\n",
                "def load_model(key, filename):\n",
                "    download_file_cos(key,filename)\n",
                "    with open (filename,\"rb\") as f:\n",
                "        pipeline = pickle.load(f)\n",
                "    return pipeline\n",
                "\n",
                "def check_if_file_exists(filename):\n",
                "    mlops_client = ibm_boto3.client(\n",
                "        service_name='s3',\n",
                "        ibm_api_key_id=API_KEY_MLOPS,\n",
                "        ibm_service_instance_id=CRN_MLOPS,\n",
                "        ibm_auth_endpoint=AUTH_ENDPOINT,\n",
                "        config=Config(signature_version='oauth'),\n",
                "        endpoint_url=ENDPOINT_URL_MLOPS)\n",
                "    \n",
                "    for key in mlops_client.list_objects(Bucket=BUCKET_MLOPS)['Contents']:\n",
                "        files = key['Key']\n",
                "        if files == filename:\n",
                "            return True\n",
                "    return False\n",
                "\n",
                "def save_data_in_cos(dictionary,filename,key):\n",
                "    \"\"\"\n",
                "\n",
                "    Save Data in IBM Cloud Object Storage\n",
                "\n",
                "    \"\"\"\n",
                "    try:\n",
                "        with open(filename+'.pkl', 'wb') as f:\n",
                "            pickle.dump(dictionary, f)\n",
                "        mlops_res = ibm_boto3.resource(\n",
                "            service_name='s3',\n",
                "            ibm_api_key_id=API_KEY_MLOPS,\n",
                "            ibm_service_instance_id=CRN_MLOPS,\n",
                "            ibm_auth_endpoint=AUTH_ENDPOINT,\n",
                "            config=Config(signature_version='oauth'),\n",
                "            endpoint_url=ENDPOINT_URL_MLOPS)\n",
                "\n",
                "        mlops_res.Bucket(BUCKET_MLOPS).upload_file(filename+'.pkl',key+'.pkl')\n",
                "        print(f\"File {filename} uploaded successfully\")\n",
                "    except Exception as e:\n",
                "        print(e)\n",
                "        print(\"File upload for {filename} failed\")\n"
            ]
        },
        {
            "cell_type": "code",
            "execution_count": 6,
            "metadata": {},
            "outputs": [],
            "source": [
                "# The code was removed by Watson Studio for sharing."
            ]
        },
        {
            "cell_type": "markdown",
            "metadata": {},
            "source": [
                "## Load the Saved Transformer from IBM COS "
            ]
        },
        {
            "cell_type": "code",
            "execution_count": 7,
            "metadata": {},
            "outputs": [
                {
                    "name": "stdout",
                    "output_type": "stream",
                    "text": [
                        "File Downloaded\n"
                    ]
                }
            ],
            "source": [
                "pipeline = load_model(filename, filename)"
            ]
        },
        {
            "cell_type": "markdown",
            "metadata": {},
            "source": [
                "## Instantiate FactSheets Client"
            ]
        },
        {
            "cell_type": "code",
            "execution_count": 8,
            "metadata": {},
            "outputs": [
                {
                    "name": "stdout",
                    "output_type": "stream",
                    "text": [
                        "2022/11/25 12:31:27 INFO : Successfully set CreditRiskModel as current experiment\n",
                        "2022/11/25 12:31:28 INFO : Autolog enabled Successfully\n"
                    ]
                }
            ],
            "source": [
                "facts_client = AIGovFactsClient(api_key=apikey, experiment_name=\"CreditRiskModel\", container_type=\"project\", container_id=project_id, set_as_current_experiment=True)"
            ]
        },
        {
            "cell_type": "markdown",
            "metadata": {},
            "source": [
                "## Load Train Data and Test Data "
            ]
        },
        {
            "cell_type": "code",
            "execution_count": 9,
            "metadata": {},
            "outputs": [
                {
                    "data": {
                        "text/html": [
                            "<div>\n",
                            "<style scoped>\n",
                            "    .dataframe tbody tr th:only-of-type {\n",
                            "        vertical-align: middle;\n",
                            "    }\n",
                            "\n",
                            "    .dataframe tbody tr th {\n",
                            "        vertical-align: top;\n",
                            "    }\n",
                            "\n",
                            "    .dataframe thead th {\n",
                            "        text-align: right;\n",
                            "    }\n",
                            "</style>\n",
                            "<table border=\"1\" class=\"dataframe\">\n",
                            "  <thead>\n",
                            "    <tr style=\"text-align: right;\">\n",
                            "      <th></th>\n",
                            "      <th>LoanAmount</th>\n",
                            "      <th>InstallmentPercent</th>\n",
                            "      <th>LoanDuration</th>\n",
                            "      <th>Age</th>\n",
                            "      <th>CurrentResidenceDuration</th>\n",
                            "      <th>ExistingCreditsCount</th>\n",
                            "      <th>Dependents</th>\n",
                            "      <th>Job</th>\n",
                            "      <th>Telephone</th>\n",
                            "      <th>CreditHistory</th>\n",
                            "      <th>CheckingStatus</th>\n",
                            "      <th>Housing</th>\n",
                            "      <th>ExistingSavings</th>\n",
                            "      <th>OthersOnLoan</th>\n",
                            "      <th>LoanPurpose</th>\n",
                            "      <th>OwnsProperty</th>\n",
                            "      <th>EmploymentDuration</th>\n",
                            "      <th>Sex</th>\n",
                            "      <th>Risk</th>\n",
                            "    </tr>\n",
                            "  </thead>\n",
                            "  <tbody>\n",
                            "    <tr>\n",
                            "      <th>0</th>\n",
                            "      <td>1802</td>\n",
                            "      <td>1</td>\n",
                            "      <td>14</td>\n",
                            "      <td>37</td>\n",
                            "      <td>1</td>\n",
                            "      <td>1</td>\n",
                            "      <td>1</td>\n",
                            "      <td>skilled</td>\n",
                            "      <td>yes</td>\n",
                            "      <td>prior_payments_delayed</td>\n",
                            "      <td>less_0</td>\n",
                            "      <td>own</td>\n",
                            "      <td>less_100</td>\n",
                            "      <td>none</td>\n",
                            "      <td>radio_tv</td>\n",
                            "      <td>savings_insurance</td>\n",
                            "      <td>unemployed</td>\n",
                            "      <td>female</td>\n",
                            "      <td>0</td>\n",
                            "    </tr>\n",
                            "    <tr>\n",
                            "      <th>1</th>\n",
                            "      <td>5682</td>\n",
                            "      <td>2</td>\n",
                            "      <td>20</td>\n",
                            "      <td>30</td>\n",
                            "      <td>2</td>\n",
                            "      <td>2</td>\n",
                            "      <td>1</td>\n",
                            "      <td>skilled</td>\n",
                            "      <td>none</td>\n",
                            "      <td>credits_paid_to_date</td>\n",
                            "      <td>less_0</td>\n",
                            "      <td>rent</td>\n",
                            "      <td>less_100</td>\n",
                            "      <td>none</td>\n",
                            "      <td>furniture</td>\n",
                            "      <td>savings_insurance</td>\n",
                            "      <td>less_1</td>\n",
                            "      <td>female</td>\n",
                            "      <td>0</td>\n",
                            "    </tr>\n",
                            "    <tr>\n",
                            "      <th>2</th>\n",
                            "      <td>6907</td>\n",
                            "      <td>4</td>\n",
                            "      <td>16</td>\n",
                            "      <td>34</td>\n",
                            "      <td>3</td>\n",
                            "      <td>1</td>\n",
                            "      <td>1</td>\n",
                            "      <td>management_self-employed</td>\n",
                            "      <td>yes</td>\n",
                            "      <td>credits_paid_to_date</td>\n",
                            "      <td>no_checking</td>\n",
                            "      <td>own</td>\n",
                            "      <td>less_100</td>\n",
                            "      <td>none</td>\n",
                            "      <td>repairs</td>\n",
                            "      <td>car_other</td>\n",
                            "      <td>less_1</td>\n",
                            "      <td>female</td>\n",
                            "      <td>0</td>\n",
                            "    </tr>\n",
                            "    <tr>\n",
                            "      <th>3</th>\n",
                            "      <td>9942</td>\n",
                            "      <td>4</td>\n",
                            "      <td>31</td>\n",
                            "      <td>57</td>\n",
                            "      <td>5</td>\n",
                            "      <td>2</td>\n",
                            "      <td>2</td>\n",
                            "      <td>skilled</td>\n",
                            "      <td>yes</td>\n",
                            "      <td>outstanding_credit</td>\n",
                            "      <td>no_checking</td>\n",
                            "      <td>free</td>\n",
                            "      <td>greater_1000</td>\n",
                            "      <td>co-applicant</td>\n",
                            "      <td>repairs</td>\n",
                            "      <td>unknown</td>\n",
                            "      <td>greater_7</td>\n",
                            "      <td>male</td>\n",
                            "      <td>1</td>\n",
                            "    </tr>\n",
                            "    <tr>\n",
                            "      <th>4</th>\n",
                            "      <td>868</td>\n",
                            "      <td>3</td>\n",
                            "      <td>12</td>\n",
                            "      <td>26</td>\n",
                            "      <td>3</td>\n",
                            "      <td>1</td>\n",
                            "      <td>1</td>\n",
                            "      <td>skilled</td>\n",
                            "      <td>none</td>\n",
                            "      <td>all_credits_paid_back</td>\n",
                            "      <td>no_checking</td>\n",
                            "      <td>rent</td>\n",
                            "      <td>500_to_1000</td>\n",
                            "      <td>none</td>\n",
                            "      <td>vacation</td>\n",
                            "      <td>savings_insurance</td>\n",
                            "      <td>unemployed</td>\n",
                            "      <td>female</td>\n",
                            "      <td>0</td>\n",
                            "    </tr>\n",
                            "  </tbody>\n",
                            "</table>\n",
                            "</div>"
                        ],
                        "text/plain": [
                            "   LoanAmount  InstallmentPercent  LoanDuration  Age  \\\n",
                            "0        1802                   1            14   37   \n",
                            "1        5682                   2            20   30   \n",
                            "2        6907                   4            16   34   \n",
                            "3        9942                   4            31   57   \n",
                            "4         868                   3            12   26   \n",
                            "\n",
                            "   CurrentResidenceDuration  ExistingCreditsCount  Dependents  \\\n",
                            "0                         1                     1           1   \n",
                            "1                         2                     2           1   \n",
                            "2                         3                     1           1   \n",
                            "3                         5                     2           2   \n",
                            "4                         3                     1           1   \n",
                            "\n",
                            "                        Job Telephone           CreditHistory CheckingStatus  \\\n",
                            "0                   skilled       yes  prior_payments_delayed         less_0   \n",
                            "1                   skilled      none    credits_paid_to_date         less_0   \n",
                            "2  management_self-employed       yes    credits_paid_to_date    no_checking   \n",
                            "3                   skilled       yes      outstanding_credit    no_checking   \n",
                            "4                   skilled      none   all_credits_paid_back    no_checking   \n",
                            "\n",
                            "  Housing ExistingSavings  OthersOnLoan LoanPurpose       OwnsProperty  \\\n",
                            "0     own        less_100          none    radio_tv  savings_insurance   \n",
                            "1    rent        less_100          none   furniture  savings_insurance   \n",
                            "2     own        less_100          none     repairs          car_other   \n",
                            "3    free    greater_1000  co-applicant     repairs            unknown   \n",
                            "4    rent     500_to_1000          none    vacation  savings_insurance   \n",
                            "\n",
                            "  EmploymentDuration     Sex  Risk  \n",
                            "0         unemployed  female     0  \n",
                            "1             less_1  female     0  \n",
                            "2             less_1  female     0  \n",
                            "3          greater_7    male     1  \n",
                            "4         unemployed  female     0  "
                        ]
                    },
                    "execution_count": 9,
                    "metadata": {},
                    "output_type": "execute_result"
                }
            ],
            "source": [
                "train_data = read_data_from_mlops_cos('train_tfr.csv')\n",
                "test_data = read_data_from_mlops_cos('test_tfr.csv')\n",
                "train_data.head()"
            ]
        },
        {
            "cell_type": "markdown",
            "metadata": {},
            "source": [
                "## Load train and test set"
            ]
        },
        {
            "cell_type": "code",
            "execution_count": 10,
            "metadata": {},
            "outputs": [],
            "source": [
                "y_train = train_data['Risk']\n",
                "\n",
                "y_test = test_data['Risk']\n",
                "\n",
                "\n",
                "X_train = train_data.drop('Risk',axis=1)\n",
                "\n",
                "X_test = test_data.drop('Risk',axis=1)\n"
            ]
        },
        {
            "cell_type": "markdown",
            "metadata": {},
            "source": [
                "## Make validation set"
            ]
        },
        {
            "cell_type": "code",
            "execution_count": 11,
            "metadata": {},
            "outputs": [],
            "source": [
                "from sklearn.model_selection import train_test_split\n",
                "X_tr, X_val, y_tr, y_val = train_test_split(X_train, y_train, test_size = 0.2, random_state = 42)"
            ]
        },
        {
            "cell_type": "markdown",
            "metadata": {},
            "source": [
                "## Instantiate a Classifier "
            ]
        },
        {
            "cell_type": "code",
            "execution_count": 12,
            "metadata": {},
            "outputs": [],
            "source": [
                "from lightgbm import LGBMClassifier\n",
                "from xgboost import XGBClassifier\n",
                "\n",
                "from sklearn.ensemble import GradientBoostingClassifier\n",
                "\n",
                "model_lgb = LGBMClassifier(learning_rate=0.09,max_depth=5,random_state=42)"
            ]
        },
        {
            "cell_type": "markdown",
            "metadata": {},
            "source": [
                "## Append the Pipeline"
            ]
        },
        {
            "cell_type": "code",
            "execution_count": 13,
            "metadata": {
                "scrolled": true
            },
            "outputs": [],
            "source": [
                "estimator_step = ['model_lgb',model_lgb]\n",
                "pipeline.steps.append(estimator_step)\n",
                "# if len(pipeline) >2:\n",
                "#     pipeline= list(pipeline[0]).append(pipeline[-1])"
            ]
        },
        {
            "cell_type": "code",
            "execution_count": 14,
            "metadata": {
                "scrolled": true
            },
            "outputs": [
                {
                    "data": {
                        "text/plain": [
                            "ColumnTransformer(transformers=[('cat', OrdinalEncoder(),\n",
                            "                                 Index(['Job', 'Telephone', 'CreditHistory', 'CheckingStatus', 'Housing',\n",
                            "       'ExistingSavings', 'OthersOnLoan', 'LoanPurpose', 'OwnsProperty',\n",
                            "       'EmploymentDuration', 'Sex'],\n",
                            "      dtype='object')),\n",
                            "                                ('num', MinMaxScaler(),\n",
                            "                                 Index(['LoanAmount', 'InstallmentPercent', 'LoanDuration', 'Age',\n",
                            "       'CurrentResidenceDuration', 'ExistingCreditsCount', 'Dependents'],\n",
                            "      dtype='object'))])"
                        ]
                    },
                    "execution_count": 14,
                    "metadata": {},
                    "output_type": "execute_result"
                }
            ],
            "source": [
                "pipeline.steps[0][1].fit(X_tr)"
            ]
        },
        {
            "cell_type": "markdown",
            "metadata": {},
            "source": [
                "## Baseline Model "
            ]
        },
        {
            "cell_type": "code",
            "execution_count": 15,
            "metadata": {},
            "outputs": [
                {
                    "name": "stdout",
                    "output_type": "stream",
                    "text": [
                        "2022/11/25 12:31:33 INFO : logging results to factsheet for run_id fb3be33b30b54ce8a058208c2b6309c8\n",
                        "2022/11/25 12:31:34 INFO : Successfully logged results to Factsheet service for run_id fb3be33b30b54ce8a058208c2b6309c8 under asset_id: b975d6ad-c007-452a-994a-3df224d169af and project_id : 416c3bc7-c5c2-4ec6-88fd-521714fed6bb\n",
                        "[5]\tvalid_0's binary_logloss: 0.533278\tvalid_1's binary_logloss: 0.519431\n",
                        "[10]\tvalid_0's binary_logloss: 0.491401\tvalid_1's binary_logloss: 0.461614\n",
                        "[15]\tvalid_0's binary_logloss: 0.468867\tvalid_1's binary_logloss: 0.428384\n",
                        "[20]\tvalid_0's binary_logloss: 0.45761\tvalid_1's binary_logloss: 0.405331\n",
                        "[25]\tvalid_0's binary_logloss: 0.452468\tvalid_1's binary_logloss: 0.390789\n",
                        "[30]\tvalid_0's binary_logloss: 0.448726\tvalid_1's binary_logloss: 0.377748\n",
                        "[35]\tvalid_0's binary_logloss: 0.448431\tvalid_1's binary_logloss: 0.369453\n",
                        "[40]\tvalid_0's binary_logloss: 0.446285\tvalid_1's binary_logloss: 0.360297\n",
                        "[45]\tvalid_0's binary_logloss: 0.447363\tvalid_1's binary_logloss: 0.352832\n",
                        "[50]\tvalid_0's binary_logloss: 0.448148\tvalid_1's binary_logloss: 0.345742\n",
                        "[55]\tvalid_0's binary_logloss: 0.449626\tvalid_1's binary_logloss: 0.339154\n",
                        "[60]\tvalid_0's binary_logloss: 0.450748\tvalid_1's binary_logloss: 0.333608\n",
                        "[65]\tvalid_0's binary_logloss: 0.452164\tvalid_1's binary_logloss: 0.326745\n",
                        "[70]\tvalid_0's binary_logloss: 0.453182\tvalid_1's binary_logloss: 0.321914\n",
                        "[75]\tvalid_0's binary_logloss: 0.454816\tvalid_1's binary_logloss: 0.315224\n",
                        "[80]\tvalid_0's binary_logloss: 0.454221\tvalid_1's binary_logloss: 0.309605\n",
                        "[85]\tvalid_0's binary_logloss: 0.453814\tvalid_1's binary_logloss: 0.303931\n",
                        "[90]\tvalid_0's binary_logloss: 0.454628\tvalid_1's binary_logloss: 0.298881\n",
                        "[95]\tvalid_0's binary_logloss: 0.455047\tvalid_1's binary_logloss: 0.294134\n",
                        "[100]\tvalid_0's binary_logloss: 0.456393\tvalid_1's binary_logloss: 0.289278\n"
                    ]
                }
            ],
            "source": [
                "# model_pipeline = pipeline.fit(X_train,y_train)\n",
                "model_pipeline = pipeline.fit(X_tr,y_tr,model_lgb__verbose=5, model_lgb__eval_set=[(pipeline.steps[0][1].transform(X_val), y_val),(pipeline.steps[0][1].transform(X_tr), y_tr)])"
            ]
        },
        {
            "cell_type": "code",
            "execution_count": 16,
            "metadata": {
                "scrolled": true
            },
            "outputs": [
                {
                    "data": {
                        "text/plain": [
                            "<AxesSubplot:title={'center':'Metric during training'}, xlabel='Iterations', ylabel='binary_logloss'>"
                        ]
                    },
                    "execution_count": 16,
                    "metadata": {},
                    "output_type": "execute_result"
                },
                {
                    "data": {
                        "image/png": "[encoded data removed]",
                        "text/plain": [
                            "<Figure size 432x288 with 1 Axes>"
                        ]
                    },
                    "metadata": {
                        "needs_background": "light"
                    },
                    "output_type": "display_data"
                }
            ],
            "source": [
                "from lightgbm import plot_metric\n",
                "plot_metric(pipeline.steps[1][1])"
            ]
        },
        {
            "cell_type": "markdown",
            "metadata": {},
            "source": [
                "## Log the Train and Val loss"
            ]
        },
        {
            "cell_type": "code",
            "execution_count": 43,
            "metadata": {},
            "outputs": [],
            "source": [
                "val_loss = pipeline.steps[1][1].evals_result_['valid_0']\n",
                "train_loss = pipeline.steps[1][1].evals_result_['valid_1']"
            ]
        },
        {
            "cell_type": "markdown",
            "metadata": {},
            "source": [
                "## Save train and val loss to COS"
            ]
        },
        {
            "cell_type": "code",
            "execution_count": 70,
            "metadata": {
                "scrolled": true
            },
            "outputs": [
                {
                    "name": "stdout",
                    "output_type": "stream",
                    "text": [
                        "File val_loss uploaded successfully\n",
                        "File train_loss uploaded successfully\n"
                    ]
                }
            ],
            "source": [
                "save_data_in_cos(val_loss,'val_loss','val_loss')\n",
                "save_data_in_cos(train_loss,'train_loss','train_loss')"
            ]
        },
        {
            "cell_type": "markdown",
            "metadata": {},
            "source": [
                "## Check if the files are copied in COS\n"
            ]
        },
        {
            "cell_type": "code",
            "execution_count": 73,
            "metadata": {},
            "outputs": [
                {
                    "data": {
                        "text/plain": [
                            "True"
                        ]
                    },
                    "execution_count": 73,
                    "metadata": {},
                    "output_type": "execute_result"
                }
            ],
            "source": [
                "files_copied_in_cos = check_if_file_exists('val_loss.pkl') and check_if_file_exists('val_loss.pkl')\n",
                "files_copied_in_cos"
            ]
        },
        {
            "cell_type": "markdown",
            "metadata": {},
            "source": [
                "## Baseline Results of the Model"
            ]
        },
        {
            "cell_type": "code",
            "execution_count": 45,
            "metadata": {},
            "outputs": [
                {
                    "name": "stdout",
                    "output_type": "stream",
                    "text": [
                        "0.7470811588384852\n"
                    ]
                }
            ],
            "source": [
                "predictions = pipeline.predict(X_test)\n",
                "\n",
                "print(roc_auc_score(y_test,predictions))"
            ]
        },
        {
            "cell_type": "code",
            "execution_count": 17,
            "metadata": {},
            "outputs": [
                {
                    "name": "stderr",
                    "output_type": "stream",
                    "text": [
                        "/opt/conda/envs/Python-3.9/lib/python3.9/site-packages/mlflow/tracking/_tracking_service/utils.py:182: UserWarning: Failure attempting to register store for scheme \"file\": cannot import name 'MlflowClient' from partially initialized module 'mlflow.tracking' (most likely due to a circular import) (/opt/conda/envs/Python-3.9/lib/python3.9/site-packages/mlflow/tracking/__init__.py)\n",
                        "  _tracking_store_registry.register_entrypoints()\n",
                        "/opt/conda/envs/Python-3.9/lib/python3.9/site-packages/mlflow/tracking/_tracking_service/utils.py:182: UserWarning: Failure attempting to register store for scheme \"file\": cannot import name 'MlflowClient' from partially initialized module 'mlflow.tracking' (most likely due to a circular import) (/opt/conda/envs/Python-3.9/lib/python3.9/site-packages/mlflow/tracking/__init__.py)\n",
                        "  _tracking_store_registry.register_entrypoints()\n"
                    ]
                },
                {
                    "name": "stdout",
                    "output_type": "stream",
                    "text": [
                        "The Cross Validated AUC_ROC Score is 0.8551584949484683\n"
                    ]
                }
            ],
            "source": [
                "cv = KFold(n_splits=5, shuffle=True, random_state=1)\n",
                "scores = np.mean(cross_val_score(pipeline,X_train,y_train, cv=cv, n_jobs=-1,scoring='roc_auc'))\n",
                "print(f\"The Cross Validated AUC_ROC Score is {scores}\")"
            ]
        },
        {
            "cell_type": "code",
            "execution_count": 18,
            "metadata": {},
            "outputs": [
                {
                    "name": "stdout",
                    "output_type": "stream",
                    "text": [
                        "Training set score: 0.8728\n",
                        "Test set score: 0.7811\n"
                    ]
                }
            ],
            "source": [
                "# print the scores on training and test set\n",
                "\n",
                "print('Training set score: {:.4f}'.format(pipeline.score(X_train, y_train)))\n",
                "\n",
                "print('Test set score: {:.4f}'.format(pipeline.score(X_test, y_test)))"
            ]
        },
        {
            "cell_type": "code",
            "execution_count": 19,
            "metadata": {},
            "outputs": [
                {
                    "data": {
                        "text/plain": [
                            "<AxesSubplot:>"
                        ]
                    },
                    "execution_count": 19,
                    "metadata": {},
                    "output_type": "execute_result"
                },
                {
                    "data": {
                        "image/png": "[encoded data removed]",
                        "text/plain": [
                            "<Figure size 432x288 with 2 Axes>"
                        ]
                    },
                    "metadata": {
                        "needs_background": "light"
                    },
                    "output_type": "display_data"
                }
            ],
            "source": [
                "df_cm = confusion_matrix(y_test,predictions)\n",
                "\n",
                "group_names = ['True Neg','False Pos','False Neg','True Pos']\n",
                "group_counts = [\"{0:0.0f}\".format(value) for value in df_cm.flatten()]\n",
                "group_percentages = [\"{0:.2%}\".format(value) for value in df_cm.flatten()/np.sum(df_cm)]\n",
                "labels = [f\"{v1}\\n{v2}\\n{v3}\" for v1, v2,v3 in zip(group_names,group_counts,group_percentages)]\n",
                "labels = np.asarray(labels).reshape(2,2)\n",
                "sns.heatmap(df_cm, annot=labels, fmt='', cmap='Blues')\n"
            ]
        },
        {
            "cell_type": "code",
            "execution_count": 20,
            "metadata": {},
            "outputs": [
                {
                    "name": "stdout",
                    "output_type": "stream",
                    "text": [
                        "\n",
                        "\n",
                        "Area Under Curve: 0.73\n",
                        "\n",
                        "\n"
                    ]
                },
                {
                    "data": {
                        "image/png": "[encoded data removed]",
                        "text/plain": [
                            "<Figure size 432x288 with 1 Axes>"
                        ]
                    },
                    "metadata": {
                        "needs_background": "light"
                    },
                    "output_type": "display_data"
                }
            ],
            "source": [
                "fpr, tpr, thresholds = roc_curve(y_test, predictions)\n",
                "\n",
                "fig, ax = plt.subplots()\n",
                "ax.plot(fpr, tpr)\n",
                "ax.plot([0, 1], [0, 1], transform=ax.transAxes, ls=\"--\", c=\".3\")\n",
                "plt.xlim([0.0, 1.0])\n",
                "plt.ylim([0.0, 1.0])\n",
                "plt.rcParams['font.size'] = 12\n",
                "\n",
                "plt.xlabel('False Positive Rate (1 - Specificity)')\n",
                "plt.ylabel('True Positive Rate (Sensitivity)')\n",
                "plt.grid(True)\n",
                "\n",
                "print(\"\\n\")\n",
                "print (\"Area Under Curve: %.2f\" %auc(fpr, tpr))\n",
                "print(\"\\n\")"
            ]
        },
        {
            "cell_type": "markdown",
            "metadata": {},
            "source": [
                "## Store Model in the project"
            ]
        },
        {
            "cell_type": "code",
            "execution_count": null,
            "metadata": {},
            "outputs": [],
            "source": [
                "with open(\"model_pipeline.pkl\",'wb') as f:\n",
                "    pickle.dump(model_pipeline,f)"
            ]
        },
        {
            "cell_type": "code",
            "execution_count": 24,
            "metadata": {},
            "outputs": [],
            "source": [
                "WML_CREDENTIALS = {\n",
                "                   \"url\": \"https://us-south.ml.cloud.ibm.com\",\n",
                "                   \"apikey\": apikey\n",
                "            }"
            ]
        },
        {
            "cell_type": "code",
            "execution_count": 25,
            "metadata": {},
            "outputs": [],
            "source": [
                "wml_client = APIClient(WML_CREDENTIALS)"
            ]
        },
        {
            "cell_type": "markdown",
            "metadata": {},
            "source": [
                "## Save and Log Models in AI Factsheets."
            ]
        },
        {
            "cell_type": "code",
            "execution_count": 26,
            "metadata": {},
            "outputs": [],
            "source": [
                "def save_log_facts():\n",
                "    ctutils = catalog_utils.CatalogUtils(\n",
                "        service_url=\"https://api.dataplatform.cloud.ibm.com\",\n",
                "        api_key=apikey,\n",
                "        project_id=project_id,\n",
                "        auth_url=\"https://iam.cloud.ibm.com/identity/token\")\n",
                "    catalog_id = ctutils.get_catalog_id_map()[\"MLOps-ns\"]\n",
                "    fsutils = fs_utils.FSUtils(wml_client=wml_client,catalog_id=catalog_id,project_id=project_id,bss_account_id='27ff418fedd6aedffb8dc6ae4164a1d2',space_id=space_id,facts_client=facts_client)\n",
                "    train_ref  = fsutils.prepare_training_reference(apikey=apikey,crn=CRN_MLOPS,bucket_name=BUCKET_MLOPS,endpoint=ENDPOINT_URL_MLOPS,training_file_name=\"german_credit_risk.csv\")\n",
                "    model_id = fsutils.save_model(model=model_pipeline,model_name=MODEL_NAME,model_entry_name=\"MLOPs\",model_entry_description=\"MLOps Model Entry\",target=\"Risk\",X=X_train,y=y_train,train_data_ref=train_ref)\n",
                "    \n",
                "    nb_name = \"train_models\"\n",
                "    nb_asset_id = \"b8d38cab-e373-4303-bd09-12e1086c9132\"\n",
                "    CPD_URL =\"https://dataplatform.cloud.ibm.com\"\n",
                "\n",
                "    nb_asset_url = \"https://\" + CPD_URL + \"/analytics/notebooks/v2/\" + nb_asset_id + \"?projectid=\" + project_id + \"&context=cpdaas\"\n",
                "\n",
                "    latestRunId = facts_client.runs.list_runs_by_experiment('1').sort_values('start_time').iloc[-1]['run_id']\n",
                "    facts_client.runs.set_tags(latestRunId, {\"Notebook name\": nb_name, \"Notebook id\": nb_asset_id, \"Notebook URL\" : nb_asset_url})\n",
                "    facts_client.export_facts.export_payload(latestRunId)\n",
                "\n",
                "    RUN_ID=facts_client.runs.get_current_run_id()\n",
                "    facts_client.export_facts.export_payload(RUN_ID)\n",
                "    \n",
                "    return model_id\n"
            ]
        },
        {
            "cell_type": "code",
            "execution_count": 27,
            "metadata": {},
            "outputs": [
                {
                    "name": "stdout",
                    "output_type": "stream",
                    "text": [
                        "Creating connections...\n",
                        "SUCCESS\n",
                        "2022/11/07 10:15:34 INFO : Initiating logging to factsheet for run_id......f29107bcc68a4d0287739ab20ab04fba\n",
                        "2022/11/07 10:15:35 INFO : Successfully logged results to Factsheet service for run_id f29107bcc68a4d0287739ab20ab04fba under asset_id: 82a59cd0-a906-492d-8228-ff1e8c0b9fb8 and project_id : 416c3bc7-c5c2-4ec6-88fd-521714fed6bb\n",
                        "\n",
                        "\n",
                        "----------------------------------------------------------------------------------------------\n",
                        "Successfully finished linking WML Model '534bc082-3e0a-48bb-9eab-322bcf83e5e5' to Model Entry.\n",
                        "----------------------------------------------------------------------------------------------\n",
                        "\n",
                        "\n",
                        "2022/11/07 10:15:57 INFO : Initiating logging to factsheet for run_id......f29107bcc68a4d0287739ab20ab04fba\n",
                        "2022/11/07 10:15:58 INFO : Successfully logged results to Factsheet service for run_id f29107bcc68a4d0287739ab20ab04fba under asset_id: 6dbdaa71-da74-4120-b2fc-7e4b8901207c and project_id : 416c3bc7-c5c2-4ec6-88fd-521714fed6bb\n",
                        "2022/11/07 10:15:58 INFO : Initiating logging to factsheet for run_id......f29107bcc68a4d0287739ab20ab04fba\n",
                        "2022/11/07 10:15:59 INFO : Successfully logged results to Factsheet service for run_id f29107bcc68a4d0287739ab20ab04fba under asset_id: 6dbdaa71-da74-4120-b2fc-7e4b8901207c and project_id : 416c3bc7-c5c2-4ec6-88fd-521714fed6bb\n"
                    ]
                }
            ],
            "source": [
                "model_id = save_log_facts()"
            ]
        },
        {
            "cell_type": "markdown",
            "metadata": {},
            "source": [
                "## Save Params in WS Pipeline"
            ]
        },
        {
            "cell_type": "code",
            "execution_count": 28,
            "metadata": {},
            "outputs": [
                {
                    "name": "stdout",
                    "output_type": "stream",
                    "text": [
                        "Running outside of Watson Studio Pipeline - storing results in the local filesystem for testing purposes...\n",
                        "\n",
                        "  output paths:\n",
                        "    - \"auc_roc\": .ibm_watson_studio_pipelines/results/auc_roc\n",
                        "    - \"training_done\": .ibm_watson_studio_pipelines/results/training_done\n",
                        "    - \"model_name\": .ibm_watson_studio_pipelines/results/model_name\n",
                        "    - \"deployment_name\": .ibm_watson_studio_pipelines/results/deployment_name\n",
                        "    - \"model_id\": .ibm_watson_studio_pipelines/results/model_id\n",
                        "    - \"project_id\": .ibm_watson_studio_pipelines/results/project_id\n"
                    ]
                },
                {
                    "data": {
                        "text/plain": [
                            "<ibm_cloud_sdk_core.detailed_response.DetailedResponse at 0x7f2a68376d00>"
                        ]
                    },
                    "execution_count": 28,
                    "metadata": {},
                    "output_type": "execute_result"
                }
            ],
            "source": [
                "train_params = {}\n",
                "train_params['auc_roc'] = float(auc(fpr, tpr))\n",
                "train_params['training_done'] = True\n",
                "train_params['model_name'] = MODEL_NAME\n",
                "train_params['deployment_name'] = DEPLOYMENT_NAME\n",
                "train_params['model_id'] = model_id\n",
                "train_params['project_id'] = project_id\n",
                "# train_params['model_pipeline'] = \"/home/wsuser/work/model_pipeline.pkl\"\n",
                "\n",
                "pipelines_client = WSPipelines.from_apikey(apikey=apikey)\n",
                "pipelines_client.store_results(train_params)"
            ]
        },
        {
            "cell_type": "code",
            "execution_count": null,
            "metadata": {},
            "outputs": [],
            "source": []
        }
    ],
    "metadata": {
        "kernelspec": {
            "display_name": "Python 3.9",
            "language": "python",
            "name": "python3"
        },
        "language_info": {
            "codemirror_mode": {
                "name": "ipython",
                "version": 3
            },
            "file_extension": ".py",
            "mimetype": "text/x-python",
            "name": "python",
            "nbconvert_exporter": "python",
            "pygments_lexer": "ipython3",
            "version": "3.9.13"
        }
    },
    "nbformat": 4,
    "nbformat_minor": 1
}
