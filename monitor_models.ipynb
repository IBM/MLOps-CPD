{
    "cells": [
        {
            "cell_type": "markdown",
            "metadata": {
                "collapsed": true
            },
            "source": [
                "### This Notebook will push a deployed model to OpenScale for monitoring its performance on payload data\n",
                "\n",
                "### This will also configure Explainability, Fairness and Drift with appropriate thresholds."
            ]
        },
        {
            "cell_type": "markdown",
            "metadata": {},
            "source": [
                "### The following cell is a way to get the utility script required for this notebook. \n",
                "Since IBM CPD SaaS doesn't have a filesystem, this is the only reliable way to get scripts on the cloud environment. \n",
                "```\n",
                "!rm -rf MLOps-CPD && git clone --quiet -b master https://github.com/IBM/MLOps-CPD.git\n",
                "```"
            ]
        },
        {
            "cell_type": "code",
            "execution_count": 1,
            "metadata": {},
            "outputs": [],
            "source": [
                "# The code was removed by Watson Studio for sharing."
            ]
        },
        {
            "cell_type": "code",
            "execution_count": 2,
            "metadata": {},
            "outputs": [],
            "source": [
                "import os\n",
                "from datetime import datetime\n",
                "\n",
                "from ibm_cloud_sdk_core.authenticators import IAMAuthenticator,BearerTokenAuthenticator\n",
                "from ibm_watson_openscale import *\n",
                "from ibm_watson_openscale.supporting_classes.enums import *\n",
                "from ibm_watson_openscale.supporting_classes import *\n",
                "from ibm_watson_machine_learning import APIClient as wmlapiclient\n",
                "from ibm_watson_studio_pipelines import WSPipelines\n",
                "from ibm_aigov_facts_client import AIGovFactsClient\n",
                "from botocore.client import Config\n",
                "from ibm_watson_openscale.data_sets import DataSetTypes, TargetTypes\n",
                "from ibm_watson_openscale.supporting_classes.payload_record import PayloadRecord\n",
                "import ibm_boto3\n",
                "import pandas as pd\n",
                "import json"
            ]
        },
        {
            "cell_type": "markdown",
            "metadata": {},
            "source": [
                "## DECLARE PIPELINE ENV VARIABLES"
            ]
        },
        {
            "cell_type": "code",
            "execution_count": 4,
            "metadata": {},
            "outputs": [
                {
                    "ename": "KeyError",
                    "evalue": "'training_data_reference_file'",
                    "output_type": "error",
                    "traceback": [
                        "\u001b[0;31m---------------------------------------------------------------------------\u001b[0m",
                        "\u001b[0;31mKeyError\u001b[0m                                  Traceback (most recent call last)",
                        "\u001b[0;32m/tmp/wsuser/ipykernel_2096/2427739702.py\u001b[0m in \u001b[0;36m<module>\u001b[0;34m\u001b[0m\n\u001b[1;32m      8\u001b[0m \u001b[0mdeployment_id\u001b[0m \u001b[0;34m=\u001b[0m \u001b[0mos\u001b[0m\u001b[0;34m.\u001b[0m\u001b[0mgetenv\u001b[0m\u001b[0;34m(\u001b[0m\u001b[0;34m\"deployment_id\"\u001b[0m\u001b[0;34m)\u001b[0m\u001b[0;34m\u001b[0m\u001b[0;34m\u001b[0m\u001b[0m\n\u001b[1;32m      9\u001b[0m \u001b[0mproject_id\u001b[0m \u001b[0;34m=\u001b[0m \u001b[0mos\u001b[0m\u001b[0;34m.\u001b[0m\u001b[0menviron\u001b[0m\u001b[0;34m[\u001b[0m\u001b[0;34m'PROJECT_ID'\u001b[0m\u001b[0;34m]\u001b[0m\u001b[0;34m\u001b[0m\u001b[0;34m\u001b[0m\u001b[0m\n\u001b[0;32m---> 10\u001b[0;31m \u001b[0mtraining_file_name\u001b[0m \u001b[0;34m=\u001b[0m \u001b[0mos\u001b[0m\u001b[0;34m.\u001b[0m\u001b[0menviron\u001b[0m\u001b[0;34m[\u001b[0m\u001b[0;34m'training_data_reference_file'\u001b[0m\u001b[0;34m]\u001b[0m\u001b[0;34m\u001b[0m\u001b[0;34m\u001b[0m\u001b[0m\n\u001b[0m",
                        "\u001b[0;32m/opt/conda/envs/Python-3.9/lib/python3.9/os.py\u001b[0m in \u001b[0;36m__getitem__\u001b[0;34m(self, key)\u001b[0m\n\u001b[1;32m    677\u001b[0m         \u001b[0;32mexcept\u001b[0m \u001b[0mKeyError\u001b[0m\u001b[0;34m:\u001b[0m\u001b[0;34m\u001b[0m\u001b[0;34m\u001b[0m\u001b[0m\n\u001b[1;32m    678\u001b[0m             \u001b[0;31m# raise KeyError with the original key value\u001b[0m\u001b[0;34m\u001b[0m\u001b[0;34m\u001b[0m\u001b[0m\n\u001b[0;32m--> 679\u001b[0;31m             \u001b[0;32mraise\u001b[0m \u001b[0mKeyError\u001b[0m\u001b[0;34m(\u001b[0m\u001b[0mkey\u001b[0m\u001b[0;34m)\u001b[0m \u001b[0;32mfrom\u001b[0m \u001b[0;32mNone\u001b[0m\u001b[0;34m\u001b[0m\u001b[0;34m\u001b[0m\u001b[0m\n\u001b[0m\u001b[1;32m    680\u001b[0m         \u001b[0;32mreturn\u001b[0m \u001b[0mself\u001b[0m\u001b[0;34m.\u001b[0m\u001b[0mdecodevalue\u001b[0m\u001b[0;34m(\u001b[0m\u001b[0mvalue\u001b[0m\u001b[0;34m)\u001b[0m\u001b[0;34m\u001b[0m\u001b[0;34m\u001b[0m\u001b[0m\n\u001b[1;32m    681\u001b[0m \u001b[0;34m\u001b[0m\u001b[0m\n",
                        "\u001b[0;31mKeyError\u001b[0m: 'training_data_reference_file'"
                    ]
                }
            ],
            "source": [
                "CLOUD_API_KEY = os.getenv(\"cloud_api_key\")\n",
                "data_mart_id = os.getenv(\"data_mart_id\")\n",
                "SPACE_ID = os.getenv(\"space_id\")\n",
                "service_provider_id = os.getenv(\"service_provider_id\")\n",
                "MODEL_NAME = os.getenv(\"model_name\")\n",
                "DEPLOYMENT_NAME = os.getenv(\"deployment_name\")\n",
                "model_id = os.getenv(\"model_id\")\n",
                "deployment_id = os.getenv(\"deployment_id\")\n",
                "project_id = os.environ['PROJECT_ID']\n",
                "training_file_name = os.environ['training_data_reference_file']"
            ]
        },
        {
            "cell_type": "markdown",
            "metadata": {},
            "source": [
                "Below hidden cells were for debugging"
            ]
        },
        {
            "cell_type": "code",
            "execution_count": 4,
            "metadata": {},
            "outputs": [],
            "source": [
                "# The code was removed by Watson Studio for sharing."
            ]
        },
        {
            "cell_type": "code",
            "execution_count": 3,
            "metadata": {},
            "outputs": [],
            "source": [
                "# The code was removed by Watson Studio for sharing."
            ]
        },
        {
            "cell_type": "markdown",
            "metadata": {},
            "source": [
                "## CREDENTIALS"
            ]
        },
        {
            "cell_type": "markdown",
            "metadata": {},
            "source": [
                "### Load the validated training and test data from IBM COS \n",
                "\n",
                "```\n",
                "## PROJECT COS \n",
                "AUTH_ENDPOINT = \"https://iam.cloud.ibm.com/oidc/token\"\n",
                "ENDPOINT_URL = \"https://s3.private.us.cloud-object-storage.appdomain.cloud\"\n",
                "API_KEY_COS = \"xxx\"\n",
                "BUCKET_PROJECT_COS = \"mlops-donotdelete-pr-qxxcecxi1dtw94\"\n",
                "\n",
                "\n",
                "##MLOPS COS\n",
                "ENDPOINT_URL_MLOPS = \"https://s3.jp-tok.cloud-object-storage.appdomain.cloud\"\n",
                "API_KEY_MLOPS = \"xxx\"\n",
                "CRN_MLOPS = \"xxx\"\n",
                "BUCKET_MLOPS  = \"mlops-asset\"\n",
                "```"
            ]
        },
        {
            "cell_type": "code",
            "execution_count": 4,
            "metadata": {},
            "outputs": [],
            "source": [
                "# The code was removed by Watson Studio for sharing."
            ]
        },
        {
            "cell_type": "markdown",
            "metadata": {},
            "source": [
                "## Authenticate and Instantiate"
            ]
        },
        {
            "cell_type": "code",
            "execution_count": 5,
            "metadata": {},
            "outputs": [
                {
                    "data": {
                        "text/plain": [
                            "'3.0.2'"
                        ]
                    },
                    "execution_count": 5,
                    "metadata": {},
                    "output_type": "execute_result"
                }
            ],
            "source": [
                "authenticator = IAMAuthenticator(apikey=CLOUD_API_KEY)\n",
                "wos_client = APIClient(authenticator=authenticator,service_instance_id=data_mart_id)\n",
                "wos_client.version"
            ]
        },
        {
            "cell_type": "code",
            "execution_count": 6,
            "metadata": {},
            "outputs": [],
            "source": [
                "def read_data_from_mlops_cos(key,json=False):\n",
                "    def __iter__(self): return 0\n",
                "    MLOPS_DATA_STORE_client = ibm_boto3.client(\n",
                "        service_name='s3',\n",
                "        ibm_api_key_id=API_KEY_MLOPS,\n",
                "        ibm_service_instance_id=CRN_MLOPS,\n",
                "        ibm_auth_endpoint=AUTH_ENDPOINT,\n",
                "        config=Config(signature_version='oauth'),\n",
                "        endpoint_url=ENDPOINT_URL_MLOPS)\n",
                "\n",
                "    body = MLOPS_DATA_STORE_client.get_object(Bucket='mlops-asset', Key=key)['Body']\n",
                "    # add missing __iter__ method, so pandas accepts body as file-like object\n",
                "    if not hasattr(body, \"__iter__\"): body.__iter__ = types.MethodType( __iter__, body )\n",
                "    if json:\n",
                "        gcf_df = body\n",
                "    else:\n",
                "        gcf_df = pd.read_csv(body)\n",
                "    return gcf_df"
            ]
        },
        {
            "cell_type": "code",
            "execution_count": 7,
            "metadata": {},
            "outputs": [],
            "source": [
                "service_credentials = {\n",
                "                  \"apikey\": CLOUD_API_KEY,\n",
                "                  \"url\": \"https://api.aiopenscale.cloud.ibm.com\"\n",
                "               }"
            ]
        },
        {
            "cell_type": "markdown",
            "metadata": {},
            "source": [
                "## Add service provider"
            ]
        },
        {
            "cell_type": "code",
            "execution_count": 8,
            "metadata": {},
            "outputs": [],
            "source": [
                "WML_CREDENTIALS = {\n",
                "                   \"url\": \"https://us-south.ml.cloud.ibm.com\",\n",
                "                   \"apikey\": CLOUD_API_KEY\n",
                "            }"
            ]
        },
        {
            "cell_type": "code",
            "execution_count": 33,
            "metadata": {
                "scrolled": true
            },
            "outputs": [
                {
                    "data": {
                        "text/html": [
                            "<HTML>\n",
                            "        <body>\n",
                            "            <h3>Service Providers</h3>\n",
                            "            <table style='border: 1px solid #dddddd; font-family: Courier'>\n",
                            "                <th style='border: 1px solid #dddddd'>instance_id</th><th style='border: 1px solid #dddddd'>status</th><th style='border: 1px solid #dddddd'>name</th><th style='border: 1px solid #dddddd'>service_type</th><th style='border: 1px solid #dddddd'>created_at</th><th style='border: 1px solid #dddddd'>id</th>\n",
                            "                <tr><td style='border: 1px solid #dddddd'>f57daee6-f7bf-430d-b517-3f599d67aea2</td><td style='border: 1px solid #dddddd'>active</td><td style='border: 1px solid #dddddd'>MLOps_Prod</td><td style='border: 1px solid #dddddd'>watson_machine_learning</td><td style='border: 1px solid #dddddd'>2022-11-10 10:25:25.573000+00:00</td><td style='border: 1px solid #dddddd'>7bea2e10-8fb7-48d1-b510-2c318a05fdda</td></tr><tr><td style='border: 1px solid #dddddd'>f57daee6-f7bf-430d-b517-3f599d67aea2</td><td style='border: 1px solid #dddddd'>active</td><td style='border: 1px solid #dddddd'>MLOps_Dev</td><td style='border: 1px solid #dddddd'>watson_machine_learning</td><td style='border: 1px solid #dddddd'>2022-10-27 02:45:36.848000+00:00</td><td style='border: 1px solid #dddddd'>dc367464-dbf3-47cb-b0ef-1bbeb3aa592b</td></tr><tr><td style='border: 1px solid #dddddd'>f57daee6-f7bf-430d-b517-3f599d67aea2</td><td style='border: 1px solid #dddddd'>active</td><td style='border: 1px solid #dddddd'>MLOps_Preprod</td><td style='border: 1px solid #dddddd'>watson_machine_learning</td><td style='border: 1px solid #dddddd'>2022-11-04 03:54:05.894000+00:00</td><td style='border: 1px solid #dddddd'>376bd028-15f3-4de5-b16b-6e1628db5753</td></tr><tr><td style='border: 1px solid #dddddd'>f57daee6-f7bf-430d-b517-3f599d67aea2</td><td style='border: 1px solid #dddddd'>active</td><td style='border: 1px solid #dddddd'>WOS ExpressPath WML pre_production binding</td><td style='border: 1px solid #dddddd'>watson_machine_learning</td><td style='border: 1px solid #dddddd'>2022-10-24 11:24:20.177000+00:00</td><td style='border: 1px solid #dddddd'>5866e8e4-1a3f-4b89-8532-bace897bf69d</td></tr><tr><td style='border: 1px solid #dddddd'>f57daee6-f7bf-430d-b517-3f599d67aea2</td><td style='border: 1px solid #dddddd'>active</td><td style='border: 1px solid #dddddd'>WOS ExpressPath WML production binding</td><td style='border: 1px solid #dddddd'>watson_machine_learning</td><td style='border: 1px solid #dddddd'>2022-10-24 11:24:04.573000+00:00</td><td style='border: 1px solid #dddddd'>1cb9b1c5-c215-48c9-986f-7fb071ba0633</td></tr>\n",
                            "            </table>\n",
                            "        </body>\n",
                            "        </HTML>"
                        ],
                        "text/plain": [
                            "<IPython.core.display.HTML object>"
                        ]
                    },
                    "metadata": {},
                    "output_type": "display_data"
                }
            ],
            "source": [
                "wos_client.service_providers.show()"
            ]
        },
        {
            "cell_type": "markdown",
            "metadata": {},
            "source": [
                "## Determine if the deployment is in Prod Environment"
            ]
        },
        {
            "cell_type": "code",
            "execution_count": 34,
            "metadata": {
                "scrolled": true
            },
            "outputs": [],
            "source": [
                "service_providers = wos_client.service_providers.list().result.service_providers"
            ]
        },
        {
            "cell_type": "markdown",
            "metadata": {},
            "source": [
                "Check the tag for the service provider"
            ]
        },
        {
            "cell_type": "code",
            "execution_count": 35,
            "metadata": {},
            "outputs": [
                {
                    "name": "stdout",
                    "output_type": "stream",
                    "text": [
                        "The deployed model is in production environment: True\n"
                    ]
                }
            ],
            "source": [
                "PROD_DEPLOYMENT = False\n",
                "for service_provider in service_providers:\n",
                "    deployment_space_id = service_provider.entity.deployment_space_id\n",
                "    if deployment_space_id == SPACE_ID and service_provider.entity.operational_space_id == \"production\":\n",
                "        PROD_DEPLOYMENT = True\n",
                "print('The deployed model is in production environment:', PROD_DEPLOYMENT)"
            ]
        },
        {
            "cell_type": "markdown",
            "metadata": {},
            "source": [
                "## Remove existing credit risk subscriptions"
            ]
        },
        {
            "cell_type": "code",
            "execution_count": 36,
            "metadata": {},
            "outputs": [
                {
                    "data": {
                        "text/plain": [
                            "'SUCCESS'"
                        ]
                    },
                    "execution_count": 36,
                    "metadata": {},
                    "output_type": "execute_result"
                }
            ],
            "source": [
                "wml_client = wmlapiclient(WML_CREDENTIALS)\n",
                "wml_client.set.default_space(SPACE_ID)"
            ]
        },
        {
            "cell_type": "code",
            "execution_count": 37,
            "metadata": {},
            "outputs": [
                {
                    "name": "stdout",
                    "output_type": "stream",
                    "text": [
                        "------------------------------------  -----------------  ------------------------  ----------------  -----\n",
                        "GUID                                  NAME               CREATED                   FRAMEWORK         TYPE\n",
                        "0fb9a075-41dc-42af-ab5c-0e779d3238d1  Credit_Risk_Model  2022-11-23T11:56:31.002Z  scikit-learn_1.0  model\n",
                        "b30027f1-fa9a-46bc-b1c1-66b09023bb11  Credit_Risk_Model  2022-11-18T18:07:44.002Z  scikit-learn_1.0  model\n",
                        "------------------------------------  -----------------  ------------------------  ----------------  -----\n"
                    ]
                }
            ],
            "source": [
                "wml_client.repository.list()"
            ]
        },
        {
            "cell_type": "code",
            "execution_count": 38,
            "metadata": {},
            "outputs": [
                {
                    "name": "stdout",
                    "output_type": "stream",
                    "text": [
                        "Deleted existing subscription for model 0fb9a075-41dc-42af-ab5c-0e779d3238d1\n"
                    ]
                }
            ],
            "source": [
                "subscriptions = wos_client.subscriptions.list().result.subscriptions\n",
                "for subscription in subscriptions:\n",
                "    sub_model_id = subscription.entity.asset.asset_id\n",
                "    if sub_model_id == model_id:\n",
                "        wos_client.subscriptions.delete(subscription.metadata.id)\n",
                "        print(\"Deleted existing subscription for model\", sub_model_id)"
            ]
        },
        {
            "cell_type": "markdown",
            "metadata": {},
            "source": [
                "### Get Model Details"
            ]
        },
        {
            "cell_type": "code",
            "execution_count": 39,
            "metadata": {},
            "outputs": [
                {
                    "name": "stdout",
                    "output_type": "stream",
                    "text": [
                        "e11f6fbb-3acb-4fba-98e9-cdbf7c25123a https://us-south.ml.cloud.ibm.com/ml/v4/deployments/e11f6fbb-3acb-4fba-98e9-cdbf7c25123a/predictions\n"
                    ]
                },
                {
                    "data": {
                        "text/plain": [
                            "{'entity': {'custom': {'experiment_id': '2075160f69654a6f8256c13a75a5810e',\n",
                            "   'experiment_name': 'CreditRiskModel'},\n",
                            "  'hybrid_pipeline_software_specs': [],\n",
                            "  'label_column': 'Risk',\n",
                            "  'schemas': {'input': [{'fields': [{'name': 'LoanAmount', 'type': 'int64'},\n",
                            "      {'name': 'InstallmentPercent', 'type': 'int64'},\n",
                            "      {'name': 'LoanDuration', 'type': 'int64'},\n",
                            "      {'name': 'Age', 'type': 'int64'},\n",
                            "      {'name': 'CurrentResidenceDuration', 'type': 'int64'},\n",
                            "      {'name': 'ExistingCreditsCount', 'type': 'int64'},\n",
                            "      {'name': 'Dependents', 'type': 'int64'},\n",
                            "      {'name': 'CheckingStatus', 'type': 'object'},\n",
                            "      {'name': 'ExistingSavings', 'type': 'object'},\n",
                            "      {'name': 'OwnsProperty', 'type': 'object'},\n",
                            "      {'name': 'EmploymentDuration', 'type': 'object'},\n",
                            "      {'name': 'OthersOnLoan', 'type': 'object'},\n",
                            "      {'name': 'Telephone', 'type': 'object'},\n",
                            "      {'name': 'CreditHistory', 'type': 'object'},\n",
                            "      {'name': 'LoanPurpose', 'type': 'object'},\n",
                            "      {'name': 'Housing', 'type': 'object'},\n",
                            "      {'name': 'Job', 'type': 'object'},\n",
                            "      {'name': 'Sex', 'type': 'object'}],\n",
                            "     'id': 'input_data_schema',\n",
                            "     'type': 'list'}],\n",
                            "   'output': []},\n",
                            "  'software_spec': {'id': '12b83a17-24d8-5082-900f-0ab31fbfd3cb',\n",
                            "   'name': 'runtime-22.1-py3.9'},\n",
                            "  'training_data_references': [{'connection': {'href': '/v2/connections/14b37c72-91d2-48e5-8ff0-eee229e0d768?space_id=Credit_Risk_Model',\n",
                            "     'id': '14b37c72-91d2-48e5-8ff0-eee229e0d768'},\n",
                            "    'id': 'German Credit Risk',\n",
                            "    'location': {'bucket': 'mlops-asset',\n",
                            "     'file_name': 'german_credit_risk.csv'},\n",
                            "    'schema': {'fields': [{'name': 'LoanAmount', 'type': 'int64'},\n",
                            "      {'name': 'InstallmentPercent', 'type': 'int64'},\n",
                            "      {'name': 'LoanDuration', 'type': 'int64'},\n",
                            "      {'name': 'Age', 'type': 'int64'},\n",
                            "      {'name': 'CurrentResidenceDuration', 'type': 'int64'},\n",
                            "      {'name': 'ExistingCreditsCount', 'type': 'int64'},\n",
                            "      {'name': 'Dependents', 'type': 'int64'},\n",
                            "      {'name': 'CheckingStatus', 'type': 'object'},\n",
                            "      {'name': 'ExistingSavings', 'type': 'object'},\n",
                            "      {'name': 'OwnsProperty', 'type': 'object'},\n",
                            "      {'name': 'EmploymentDuration', 'type': 'object'},\n",
                            "      {'name': 'OthersOnLoan', 'type': 'object'},\n",
                            "      {'name': 'Telephone', 'type': 'object'},\n",
                            "      {'name': 'CreditHistory', 'type': 'object'},\n",
                            "      {'name': 'LoanPurpose', 'type': 'object'},\n",
                            "      {'name': 'Housing', 'type': 'object'},\n",
                            "      {'name': 'Job', 'type': 'object'},\n",
                            "      {'name': 'Sex', 'type': 'object'}],\n",
                            "     'id': '1',\n",
                            "     'type': 'DataFrame'},\n",
                            "    'type': 'connection_asset'}],\n",
                            "  'type': 'scikit-learn_1.0'},\n",
                            " 'metadata': {'created_at': '2022-11-23T11:56:31.963Z',\n",
                            "  'id': '0fb9a075-41dc-42af-ab5c-0e779d3238d1',\n",
                            "  'modified_at': '2022-11-27T16:48:30.445Z',\n",
                            "  'name': 'Credit_Risk_Model',\n",
                            "  'owner': 'IBMid-55000171WW',\n",
                            "  'resource_key': 'cb41769d-08c7-4b2d-b954-496288d0b290',\n",
                            "  'space_id': 'abdd0e16-678d-429e-9f7a-46c576ae5a23'},\n",
                            " 'system': {'warnings': []}}"
                        ]
                    },
                    "execution_count": 39,
                    "metadata": {},
                    "output_type": "execute_result"
                }
            ],
            "source": [
                "# # DEPLOYMENT_NAME ='GCR_Model_DEPLOYMENT_NAME'\n",
                "\n",
                "# #deployment_id = [model['metadata']['id'] for model in wml_client.deployments.get_details()['resources'] if model['metadata']['name']==DEPLOYMENT_NAME][-1]\n",
                "\n",
                "deployment_id\n",
                "\n",
                "deployment_url = [deployment[\"entity\"][\"status\"][\"online_url\"][\"url\"] for deployment in wml_client.deployments.get_details()['resources'] if deployment['metadata']['name']==DEPLOYMENT_NAME][-1]\n",
                "print(deployment_id,deployment_url)\n",
                "\n",
                "\n",
                "published_model_details = wml_client.repository.get_details(model_id)\n",
                "published_model_details\n",
                "\n",
                "# wml_client.deployments.get_details()"
            ]
        },
        {
            "cell_type": "markdown",
            "metadata": {},
            "source": [
                "## Prepare Eval Data"
            ]
        },
        {
            "cell_type": "code",
            "execution_count": 40,
            "metadata": {},
            "outputs": [
                {
                    "data": {
                        "text/plain": [
                            "(['Job',\n",
                            "  'Telephone',\n",
                            "  'CreditHistory',\n",
                            "  'CheckingStatus',\n",
                            "  'Housing',\n",
                            "  'ExistingSavings',\n",
                            "  'OthersOnLoan',\n",
                            "  'LoanPurpose',\n",
                            "  'OwnsProperty',\n",
                            "  'EmploymentDuration',\n",
                            "  'Sex'],\n",
                            " ['LoanAmount',\n",
                            "  'InstallmentPercent',\n",
                            "  'LoanDuration',\n",
                            "  'Age',\n",
                            "  'CurrentResidenceDuration',\n",
                            "  'ExistingCreditsCount',\n",
                            "  'Dependents',\n",
                            "  'Job',\n",
                            "  'Telephone',\n",
                            "  'CreditHistory',\n",
                            "  'CheckingStatus',\n",
                            "  'Housing',\n",
                            "  'ExistingSavings',\n",
                            "  'OthersOnLoan',\n",
                            "  'LoanPurpose',\n",
                            "  'OwnsProperty',\n",
                            "  'EmploymentDuration',\n",
                            "  'Sex'])"
                        ]
                    },
                    "execution_count": 40,
                    "metadata": {},
                    "output_type": "execute_result"
                }
            ],
            "source": [
                "test_data = read_data_from_mlops_cos('test_tfr.csv')\n",
                "test_data = test_data.drop('Risk',axis=1)\n",
                "features = test_data.columns.tolist()\n",
                "categorical = test_data.select_dtypes('O').columns.tolist()\n",
                "categorical, features"
            ]
        },
        {
            "cell_type": "markdown",
            "metadata": {},
            "source": [
                "## Create the model subscription in OpenScale"
            ]
        },
        {
            "cell_type": "code",
            "execution_count": 41,
            "metadata": {},
            "outputs": [],
            "source": [
                "asset = Asset(\n",
                "    asset_id=model_id,\n",
                "    url=deployment_url,\n",
                "    asset_type=AssetTypes.MODEL,\n",
                "    input_data_type=InputDataType.STRUCTURED,\n",
                "    problem_type=ProblemType.BINARY_CLASSIFICATION,\n",
                "    name=MODEL_NAME\n",
                ")\n",
                "asset_deployment = AssetDeploymentRequest(\n",
                "    deployment_id=deployment_id,\n",
                "    name=DEPLOYMENT_NAME,\n",
                "    deployment_type=DeploymentTypes.ONLINE,\n",
                "    url=deployment_url\n",
                ")\n",
                "training_data_reference = TrainingDataReference(\n",
                "    type=\"cos\",\n",
                "    location=COSTrainingDataReferenceLocation(\n",
                "        bucket=BUCKET_MLOPS,\n",
                "        file_name=training_file_name\n",
                "    ),\n",
                "    connection=COSTrainingDataReferenceConnection.from_dict(\n",
                "        {\n",
                "            \"resource_instance_id\": CRN_MLOPS,\n",
                "            \"url\": ENDPOINT_URL_MLOPS,\n",
                "            \"api_key\": API_KEY_MLOPS,\n",
                "            \"iam_url\": \"https://iam.bluemix.net/oidc/token\"\n",
                "        }\n",
                "    )\n",
                ")\n",
                "\n",
                "asset_properties_request = AssetPropertiesRequest(\n",
                "    label_column=\"Risk\",\n",
                "    probability_fields=[\"probability\"],\n",
                "    prediction_field=\"prediction\",\n",
                "    feature_fields= features,\n",
                "    categorical_fields= categorical,\n",
                "    training_data_reference=training_data_reference,\n",
                "    #training_data_schema=SparkStruct.from_dict(model_asset_details_from_deployment[\"entity\"][\"asset_properties\"][\"training_data_schema\"])\n",
                "    )"
            ]
        },
        {
            "cell_type": "code",
            "execution_count": 42,
            "metadata": {
                "scrolled": false
            },
            "outputs": [
                {
                    "name": "stdout",
                    "output_type": "stream",
                    "text": [
                        "\n",
                        "\n",
                        "=============================================================================\n",
                        "\n",
                        " Waiting for end of adding subscription 5a18eba3-bc74-45c4-bee6-4579f105b0d2 \n",
                        "\n",
                        "=============================================================================\n",
                        "\n",
                        "\n",
                        "\n",
                        "active\n",
                        "\n",
                        "-------------------------------------------\n",
                        " Successfully finished adding subscription \n",
                        "-------------------------------------------\n",
                        "\n",
                        "\n",
                        "{\n",
                        "  \"metadata\": {\n",
                        "    \"id\": \"5a18eba3-bc74-45c4-bee6-4579f105b0d2\",\n",
                        "    \"crn\": \"crn:v1:bluemix:public:aiopenscale:us-south:a/27ff418fedd6aedffb8dc6ae4164a1d2:7ec1ce0f-e784-4b7d-9bb0-ff1430b3fa86:subscription:5a18eba3-bc74-45c4-bee6-4579f105b0d2\",\n",
                        "    \"url\": \"/v2/subscriptions/5a18eba3-bc74-45c4-bee6-4579f105b0d2\",\n",
                        "    \"created_at\": \"2022-11-27T16:58:17.809000Z\",\n",
                        "    \"created_by\": \"IBMid-55000171WW\"\n",
                        "  },\n",
                        "  \"entity\": {\n",
                        "    \"data_mart_id\": \"7ec1ce0f-e784-4b7d-9bb0-ff1430b3fa86\",\n",
                        "    \"service_provider_id\": \"7bea2e10-8fb7-48d1-b510-2c318a05fdda\",\n",
                        "    \"asset\": {\n",
                        "      \"asset_id\": \"0fb9a075-41dc-42af-ab5c-0e779d3238d1\",\n",
                        "      \"url\": \"https://us-south.ml.cloud.ibm.com/ml/v4/deployments/e11f6fbb-3acb-4fba-98e9-cdbf7c25123a/predictions\",\n",
                        "      \"name\": \"Credit_Risk_Model\",\n",
                        "      \"asset_type\": \"model\",\n",
                        "      \"problem_type\": \"binary\",\n",
                        "      \"input_data_type\": \"structured\"\n",
                        "    },\n",
                        "    \"asset_properties\": {\n",
                        "      \"training_data_reference\": {\n",
                        "        \"secret_id\": \"579714c2-a48b-471e-9d0d-8c805585c0af\"\n",
                        "      },\n",
                        "      \"output_data_schema\": {\n",
                        "        \"type\": \"struct\",\n",
                        "        \"fields\": [\n",
                        "          {\n",
                        "            \"metadata\": {\n",
                        "              \"modeling_role\": \"record-id\",\n",
                        "              \"primary_key\": true\n",
                        "            },\n",
                        "            \"name\": \"scoring_id\",\n",
                        "            \"nullable\": false,\n",
                        "            \"type\": \"string\"\n",
                        "          },\n",
                        "          {\n",
                        "            \"metadata\": {\n",
                        "              \"modeling_role\": \"record-timestamp\"\n",
                        "            },\n",
                        "            \"name\": \"scoring_timestamp\",\n",
                        "            \"nullable\": false,\n",
                        "            \"type\": \"timestamp\"\n",
                        "          },\n",
                        "          {\n",
                        "            \"metadata\": {},\n",
                        "            \"name\": \"deployment_id\",\n",
                        "            \"nullable\": false,\n",
                        "            \"type\": \"string\"\n",
                        "          },\n",
                        "          {\n",
                        "            \"metadata\": {},\n",
                        "            \"name\": \"asset_revision\",\n",
                        "            \"nullable\": true,\n",
                        "            \"type\": \"string\"\n",
                        "          }\n",
                        "        ]\n",
                        "      },\n",
                        "      \"label_column\": \"Risk\",\n",
                        "      \"prediction_field\": \"prediction\",\n",
                        "      \"feature_fields\": [\n",
                        "        \"LoanAmount\",\n",
                        "        \"InstallmentPercent\",\n",
                        "        \"LoanDuration\",\n",
                        "        \"Age\",\n",
                        "        \"CurrentResidenceDuration\",\n",
                        "        \"ExistingCreditsCount\",\n",
                        "        \"Dependents\",\n",
                        "        \"Job\",\n",
                        "        \"Telephone\",\n",
                        "        \"CreditHistory\",\n",
                        "        \"CheckingStatus\",\n",
                        "        \"Housing\",\n",
                        "        \"ExistingSavings\",\n",
                        "        \"OthersOnLoan\",\n",
                        "        \"LoanPurpose\",\n",
                        "        \"OwnsProperty\",\n",
                        "        \"EmploymentDuration\",\n",
                        "        \"Sex\"\n",
                        "      ],\n",
                        "      \"categorical_fields\": [\n",
                        "        \"Job\",\n",
                        "        \"Telephone\",\n",
                        "        \"CreditHistory\",\n",
                        "        \"CheckingStatus\",\n",
                        "        \"Housing\",\n",
                        "        \"ExistingSavings\",\n",
                        "        \"OthersOnLoan\",\n",
                        "        \"LoanPurpose\",\n",
                        "        \"OwnsProperty\",\n",
                        "        \"EmploymentDuration\",\n",
                        "        \"Sex\"\n",
                        "      ],\n",
                        "      \"probability_fields\": [\n",
                        "        \"probability\"\n",
                        "      ]\n",
                        "    },\n",
                        "    \"deployment\": {\n",
                        "      \"deployment_id\": \"e11f6fbb-3acb-4fba-98e9-cdbf7c25123a\",\n",
                        "      \"url\": \"https://us-south.ml.cloud.ibm.com/ml/v4/deployments/e11f6fbb-3acb-4fba-98e9-cdbf7c25123a/predictions\",\n",
                        "      \"name\": \"Credit_Risk_Model_Deploy_Prod\",\n",
                        "      \"deployment_type\": \"online\"\n",
                        "    },\n",
                        "    \"status\": {\n",
                        "      \"state\": \"active\"\n",
                        "    }\n",
                        "  }\n",
                        "}\n"
                    ]
                }
            ],
            "source": [
                "subscription_details = wos_client.subscriptions.add(\n",
                "        data_mart_id=data_mart_id,\n",
                "        service_provider_id=service_provider_id,\n",
                "        asset=asset,\n",
                "        deployment=asset_deployment,\n",
                "        asset_properties=asset_properties_request,background_mode = False).result\n",
                "subscription_id = subscription_details.metadata.id\n",
                "print(subscription_details)"
            ]
        },
        {
            "cell_type": "markdown",
            "metadata": {},
            "source": [
                "## Verify the Subscription Registration"
            ]
        },
        {
            "cell_type": "code",
            "execution_count": 43,
            "metadata": {},
            "outputs": [
                {
                    "data": {
                        "text/html": [
                            "<HTML>\n",
                            "        <body>\n",
                            "            <h3>Subscriptions</h3>\n",
                            "            <table style='border: 1px solid #dddddd; font-family: Courier'>\n",
                            "                <th style='border: 1px solid #dddddd'>asset_id</th><th style='border: 1px solid #dddddd'>asset_name</th><th style='border: 1px solid #dddddd'>data_mart_id</th><th style='border: 1px solid #dddddd'>deployment_id</th><th style='border: 1px solid #dddddd'>deployment_name</th><th style='border: 1px solid #dddddd'>service_provider_id</th><th style='border: 1px solid #dddddd'>status</th><th style='border: 1px solid #dddddd'>created_at</th><th style='border: 1px solid #dddddd'>id</th>\n",
                            "                <tr><td style='border: 1px solid #dddddd'>0fb9a075-41dc-42af-ab5c-0e779d3238d1</td><td style='border: 1px solid #dddddd'>Credit_Risk_Model</td><td style='border: 1px solid #dddddd'>7ec1ce0f-e784-4b7d-9bb0-ff1430b3fa86</td><td style='border: 1px solid #dddddd'>e11f6fbb-3acb-4fba-98e9-cdbf7c25123a</td><td style='border: 1px solid #dddddd'>Credit_Risk_Model_Deploy_Prod</td><td style='border: 1px solid #dddddd'>7bea2e10-8fb7-48d1-b510-2c318a05fdda</td><td style='border: 1px solid #dddddd'>active</td><td style='border: 1px solid #dddddd'>2022-11-27 16:58:17.809000+00:00</td><td style='border: 1px solid #dddddd'>5a18eba3-bc74-45c4-bee6-4579f105b0d2</td></tr><tr><td style='border: 1px solid #dddddd'>b30027f1-fa9a-46bc-b1c1-66b09023bb11</td><td style='border: 1px solid #dddddd'>Credit_Risk_Model</td><td style='border: 1px solid #dddddd'>7ec1ce0f-e784-4b7d-9bb0-ff1430b3fa86</td><td style='border: 1px solid #dddddd'>c7905e1e-9595-495d-b23d-11fb3f034901</td><td style='border: 1px solid #dddddd'>Credit_Risk_Model_Deploy_Prod</td><td style='border: 1px solid #dddddd'>7bea2e10-8fb7-48d1-b510-2c318a05fdda</td><td style='border: 1px solid #dddddd'>active</td><td style='border: 1px solid #dddddd'>2022-11-18 18:19:41.033000+00:00</td><td style='border: 1px solid #dddddd'>1099b18d-5e9d-4cb1-9ab4-287d0b0b3185</td></tr><tr><td style='border: 1px solid #dddddd'>1981752e-c039-465b-88a8-9084792dbc85</td><td style='border: 1px solid #dddddd'>Credit_Risk_Model</td><td style='border: 1px solid #dddddd'>7ec1ce0f-e784-4b7d-9bb0-ff1430b3fa86</td><td style='border: 1px solid #dddddd'>b84ef29f-269d-4bd4-b253-e9a9d3cc324c</td><td style='border: 1px solid #dddddd'>Credit_Risk_Model_Deploy</td><td style='border: 1px solid #dddddd'>376bd028-15f3-4de5-b16b-6e1628db5753</td><td style='border: 1px solid #dddddd'>active</td><td style='border: 1px solid #dddddd'>2022-11-09 07:03:42.156000+00:00</td><td style='border: 1px solid #dddddd'>fa0f35e4-9459-4bb9-9316-ba44aae12838</td></tr><tr><td style='border: 1px solid #dddddd'>fbca68f1-6b85-41ae-9228-6ab6e7fe4519</td><td style='border: 1px solid #dddddd'>GermanCreditRiskModelChallenger</td><td style='border: 1px solid #dddddd'>7ec1ce0f-e784-4b7d-9bb0-ff1430b3fa86</td><td style='border: 1px solid #dddddd'>1727be2e-13b0-4cc6-a304-5009cbf61f75</td><td style='border: 1px solid #dddddd'>GermanCreditRiskModelChallenger</td><td style='border: 1px solid #dddddd'>5866e8e4-1a3f-4b89-8532-bace897bf69d</td><td style='border: 1px solid #dddddd'>active</td><td style='border: 1px solid #dddddd'>2022-10-24 11:24:48.495000+00:00</td><td style='border: 1px solid #dddddd'>7bf14e1e-08e4-437c-9224-d2441c1032e3</td></tr><tr><td style='border: 1px solid #dddddd'>aa3d5b3e-07e5-4e51-9ab3-5c5678aef6b0</td><td style='border: 1px solid #dddddd'>GermanCreditRiskModel</td><td style='border: 1px solid #dddddd'>7ec1ce0f-e784-4b7d-9bb0-ff1430b3fa86</td><td style='border: 1px solid #dddddd'>776017b5-1c1a-49c3-98e5-5ea34d1d21dd</td><td style='border: 1px solid #dddddd'>GermanCreditRiskModel</td><td style='border: 1px solid #dddddd'>1cb9b1c5-c215-48c9-986f-7fb071ba0633</td><td style='border: 1px solid #dddddd'>active</td><td style='border: 1px solid #dddddd'>2022-10-24 11:27:55.038000+00:00</td><td style='border: 1px solid #dddddd'>c26c3010-7f21-4726-8102-2e361e299084</td></tr><tr><td style='border: 1px solid #dddddd'>a0557e37-3857-4c5a-bf76-34acbb753995</td><td style='border: 1px solid #dddddd'>GermanCreditRiskModelPreProd</td><td style='border: 1px solid #dddddd'>7ec1ce0f-e784-4b7d-9bb0-ff1430b3fa86</td><td style='border: 1px solid #dddddd'>cafc6363-a437-427e-a1d6-cfb5bd144da3</td><td style='border: 1px solid #dddddd'>GermanCreditRiskModelPreProd</td><td style='border: 1px solid #dddddd'>5866e8e4-1a3f-4b89-8532-bace897bf69d</td><td style='border: 1px solid #dddddd'>active</td><td style='border: 1px solid #dddddd'>2022-10-24 11:26:16.311000+00:00</td><td style='border: 1px solid #dddddd'>a935561c-4aca-4830-9e2f-bb874a0f0c53</td></tr>\n",
                            "            </table>\n",
                            "        </body>\n",
                            "        </HTML>"
                        ],
                        "text/plain": [
                            "<IPython.core.display.HTML object>"
                        ]
                    },
                    "metadata": {},
                    "output_type": "display_data"
                }
            ],
            "source": [
                "wos_client.subscriptions.show()"
            ]
        },
        {
            "cell_type": "markdown",
            "metadata": {},
            "source": [
                "## Get Payload Data ID"
            ]
        },
        {
            "cell_type": "code",
            "execution_count": 44,
            "metadata": {},
            "outputs": [
                {
                    "name": "stdout",
                    "output_type": "stream",
                    "text": [
                        "Payload data set id: aeb8723b-8af7-424e-9e2b-7fdd120094be\n"
                    ]
                }
            ],
            "source": [
                "import time\n",
                "\n",
                "time.sleep(5)\n",
                "payload_data_set_id = None\n",
                "payload_data_set_id = wos_client.data_sets.list(type=DataSetTypes.PAYLOAD_LOGGING, \n",
                "                                                target_target_id=subscription_id, \n",
                "                                                target_target_type=TargetTypes.SUBSCRIPTION).result.data_sets[0].metadata.id\n",
                "if payload_data_set_id is None:\n",
                "    print(\"Payload data set not found. Please check subscription status.\")\n",
                "else:\n",
                "    print(\"Payload data set id:\", payload_data_set_id)"
            ]
        },
        {
            "cell_type": "markdown",
            "metadata": {},
            "source": [
                "## Score the WML Endpoint"
            ]
        },
        {
            "cell_type": "code",
            "execution_count": 45,
            "metadata": {},
            "outputs": [],
            "source": [
                "payload_data = read_data_from_mlops_cos('test_tfr.csv')"
            ]
        },
        {
            "cell_type": "code",
            "execution_count": 46,
            "metadata": {},
            "outputs": [],
            "source": [
                "payload_data = payload_data.drop('Risk',axis=1)\n",
                "fields = payload_data.columns.tolist()\n",
                "values = [payload_data.values.tolist()[0]]"
            ]
        },
        {
            "cell_type": "code",
            "execution_count": 47,
            "metadata": {},
            "outputs": [
                {
                    "data": {
                        "text/plain": [
                            "'{\"input_data\": [{\"fields\": [\"LoanAmount\", \"InstallmentPercent\", \"LoanDuration\", \"Age\", \"CurrentResidenceDuration\", \"ExistingCreditsCount\", \"Dependents\", \"Job\", \"Telephone\", \"CreditHistory\", \"CheckingStatus\", \"Housing\", \"ExistingSavings\", \"OthersOnLoan\", \"LoanPurpose\", \"OwnsProperty\", \"EmploymentDuration\", \"Sex\"], \"values\": [[6154, 3, 23, 52, 3, 2, 1, \"skilled\", \"none\", \"prior_payments_delayed\", \"0_to_200\", \"own\", \"less_100\", \"none\", \"radio_tv\", \"unknown\", \"greater_7\", \"female\"]]}]}'"
                        ]
                    },
                    "execution_count": 47,
                    "metadata": {},
                    "output_type": "execute_result"
                }
            ],
            "source": [
                "payload_scoring = {\"input_data\": [{\"fields\": fields, \"values\": values}]}\n",
                "json.dumps(payload_scoring)"
            ]
        },
        {
            "cell_type": "code",
            "execution_count": 48,
            "metadata": {},
            "outputs": [
                {
                    "name": "stdout",
                    "output_type": "stream",
                    "text": [
                        "Single record scoring result: \n",
                        " fields: ['prediction', 'probability'] \n",
                        " values:  [1, [0.4088913828558467, 0.5911086171441533]]\n"
                    ]
                }
            ],
            "source": [
                "predictions = wml_client.deployments.score(deployment_id, payload_scoring)\n",
                "\n",
                "print(\"Single record scoring result:\", \"\\n fields:\", predictions[\"predictions\"][0][\"fields\"], \"\\n values: \", predictions[\"predictions\"][0][\"values\"][0])"
            ]
        },
        {
            "cell_type": "markdown",
            "metadata": {},
            "source": [
                "## Check if the Payload logging has taken place"
            ]
        },
        {
            "cell_type": "code",
            "execution_count": 49,
            "metadata": {},
            "outputs": [
                {
                    "name": "stdout",
                    "output_type": "stream",
                    "text": [
                        "Number of records in the payload logging table: 1\n"
                    ]
                }
            ],
            "source": [
                "import uuid\n",
                "from ibm_watson_openscale.supporting_classes.payload_record import PayloadRecord\n",
                "time.sleep(5)\n",
                "pl_records_count = wos_client.data_sets.get_records_count(payload_data_set_id)\n",
                "print(\"Number of records in the payload logging table: {}\".format(pl_records_count))\n",
                "if pl_records_count == 0:\n",
                "    print(\"Payload logging did not happen, performing explicit payload logging.\")\n",
                "    wos_client.data_sets.store_records(data_set_id=payload_data_set_id, request_body=[PayloadRecord(\n",
                "                   scoring_id=str(uuid.uuid4()),\n",
                "                   request=payload_scoring,\n",
                "                   response={\"fields\": predictions['predictions'][0]['fields'], \"values\":predictions['predictions'][0]['values']},\n",
                "                   response_time=460\n",
                "               )],background_mode = False)\n",
                "    time.sleep(5)\n",
                "    pl_records_count = wos_client.data_sets.get_records_count(payload_data_set_id)\n",
                "    print(\"Number of records in the payload logging table: {}\".format(pl_records_count))"
            ]
        },
        {
            "cell_type": "markdown",
            "metadata": {},
            "source": [
                "## Enable Monitors for the Subscription"
            ]
        },
        {
            "cell_type": "markdown",
            "metadata": {},
            "source": [
                "## Quality Monitor"
            ]
        },
        {
            "cell_type": "code",
            "execution_count": 50,
            "metadata": {},
            "outputs": [
                {
                    "name": "stdout",
                    "output_type": "stream",
                    "text": [
                        "\n",
                        "\n",
                        "===================================================================================\n",
                        "\n",
                        " Waiting for end of monitor instance creation db3655fb-1fdf-414e-975d-2c14084b9d66 \n",
                        "\n",
                        "===================================================================================\n",
                        "\n",
                        "\n",
                        "\n",
                        "active\n",
                        "\n",
                        "---------------------------------------\n",
                        " Monitor instance successfully created \n",
                        "---------------------------------------\n",
                        "\n",
                        "\n"
                    ]
                }
            ],
            "source": [
                "import time\n",
                "\n",
                "time.sleep(10)\n",
                "target = Target(\n",
                "        target_type=TargetTypes.SUBSCRIPTION,\n",
                "        target_id=subscription_id\n",
                ")\n",
                "parameters = {\n",
                "    \"min_feedback_data_size\": 100\n",
                "}\n",
                "thresholds = [\n",
                "                {\n",
                "                    \"metric_id\": \"area_under_roc\",\n",
                "                    \"type\": \"lower_limit\",\n",
                "                    \"value\": .60\n",
                "                }\n",
                "            ]\n",
                "quality_monitor_details = wos_client.monitor_instances.create(\n",
                "    data_mart_id=data_mart_id,\n",
                "    background_mode=False,\n",
                "    monitor_definition_id=wos_client.monitor_definitions.MONITORS.QUALITY.ID,\n",
                "    target=target,\n",
                "    parameters=parameters,\n",
                "    thresholds=thresholds\n",
                ").result"
            ]
        },
        {
            "cell_type": "code",
            "execution_count": 51,
            "metadata": {},
            "outputs": [
                {
                    "data": {
                        "text/plain": [
                            "'db3655fb-1fdf-414e-975d-2c14084b9d66'"
                        ]
                    },
                    "execution_count": 51,
                    "metadata": {},
                    "output_type": "execute_result"
                }
            ],
            "source": [
                "quality_monitor_instance_id = quality_monitor_details.metadata.id\n",
                "quality_monitor_instance_id"
            ]
        },
        {
            "cell_type": "markdown",
            "metadata": {},
            "source": [
                "## Get the Feedback Data for Monitoring"
            ]
        },
        {
            "cell_type": "code",
            "execution_count": 52,
            "metadata": {},
            "outputs": [],
            "source": [
                "from pprint import pprint\n",
                "feedback_data = read_data_from_mlops_cos(\"hold_out_feedback_101.json\",json=True)\n",
                "feedback_data = json.loads(feedback_data.read())"
            ]
        },
        {
            "cell_type": "code",
            "execution_count": 55,
            "metadata": {},
            "outputs": [
                {
                    "name": "stdout",
                    "output_type": "stream",
                    "text": [
                        "Feedback data set id: 9dc0c983-f6d7-48dd-8827-4ae2e9ed4649\n"
                    ]
                }
            ],
            "source": [
                "feedback_dataset_id = None\n",
                "feedback_dataset = wos_client.data_sets.list(type=DataSetTypes.FEEDBACK, \n",
                "                                                target_target_id=subscription_id, \n",
                "                                                target_target_type=TargetTypes.SUBSCRIPTION).result\n",
                "\n",
                "feedback_dataset_id = feedback_dataset.data_sets[0].metadata.id\n",
                "if feedback_dataset_id is None:\n",
                "    print(\"Feedback data set not found. Please check quality monitor status.\")\n",
                "else:\n",
                "    print(\"Feedback data set id:\", feedback_dataset_id)"
            ]
        },
        {
            "cell_type": "code",
            "execution_count": 56,
            "metadata": {},
            "outputs": [
                {
                    "name": "stdout",
                    "output_type": "stream",
                    "text": [
                        "\n",
                        "\n",
                        "==========================================================================================\n",
                        "\n",
                        " Waiting for end of storing records with request id: c27eab37-8955-4e0f-93c6-20cf5d90198a \n",
                        "\n",
                        "==========================================================================================\n",
                        "\n",
                        "\n",
                        "\n",
                        "active\n",
                        "\n",
                        "---------------------------------------\n",
                        " Successfully finished storing records \n",
                        "---------------------------------------\n",
                        "\n",
                        "\n"
                    ]
                },
                {
                    "data": {
                        "text/plain": [
                            "<ibm_cloud_sdk_core.detailed_response.DetailedResponse at 0x7f8f12754be0>"
                        ]
                    },
                    "execution_count": 56,
                    "metadata": {},
                    "output_type": "execute_result"
                }
            ],
            "source": [
                "wos_client.data_sets.store_records(feedback_dataset_id, request_body=feedback_data, background_mode=False)"
            ]
        },
        {
            "cell_type": "code",
            "execution_count": 59,
            "metadata": {},
            "outputs": [],
            "source": [
                "feedback_records_count = wos_client.data_sets.get_records_count(feedback_dataset_id)"
            ]
        },
        {
            "cell_type": "code",
            "execution_count": 60,
            "metadata": {},
            "outputs": [],
            "source": [
                "assert feedback_records_count >= 100, \"Minimum feedback data size is set to 100, please add more feedback data!\""
            ]
        },
        {
            "cell_type": "code",
            "execution_count": 58,
            "metadata": {},
            "outputs": [],
            "source": [
                "time.sleep(5)"
            ]
        },
        {
            "cell_type": "markdown",
            "metadata": {},
            "source": [
                "## Run Quality Monitor"
            ]
        },
        {
            "cell_type": "code",
            "execution_count": 62,
            "metadata": {},
            "outputs": [],
            "source": [
                "#pipeline metrics\n",
                "openscale_metrics ={}"
            ]
        },
        {
            "cell_type": "markdown",
            "metadata": {},
            "source": [
                "## Enable Fairness"
            ]
        },
        {
            "cell_type": "code",
            "execution_count": 63,
            "metadata": {},
            "outputs": [
                {
                    "data": {
                        "text/html": [
                            "<HTML>\n",
                            "        <body>\n",
                            "            <h3>Monitor instances</h3>\n",
                            "            <table style='border: 1px solid #dddddd; font-family: Courier'>\n",
                            "                <th style='border: 1px solid #dddddd'>data_mart_id</th><th style='border: 1px solid #dddddd'>status</th><th style='border: 1px solid #dddddd'>target_id</th><th style='border: 1px solid #dddddd'>target_type</th><th style='border: 1px solid #dddddd'>monitor_definition_id</th><th style='border: 1px solid #dddddd'>created_at</th><th style='border: 1px solid #dddddd'>id</th>\n",
                            "                <tr><td style='border: 1px solid #dddddd'>7ec1ce0f-e784-4b7d-9bb0-ff1430b3fa86</td><td style='border: 1px solid #dddddd'>active</td><td style='border: 1px solid #dddddd'>5a18eba3-bc74-45c4-bee6-4579f105b0d2</td><td style='border: 1px solid #dddddd'>subscription</td><td style='border: 1px solid #dddddd'>quality</td><td style='border: 1px solid #dddddd'>2022-11-27 16:59:35.904000+00:00</td><td style='border: 1px solid #dddddd'>db3655fb-1fdf-414e-975d-2c14084b9d66</td></tr><tr><td style='border: 1px solid #dddddd'>7ec1ce0f-e784-4b7d-9bb0-ff1430b3fa86</td><td style='border: 1px solid #dddddd'>active</td><td style='border: 1px solid #dddddd'>c26c3010-7f21-4726-8102-2e361e299084</td><td style='border: 1px solid #dddddd'>subscription</td><td style='border: 1px solid #dddddd'>mrm</td><td style='border: 1px solid #dddddd'>2022-10-24 11:28:56.225000+00:00</td><td style='border: 1px solid #dddddd'>0e924c2f-a651-4364-ac2f-bfdea90090b8</td></tr><tr><td style='border: 1px solid #dddddd'>7ec1ce0f-e784-4b7d-9bb0-ff1430b3fa86</td><td style='border: 1px solid #dddddd'>active</td><td style='border: 1px solid #dddddd'>c26c3010-7f21-4726-8102-2e361e299084</td><td style='border: 1px solid #dddddd'>subscription</td><td style='border: 1px solid #dddddd'>fairness</td><td style='border: 1px solid #dddddd'>2022-10-24 11:28:37.073000+00:00</td><td style='border: 1px solid #dddddd'>cebe3e2c-2d8e-4bc6-b89f-33b85559bedd</td></tr><tr><td style='border: 1px solid #dddddd'>7ec1ce0f-e784-4b7d-9bb0-ff1430b3fa86</td><td style='border: 1px solid #dddddd'>active</td><td style='border: 1px solid #dddddd'>1099b18d-5e9d-4cb1-9ab4-287d0b0b3185</td><td style='border: 1px solid #dddddd'>subscription</td><td style='border: 1px solid #dddddd'>mrm</td><td style='border: 1px solid #dddddd'>2022-11-18 18:22:07.436000+00:00</td><td style='border: 1px solid #dddddd'>66b2a3dd-99a9-4730-b405-d2728cf6ae47</td></tr><tr><td style='border: 1px solid #dddddd'>7ec1ce0f-e784-4b7d-9bb0-ff1430b3fa86</td><td style='border: 1px solid #dddddd'>active</td><td style='border: 1px solid #dddddd'>1099b18d-5e9d-4cb1-9ab4-287d0b0b3185</td><td style='border: 1px solid #dddddd'>subscription</td><td style='border: 1px solid #dddddd'>fairness</td><td style='border: 1px solid #dddddd'>2022-11-18 18:21:06.658000+00:00</td><td style='border: 1px solid #dddddd'>a3613f20-8f8e-4cac-bac9-5ee30c3c8e95</td></tr><tr><td style='border: 1px solid #dddddd'>7ec1ce0f-e784-4b7d-9bb0-ff1430b3fa86</td><td style='border: 1px solid #dddddd'>active</td><td style='border: 1px solid #dddddd'>1099b18d-5e9d-4cb1-9ab4-287d0b0b3185</td><td style='border: 1px solid #dddddd'>subscription</td><td style='border: 1px solid #dddddd'>drift</td><td style='border: 1px solid #dddddd'>2022-11-18 18:21:24.837000+00:00</td><td style='border: 1px solid #dddddd'>93bd43eb-6be9-4ff9-b5a5-871408a48a86</td></tr><tr><td style='border: 1px solid #dddddd'>7ec1ce0f-e784-4b7d-9bb0-ff1430b3fa86</td><td style='border: 1px solid #dddddd'>active</td><td style='border: 1px solid #dddddd'>c26c3010-7f21-4726-8102-2e361e299084</td><td style='border: 1px solid #dddddd'>subscription</td><td style='border: 1px solid #dddddd'>drift</td><td style='border: 1px solid #dddddd'>2022-10-24 11:28:50.103000+00:00</td><td style='border: 1px solid #dddddd'>41442683-2055-45d5-be86-99ee53fcad4c</td></tr><tr><td style='border: 1px solid #dddddd'>7ec1ce0f-e784-4b7d-9bb0-ff1430b3fa86</td><td style='border: 1px solid #dddddd'>active</td><td style='border: 1px solid #dddddd'>1099b18d-5e9d-4cb1-9ab4-287d0b0b3185</td><td style='border: 1px solid #dddddd'>subscription</td><td style='border: 1px solid #dddddd'>explainability</td><td style='border: 1px solid #dddddd'>2022-11-18 18:21:41.233000+00:00</td><td style='border: 1px solid #dddddd'>0ebc5569-b31d-4f25-b094-5845bae2bac3</td></tr><tr><td style='border: 1px solid #dddddd'>7ec1ce0f-e784-4b7d-9bb0-ff1430b3fa86</td><td style='border: 1px solid #dddddd'>active</td><td style='border: 1px solid #dddddd'>1099b18d-5e9d-4cb1-9ab4-287d0b0b3185</td><td style='border: 1px solid #dddddd'>subscription</td><td style='border: 1px solid #dddddd'>quality</td><td style='border: 1px solid #dddddd'>2022-11-18 18:20:34.938000+00:00</td><td style='border: 1px solid #dddddd'>e477c296-0912-43a5-a46e-7c5ecbd7e5af</td></tr><tr><td style='border: 1px solid #dddddd'>7ec1ce0f-e784-4b7d-9bb0-ff1430b3fa86</td><td style='border: 1px solid #dddddd'>active</td><td style='border: 1px solid #dddddd'>fa0f35e4-9459-4bb9-9316-ba44aae12838</td><td style='border: 1px solid #dddddd'>subscription</td><td style='border: 1px solid #dddddd'>mrm</td><td style='border: 1px solid #dddddd'>2022-11-09 07:05:18.393000+00:00</td><td style='border: 1px solid #dddddd'>8b253b30-f2a1-41de-94ad-4462aa5e15cd</td></tr>\n",
                            "            </table>\n",
                            "        </body>\n",
                            "        </HTML>"
                        ],
                        "text/plain": [
                            "<IPython.core.display.HTML object>"
                        ]
                    },
                    "metadata": {},
                    "output_type": "display_data"
                },
                {
                    "name": "stdout",
                    "output_type": "stream",
                    "text": [
                        "Note: First 10 records were displayed.\n"
                    ]
                }
            ],
            "source": [
                "wos_client.monitor_instances.show()"
            ]
        },
        {
            "cell_type": "code",
            "execution_count": 64,
            "metadata": {},
            "outputs": [
                {
                    "name": "stdout",
                    "output_type": "stream",
                    "text": [
                        "\n",
                        "\n",
                        "===================================================================================\n",
                        "\n",
                        " Waiting for end of monitor instance creation 46caedd4-f06a-4361-9258-16a0aa54b4cb \n",
                        "\n",
                        "===================================================================================\n",
                        "\n",
                        "\n",
                        "\n",
                        "preparing\n",
                        "active\n",
                        "\n",
                        "---------------------------------------\n",
                        " Monitor instance successfully created \n",
                        "---------------------------------------\n",
                        "\n",
                        "\n"
                    ]
                }
            ],
            "source": [
                "target = Target(\n",
                "    target_type=TargetTypes.SUBSCRIPTION,\n",
                "    target_id=subscription_id\n",
                "\n",
                ")\n",
                "parameters = {\n",
                "    \"features\": [\n",
                "        {\"feature\": \"Sex\",\n",
                "         \"majority\": ['male'],\n",
                "         \"minority\": ['female'],\n",
                "         \"threshold\": 0.95\n",
                "         },\n",
                "        {\"feature\": \"Age\",\n",
                "         \"majority\": [[26, 75]],\n",
                "         \"minority\": [[18, 25]],\n",
                "         \"threshold\": 0.95\n",
                "         }\n",
                "    ],\n",
                "    \"favourable_class\": [\"No Risk\"],\n",
                "    \"unfavourable_class\": [\"Risk\"],\n",
                "    \"min_records\": 100\n",
                "}\n",
                "\n",
                "fairness_monitor_details = wos_client.monitor_instances.create(\n",
                "    data_mart_id=data_mart_id,\n",
                "    background_mode=False,\n",
                "    monitor_definition_id=wos_client.monitor_definitions.MONITORS.FAIRNESS.ID,\n",
                "    target=target,\n",
                "    parameters=parameters).result\n",
                "fairness_monitor_instance_id =fairness_monitor_details.metadata.id"
            ]
        },
        {
            "cell_type": "code",
            "execution_count": 65,
            "metadata": {},
            "outputs": [],
            "source": [
                "monitor_instances = wos_client.monitor_instances.list().result.monitor_instances\n",
                "for monitor_instance in monitor_instances:\n",
                "    monitor_def_id=monitor_instance.entity.monitor_definition_id\n",
                "    if monitor_def_id == \"drift\" and monitor_instance.entity.target.target_id == subscription_id:\n",
                "        wos_client.monitor_instances.delete(monitor_instance.metadata.id)\n",
                "        print('Deleted existing drift monitor instance with id: ', monitor_instance.metadata.id)"
            ]
        },
        {
            "cell_type": "markdown",
            "metadata": {},
            "source": [
                "## Enable Drift"
            ]
        },
        {
            "cell_type": "code",
            "execution_count": 66,
            "metadata": {},
            "outputs": [
                {
                    "name": "stdout",
                    "output_type": "stream",
                    "text": [
                        "\n",
                        "\n",
                        "===================================================================================\n",
                        "\n",
                        " Waiting for end of monitor instance creation d296a35a-c742-4d73-aa04-01ce360facb8 \n",
                        "\n",
                        "===================================================================================\n",
                        "\n",
                        "\n",
                        "\n",
                        "preparing..\n",
                        "active\n",
                        "\n",
                        "---------------------------------------\n",
                        " Monitor instance successfully created \n",
                        "---------------------------------------\n",
                        "\n",
                        "\n"
                    ]
                }
            ],
            "source": [
                "target = Target(\n",
                "    target_type=TargetTypes.SUBSCRIPTION,\n",
                "    target_id=subscription_id\n",
                "\n",
                ")\n",
                "\n",
                "parameters = {\n",
                "    \"min_samples\": 100,\n",
                "    \"drift_threshold\": 0.1,\n",
                "    \"train_drift_model\": True,\n",
                "    \"enable_model_drift\": False,\n",
                "    \"enable_data_drift\": True\n",
                "}\n",
                "\n",
                "\n",
                "drift_monitor_details = wos_client.monitor_instances.create(\n",
                "    data_mart_id=data_mart_id,\n",
                "    background_mode=False,\n",
                "    monitor_definition_id=wos_client.monitor_definitions.MONITORS.DRIFT.ID,\n",
                "    target=target,\n",
                "    parameters=parameters\n",
                ").result\n",
                "\n",
                "drift_monitor_instance_id = drift_monitor_details.metadata.id"
            ]
        },
        {
            "cell_type": "markdown",
            "metadata": {},
            "source": [
                "## Enable Explainability"
            ]
        },
        {
            "cell_type": "code",
            "execution_count": 67,
            "metadata": {},
            "outputs": [
                {
                    "name": "stdout",
                    "output_type": "stream",
                    "text": [
                        "\n",
                        "\n",
                        "===================================================================================\n",
                        "\n",
                        " Waiting for end of monitor instance creation df32835e-3834-4354-905b-21b3fdd28283 \n",
                        "\n",
                        "===================================================================================\n",
                        "\n",
                        "\n",
                        "\n",
                        "preparing..\n",
                        "active\n",
                        "\n",
                        "---------------------------------------\n",
                        " Monitor instance successfully created \n",
                        "---------------------------------------\n",
                        "\n",
                        "\n"
                    ]
                },
                {
                    "data": {
                        "text/plain": [
                            "'df32835e-3834-4354-905b-21b3fdd28283'"
                        ]
                    },
                    "execution_count": 67,
                    "metadata": {},
                    "output_type": "execute_result"
                }
            ],
            "source": [
                "target = Target(\n",
                "    target_type=TargetTypes.SUBSCRIPTION,\n",
                "    target_id=subscription_id\n",
                ")\n",
                "parameters = {\n",
                "    \"enabled\": True\n",
                "}\n",
                "explain_monitor_details = wos_client.monitor_instances.create(\n",
                "    data_mart_id=data_mart_id,\n",
                "    background_mode=False,\n",
                "    monitor_definition_id=wos_client.monitor_definitions.MONITORS.EXPLAINABILITY.ID,\n",
                "    target=target,\n",
                "    parameters=parameters\n",
                ").result\n",
                "\n",
                "explain_monitor_details.metadata.id"
            ]
        },
        {
            "cell_type": "markdown",
            "metadata": {},
            "source": [
                "### Payload Log the data "
            ]
        },
        {
            "cell_type": "code",
            "execution_count": 68,
            "metadata": {},
            "outputs": [],
            "source": [
                "def pl_log(sub_id,request_data,response_data):\n",
                "    # Retrieve the id of the payload logging data set\n",
                "    SUBSCRIPTION_ID =sub_id\n",
                "    payload_logging_data_set_id = wos_client.data_sets.list(type=DataSetTypes.PAYLOAD_LOGGING, target_target_id=SUBSCRIPTION_ID, target_target_type=TargetTypes.SUBSCRIPTION).result.data_sets[0].metadata.id\n",
                "\n",
                "    wos_client.data_sets.store_records(data_set_id=payload_logging_data_set_id, request_body=[PayloadRecord(request=request_data, response=response_data, response_time=460)])\n",
                "\n",
                "    print(\"Payload Logging Successful\")"
            ]
        },
        {
            "cell_type": "code",
            "execution_count": 69,
            "metadata": {},
            "outputs": [],
            "source": [
                "payload_test_data = read_data_from_mlops_cos('test_tfr.csv')\n",
                "payload_test_data = payload_test_data.drop(\"Risk\",axis=1)\n",
                "\n",
                "fields = payload_test_data.columns.tolist()\n",
                "values = payload_test_data.values.tolist()"
            ]
        },
        {
            "cell_type": "code",
            "execution_count": 71,
            "metadata": {},
            "outputs": [],
            "source": [
                "payload_scoring = {\"input_data\": [{\"fields\": fields, \"values\": values}]}\n",
                "predictions = wml_client.deployments.score(deployment_id, payload_scoring)"
            ]
        },
        {
            "cell_type": "code",
            "execution_count": 72,
            "metadata": {},
            "outputs": [
                {
                    "name": "stdout",
                    "output_type": "stream",
                    "text": [
                        "Payload Logging Successful\n"
                    ]
                }
            ],
            "source": [
                "pl_log(subscription_id,payload_scoring,predictions)"
            ]
        },
        {
            "cell_type": "code",
            "execution_count": 74,
            "metadata": {},
            "outputs": [
                {
                    "data": {
                        "text/plain": [
                            "2025"
                        ]
                    },
                    "execution_count": 74,
                    "metadata": {},
                    "output_type": "execute_result"
                }
            ],
            "source": [
                "wos_client.data_sets.get_records_count(data_set_id=payload_data_set_id)"
            ]
        },
        {
            "cell_type": "markdown",
            "metadata": {},
            "source": [
                "## Enable MRM"
            ]
        },
        {
            "cell_type": "code",
            "execution_count": 75,
            "metadata": {},
            "outputs": [
                {
                    "name": "stdout",
                    "output_type": "stream",
                    "text": [
                        "\n",
                        "\n",
                        "===================================================================================\n",
                        "\n",
                        " Waiting for end of monitor instance creation 5163d838-8b98-46f5-a28c-db2c6fafaac9 \n",
                        "\n",
                        "===================================================================================\n",
                        "\n",
                        "\n",
                        "\n",
                        "active\n",
                        "\n",
                        "---------------------------------------\n",
                        " Monitor instance successfully created \n",
                        "---------------------------------------\n",
                        "\n",
                        "\n"
                    ]
                }
            ],
            "source": [
                "target = Target(\n",
                "    target_type=TargetTypes.SUBSCRIPTION,\n",
                "    target_id=subscription_id\n",
                ")\n",
                "parameters = {\n",
                "}\n",
                "mrm_monitor_details = wos_client.monitor_instances.create(\n",
                "    data_mart_id=data_mart_id,\n",
                "    background_mode=False,\n",
                "    monitor_definition_id='mrm',\n",
                "    target=target,\n",
                "    parameters=parameters\n",
                ").result\n",
                "\n",
                "mrm_instance_id = mrm_monitor_details.metadata.id"
            ]
        },
        {
            "cell_type": "code",
            "execution_count": 76,
            "metadata": {},
            "outputs": [],
            "source": [
                "import pandas as pd\n",
                "test_data_mrm = read_data_from_mlops_cos('test_tfr.csv')\n",
                "test_data_mrm.to_csv(\"gcr_mrm.csv\", encoding=\"utf-8\", index=False)"
            ]
        },
        {
            "cell_type": "code",
            "execution_count": 77,
            "metadata": {},
            "outputs": [],
            "source": [
                "import requests\n",
                "def generate_access_token():\n",
                "    headers = {\n",
                "        \"Content-Type\": \"application/x-www-form-urlencoded\",\n",
                "    }\n",
                "\n",
                "    data = (\n",
                "        f\"grant_type=urn:ibm:params:oauth:grant-type:apikey&apikey={CLOUD_API_KEY}\"\n",
                "    )\n",
                "\n",
                "    response = requests.post(\"https://iam.cloud.ibm.com/identity/token\", headers=headers, data=data)\n",
                "\n",
                "    return response.json()[\"access_token\"]"
            ]
        },
        {
            "cell_type": "code",
            "execution_count": null,
            "metadata": {},
            "outputs": [],
            "source": [
                "# evaluation_tests = [\"fairness\", \"quality\", \"drift\"]\n",
                "# mrm_run_parameters = {\"on_demand_trigger\": True, \"evaluation_tests\": evaluation_tests, \"publish_fact\": \"true\"}\n",
                "# wos_client.monitor_instances.run(monitor_instance_id=mrm_instance_id, triggered_by=\"user\", background_mode=False, parameters=mrm_run_parameters)"
            ]
        },
        {
            "cell_type": "markdown",
            "metadata": {},
            "source": [
                "# Non-prod evaluations\n",
                "\n",
                "### Function to upload, evaluate and check the status of the evaluation"
            ]
        },
        {
            "cell_type": "code",
            "execution_count": 78,
            "metadata": {},
            "outputs": [],
            "source": [
                "def upload_and_evaluate(file_name, mrm_instance_id):\n",
                "    \n",
                "    print(\"Running upload and evaluate for {}\".format(file_name))\n",
                "    import json\n",
                "    import time\n",
                "    from datetime import datetime\n",
                "\n",
                "    status = None\n",
                "    monitoring_run_id = None\n",
                "    GET_UPLOAD_AND_EVALUATION_STATUS_RETRIES = 32\n",
                "    GET_UPLOAD_AND_EVALUATION_STATUS_INTERVAL = 10\n",
                "    \n",
                "    if file_name is not None:\n",
                "        \n",
                "        headers = {}\n",
                "        headers[\"Content-Type\"] = \"text/csv\"\n",
                "        headers[\"Authorization\"] = \"Bearer {}\".format(generate_access_token())\n",
                "        \n",
                "        POST_EVALUATIONS_URL = service_credentials[\"url\"] + \"/openscale/{0}/v2/monitoring_services/mrm/monitor_instances/{1}/risk_evaluations?test_data_set_name={2}\".format(data_mart_id, mrm_instance_id, file_name)\n",
                "\n",
                "        with open(file_name) as file:\n",
                "            f = file.read()\n",
                "            b = bytearray(f, 'utf-8')\n",
                "        \n",
                "\n",
                "        response = requests.post(POST_EVALUATIONS_URL, data=bytes(b), headers=headers, verify=False)\n",
                "    \n",
                "        if response.ok is False:\n",
                "            print(\"Upload and evalaute for {0} failed with {1}: {2}\".format(file_name, response.status_code, response.reason))\n",
                "            return\n",
                "        \n",
                "        headers = {}\n",
                "        headers[\"Content-Type\"] = \"application/json\"\n",
                "        headers[\"Authorization\"] = \"Bearer {}\".format(generate_access_token())\n",
                "\n",
                "        GET_EVALUATIONS_URL = service_credentials[\"url\"] + \"/openscale/{0}/v2/monitoring_services/mrm/monitor_instances/{1}/risk_evaluations\".format(data_mart_id, mrm_instance_id)\n",
                "        \n",
                "        for i in range(GET_UPLOAD_AND_EVALUATION_STATUS_RETRIES):\n",
                "        \n",
                "            response = requests.get(GET_EVALUATIONS_URL, headers=headers, verify=False)\n",
                "            if response.ok is False:\n",
                "                print(\"Getting status of upload and evalaute for {0} failed with {1}: {2}\".format(file_name, response.status_code, response.reason))\n",
                "                return\n",
                "\n",
                "            response = json.loads(response.text)\n",
                "            if \"metadata\" in response and \"id\" in response[\"metadata\"]:\n",
                "                monitoring_run_id = response[\"metadata\"][\"id\"]\n",
                "            if \"entity\" in response and \"status\" in response[\"entity\"]:\n",
                "                status = response[\"entity\"][\"status\"][\"state\"]\n",
                "            \n",
                "            if status is not None:\n",
                "                print(datetime.utcnow().strftime('%H:%M:%S'), status.lower())\n",
                "                if status.lower() in [\"finished\", \"completed\"]:\n",
                "                    break\n",
                "                elif \"error\" in status.lower():\n",
                "                    print(response)\n",
                "                    break\n",
                "\n",
                "            time.sleep(GET_UPLOAD_AND_EVALUATION_STATUS_INTERVAL)\n",
                "\n",
                "    return status, monitoring_run_id"
            ]
        },
        {
            "cell_type": "markdown",
            "metadata": {},
            "source": [
                "### Run MRM"
            ]
        },
        {
            "cell_type": "code",
            "execution_count": 79,
            "metadata": {},
            "outputs": [],
            "source": [
                "if not PROD_DEPLOYMENT:\n",
                "    upload_and_evaluate(\"gcr_mrm.csv\", mrm_instance_id)"
            ]
        },
        {
            "cell_type": "markdown",
            "metadata": {},
            "source": [
                "### Show the monitor metrics"
            ]
        },
        {
            "cell_type": "code",
            "execution_count": 80,
            "metadata": {},
            "outputs": [],
            "source": [
                "if not PROD_DEPLOYMENT:\n",
                "    time.sleep(5)\n",
                "    wos_client.monitor_instances.show_metrics(monitor_instance_id=fairness_monitor_instance_id)"
            ]
        },
        {
            "cell_type": "code",
            "execution_count": 81,
            "metadata": {},
            "outputs": [],
            "source": [
                "if not PROD_DEPLOYMENT:\n",
                "    time.sleep(5)\n",
                "    wos_client.monitor_instances.show_metrics(monitor_instance_id=drift_monitor_instance_id)\n"
            ]
        },
        {
            "cell_type": "code",
            "execution_count": 82,
            "metadata": {},
            "outputs": [],
            "source": [
                "if not PROD_DEPLOYMENT:\n",
                "    time.sleep(5)\n",
                "    wos_client.monitor_instances.show_metrics(monitor_instance_id=quality_monitor_instance_id)"
            ]
        },
        {
            "cell_type": "markdown",
            "metadata": {},
            "source": [
                "###  Run all the monitors"
            ]
        },
        {
            "cell_type": "markdown",
            "metadata": {},
            "source": [
                "### Quality"
            ]
        },
        {
            "cell_type": "code",
            "execution_count": 59,
            "metadata": {},
            "outputs": [],
            "source": [
                "# run_details = wos_client.monitor_instances.run(monitor_instance_id=quality_monitor_instance_id, background_mode=False).result\n",
                "\n",
                "# time.sleep(5)\n",
                "# wos_client.monitor_instances.show_metrics(monitor_instance_id=quality_monitor_instance_id)"
            ]
        },
        {
            "cell_type": "markdown",
            "metadata": {},
            "source": [
                "### Fairness"
            ]
        },
        {
            "cell_type": "code",
            "execution_count": 60,
            "metadata": {},
            "outputs": [],
            "source": [
                "# run_details = wos_client.monitor_instances.run(monitor_instance_id=fairness_monitor_instance_id, background_mode=False)\n",
                "# time.sleep(5)\n",
                "# wos_client.monitor_instances.show_metrics(monitor_instance_id=fairness_monitor_instance_id)"
            ]
        },
        {
            "cell_type": "markdown",
            "metadata": {},
            "source": [
                "### Drift"
            ]
        },
        {
            "cell_type": "code",
            "execution_count": 61,
            "metadata": {},
            "outputs": [],
            "source": [
                "# drift_run_details = wos_client.monitor_instances.run(monitor_instance_id=drift_monitor_instance_id, background_mode=False)\n",
                "# time.sleep(5)\n",
                "# wos_client.monitor_instances.show_metrics(monitor_instance_id=drift_monitor_instance_id)\n"
            ]
        },
        {
            "cell_type": "markdown",
            "metadata": {},
            "source": [
                "## Gather results for the last run "
            ]
        },
        {
            "cell_type": "code",
            "execution_count": 83,
            "metadata": {},
            "outputs": [],
            "source": [
                "openscale_metrics ={}"
            ]
        },
        {
            "cell_type": "code",
            "execution_count": 84,
            "metadata": {},
            "outputs": [],
            "source": [
                "def get_monitor_metrics(config, deployment_name, monitor_type):\n",
                "    wos_client = config[\"wos_client\"]\n",
                "    dict_monitor_instances = get_monitor_instances_by_deployment_name(config=config, deployment_name=deployment_name)\n",
                "    start_time = datetime.now() - timedelta(days=7)\n",
                "    end_time = datetime.now()\n",
                "\n",
                "    monitor_instance_id = dict_monitor_instances[monitor_type]\n",
                "    runs = wos_client.monitor_instances.runs.list(monitor_instance_id=monitor_instance_id).result.runs\n",
                "    measurements = ibm_watson_openscale.base_classes.watson_open_scale_v2.Measurements(watson_open_scale=wos_client.monitor_instances._ai_client)\n",
                "    for run in runs:\n",
                "        run_id = run.to_dict()[\"metadata\"][\"id\"]\n",
                "        response = measurements.list(monitor_instance_id=monitor_instance_id, start=start_time, end=end_time, run_id=run_id)\n",
                "        metrics = response.result.to_dict()[\"measurements\"][0][\"entity\"][\"values\"][0][\"metrics\"]\n",
                "        return metrics"
            ]
        },
        {
            "cell_type": "code",
            "execution_count": 85,
            "metadata": {},
            "outputs": [
                {
                    "data": {
                        "text/plain": [
                            "{}"
                        ]
                    },
                    "execution_count": 85,
                    "metadata": {},
                    "output_type": "execute_result"
                }
            ],
            "source": [
                "openscale_metrics"
            ]
        },
        {
            "cell_type": "code",
            "execution_count": 86,
            "metadata": {},
            "outputs": [],
            "source": [
                "# pipelines_client = WSPipelines.from_apikey(apikey=\"dhUSiBv8cezmf1NsfDX8ngsi1ruwf2DUE00bwpoHUlLk\")\n",
                "# pipelines_client.store_results(openscale_metrics)"
            ]
        },
        {
            "cell_type": "code",
            "execution_count": 66,
            "metadata": {},
            "outputs": [],
            "source": [
                "# wos_client.data_sets.show_records(data_set_id=feedback_dataset_id)"
            ]
        },
        {
            "cell_type": "markdown",
            "metadata": {},
            "source": [
                "# Prod\n",
                "\n",
                "## Fetch all monitor instances"
            ]
        },
        {
            "cell_type": "code",
            "execution_count": null,
            "metadata": {},
            "outputs": [],
            "source": [
                "# Get the monitor instances IDs from OpenScale \n",
                "# Note: only run this if the monitor instances were already created before running this notebook\n",
                "\n",
                "# headers = {}\n",
                "# headers[\"Content-Type\"] = \"application/json\"\n",
                "# headers[\"Authorization\"] = \"Bearer {}\".format(generate_access_token())\n",
                "\n",
                "# MONITOR_INSTANCES_URL = \"https://api.aiopenscale.cloud.ibm.com/openscale/{0}/v2/monitor_instances?target.target_id={1}&target.target_type=subscription\".format(data_mart_id, subscription_id)\n",
                "# print(MONITOR_INSTANCES_URL)\n",
                "\n",
                "# response = requests.get(MONITOR_INSTANCES_URL, headers=headers)\n",
                "# monitor_instances = response.json()[\"monitor_instances\"]\n",
                "\n",
                "# drift_monitor_instance_id = None\n",
                "# quality_monitor_instance_id = None\n",
                "# fairness_monitor_instance_id= None\n",
                "# mrm_monitor_instance_id = None\n",
                "\n",
                "# if monitor_instances is not None:\n",
                "#     for monitor_instance in monitor_instances:\n",
                "#         if \"entity\" in monitor_instance and \"monitor_definition_id\" in monitor_instance[\"entity\"]:\n",
                "#             monitor_name = monitor_instance[\"entity\"][\"monitor_definition_id\"]\n",
                "#             if \"metadata\" in monitor_instance and \"id\" in monitor_instance[\"metadata\"]:\n",
                "#                 id = monitor_instance[\"metadata\"][\"id\"]\n",
                "#                 if monitor_name == \"drift\":\n",
                "#                     drift_monitor_instance_id = id\n",
                "#                 elif monitor_name == \"fairness\":\n",
                "#                     fairness_monitor_instance_id = id\n",
                "#                 elif monitor_name == \"quality\":\n",
                "#                     quality_monitor_instance_id = id\n",
                "#                 elif monitor_name == \"mrm\":\n",
                "#                     mrm_instance_id = id"
            ]
        },
        {
            "cell_type": "code",
            "execution_count": 87,
            "metadata": {},
            "outputs": [
                {
                    "name": "stdout",
                    "output_type": "stream",
                    "text": [
                        "Quality monitor instance id - db3655fb-1fdf-414e-975d-2c14084b9d66\n",
                        "Fairness monitor instance id - 46caedd4-f06a-4361-9258-16a0aa54b4cb\n",
                        "Drift monitor instance id - d296a35a-c742-4d73-aa04-01ce360facb8\n",
                        "MRM monitor instance id - 5163d838-8b98-46f5-a28c-db2c6fafaac9\n"
                    ]
                }
            ],
            "source": [
                "print(\"Quality monitor instance id - {0}\".format(quality_monitor_instance_id))\n",
                "print(\"Fairness monitor instance id - {0}\".format(fairness_monitor_instance_id))\n",
                "print(\"Drift monitor instance id - {0}\".format(drift_monitor_instance_id))\n",
                "print(\"MRM monitor instance id - {0}\".format(mrm_instance_id))\n"
            ]
        },
        {
            "cell_type": "markdown",
            "metadata": {},
            "source": [
                "\n",
                "## Function to get the monitoring run details\n",
                "\n"
            ]
        },
        {
            "cell_type": "code",
            "execution_count": 88,
            "metadata": {},
            "outputs": [],
            "source": [
                "def get_monitoring_run_details(monitor_instance_id, monitoring_run_id):\n",
                "    \n",
                "    headers = {}\n",
                "    headers[\"Content-Type\"] = \"application/json\"\n",
                "    headers[\"Authorization\"] = \"Bearer {}\".format(generate_access_token())\n",
                "    \n",
                "    MONITORING_RUNS_URL = \"https://api.aiopenscale.cloud.ibm.com/openscale/{0}/v2/monitor_instances/{1}/runs/{2}\".format(data_mart_id, monitor_instance_id, monitoring_run_id)\n",
                "    response = requests.get(MONITORING_RUNS_URL, headers=headers, verify=False)\n",
                "    return response.json()"
            ]
        },
        {
            "cell_type": "markdown",
            "metadata": {},
            "source": [
                "## Run on-demand MRM"
            ]
        },
        {
            "cell_type": "code",
            "execution_count": 89,
            "metadata": {},
            "outputs": [
                {
                    "name": "stdout",
                    "output_type": "stream",
                    "text": [
                        "Triggering MRM computation with https://api.aiopenscale.cloud.ibm.com/openscale/7ec1ce0f-e784-4b7d-9bb0-ff1430b3fa86/v2/monitor_instances/5163d838-8b98-46f5-a28c-db2c6fafaac9/runs\n",
                        "\n",
                        "{'entity': {'parameters': {}, 'status': {'operators': [], 'queued_at': '2022-11-27T17:10:40.321Z', 'started_at': '2022-11-27T17:10:40.335Z', 'state': 'running'}, 'triggered_by': 'user'}, 'metadata': {'created_at': '2022-11-27T17:10:40.335Z', 'created_by': 'IBMid-55000171WW', 'crn': 'crn:v1:bluemix:public:aiopenscale:us-south:a/27ff418fedd6aedffb8dc6ae4164a1d2:7ec1ce0f-e784-4b7d-9bb0-ff1430b3fa86:run:6faa79e8-f4c7-4c3c-9448-d2e5ac2a7c94', 'id': '6faa79e8-f4c7-4c3c-9448-d2e5ac2a7c94', 'url': '/v2/monitor_instances/5163d838-8b98-46f5-a28c-db2c6fafaac9/runs/6faa79e8-f4c7-4c3c-9448-d2e5ac2a7c94'}}\n",
                        "\n",
                        "Done triggering MRM computation\n"
                    ]
                }
            ],
            "source": [
                "if PROD_DEPLOYMENT:\n",
                "    headers = {}\n",
                "    headers[\"Content-Type\"] = \"application/json\"\n",
                "    headers[\"Authorization\"] = \"Bearer {}\".format(generate_access_token())\n",
                "\n",
                "    if mrm_instance_id is not None:\n",
                "        MONITOR_RUN_URL =\"https://api.aiopenscale.cloud.ibm.com/openscale/{0}/v2/monitor_instances/{1}/runs\".format(data_mart_id, mrm_instance_id)\n",
                "        payload = {\n",
                "            \"triggered_by\": \"user\"\n",
                "        }\n",
                "        print(\"Triggering MRM computation with {}\".format(MONITOR_RUN_URL))\n",
                "        response = requests.post(MONITOR_RUN_URL, json=payload, headers=headers, verify=False)\n",
                "        json_data = response.json()\n",
                "        print()\n",
                "        print(json_data)\n",
                "        print()\n",
                "        if \"metadata\" in json_data and \"id\" in json_data[\"metadata\"]:\n",
                "            mrm_monitoring_run_id = json_data[\"metadata\"][\"id\"]\n",
                "        print(\"Done triggering MRM computation\")"
            ]
        },
        {
            "cell_type": "code",
            "execution_count": 90,
            "metadata": {},
            "outputs": [
                {
                    "name": "stdout",
                    "output_type": "stream",
                    "text": [
                        "17:10:44 running\n",
                        "17:10:54 running\n",
                        "17:11:05 running\n",
                        "17:11:15 running\n",
                        "17:11:26 running\n",
                        "17:11:36 running\n",
                        "17:11:47 running\n",
                        "17:11:57 running\n",
                        "17:12:08 running\n",
                        "17:12:18 running\n",
                        "17:12:29 running\n",
                        "17:12:39 running\n",
                        "17:12:50 running\n",
                        "finished\n"
                    ]
                }
            ],
            "source": [
                "if PROD_DEPLOYMENT:\n",
                "    mrm_run_status = None\n",
                "    while mrm_run_status != 'finished':\n",
                "        monitoring_run_details = get_monitoring_run_details(mrm_instance_id, mrm_monitoring_run_id)\n",
                "        mrm_run_status = monitoring_run_details[\"entity\"][\"status\"][\"state\"]\n",
                "        if mrm_run_status == \"error\":\n",
                "            print(monitoring_run_details)\n",
                "            break\n",
                "        if mrm_run_status != 'finished':\n",
                "            print(datetime.utcnow().strftime('%H:%M:%S'), mrm_run_status)\n",
                "            time.sleep(10)\n",
                "    print(mrm_run_status)\n",
                "\n"
            ]
        },
        {
            "cell_type": "markdown",
            "metadata": {},
            "source": [
                "## Run on-demand Quality"
            ]
        },
        {
            "cell_type": "code",
            "execution_count": 91,
            "metadata": {},
            "outputs": [
                {
                    "name": "stdout",
                    "output_type": "stream",
                    "text": [
                        "Triggering Quality computation with https://api.aiopenscale.cloud.ibm.com/openscale/7ec1ce0f-e784-4b7d-9bb0-ff1430b3fa86/v2/monitor_instances/db3655fb-1fdf-414e-975d-2c14084b9d66/runs\n",
                        "\n",
                        "{'entity': {'parameters': {'min_feedback_data_size': 100}, 'status': {'operators': [], 'queued_at': '2022-11-27T17:13:58.952Z', 'started_at': '2022-11-27T17:13:58.964Z', 'state': 'running'}, 'triggered_by': 'user'}, 'metadata': {'created_at': '2022-11-27T17:13:58.964Z', 'created_by': 'IBMid-55000171WW', 'crn': 'crn:v1:bluemix:public:aiopenscale:us-south:a/27ff418fedd6aedffb8dc6ae4164a1d2:7ec1ce0f-e784-4b7d-9bb0-ff1430b3fa86:run:3980b5bf-5d75-4895-8ebf-5e32702566de', 'id': '3980b5bf-5d75-4895-8ebf-5e32702566de', 'url': '/v2/monitor_instances/db3655fb-1fdf-414e-975d-2c14084b9d66/runs/3980b5bf-5d75-4895-8ebf-5e32702566de'}}\n",
                        "\n",
                        "Done triggering Quality computation\n"
                    ]
                }
            ],
            "source": [
                "if PROD_DEPLOYMENT:\n",
                "    headers = {}\n",
                "    headers[\"Content-Type\"] = \"application/json\"\n",
                "    headers[\"Authorization\"] = \"Bearer {}\".format(generate_access_token())\n",
                "\n",
                "    if quality_monitor_instance_id is not None:\n",
                "        MONITOR_RUN_URL = \"https://api.aiopenscale.cloud.ibm.com/openscale/{0}/v2/monitor_instances/{1}/runs\".format(data_mart_id, quality_monitor_instance_id)\n",
                "        payload = {\n",
                "            \"triggered_by\": \"user\"\n",
                "        }\n",
                "        print(\"Triggering Quality computation with {}\".format(MONITOR_RUN_URL))\n",
                "        response = requests.post(MONITOR_RUN_URL, json=payload, headers=headers, verify=False)\n",
                "        json_data = response.json()\n",
                "        print()\n",
                "        print(json_data)\n",
                "        print()\n",
                "        if \"metadata\" in json_data and \"id\" in json_data[\"metadata\"]:\n",
                "            quality_monitoring_run_id = json_data[\"metadata\"][\"id\"]\n",
                "        print(\"Done triggering Quality computation\")"
            ]
        },
        {
            "cell_type": "code",
            "execution_count": 92,
            "metadata": {},
            "outputs": [
                {
                    "name": "stdout",
                    "output_type": "stream",
                    "text": [
                        "17:14:10 running\n",
                        "finished\n"
                    ]
                }
            ],
            "source": [
                "if PROD_DEPLOYMENT:\n",
                "    quality_run_status = None\n",
                "    while quality_run_status != 'finished':\n",
                "        monitoring_run_details = get_monitoring_run_details(quality_monitor_instance_id, quality_monitoring_run_id)\n",
                "        quality_run_status = monitoring_run_details[\"entity\"][\"status\"][\"state\"]\n",
                "        if quality_run_status == \"error\":\n",
                "            print(monitoring_run_details)\n",
                "            break\n",
                "        if quality_run_status != 'finished':\n",
                "            print(datetime.utcnow().strftime('%H:%M:%S'), quality_run_status)\n",
                "            time.sleep(10)\n",
                "    print(quality_run_status)\n",
                "\n"
            ]
        },
        {
            "cell_type": "markdown",
            "metadata": {},
            "source": [
                "\n",
                "## Run on-demand Fairness\n"
            ]
        },
        {
            "cell_type": "code",
            "execution_count": 93,
            "metadata": {},
            "outputs": [
                {
                    "name": "stdout",
                    "output_type": "stream",
                    "text": [
                        "Triggering fairness computation with https://api.aiopenscale.cloud.ibm.com/openscale/7ec1ce0f-e784-4b7d-9bb0-ff1430b3fa86/v2/monitor_instances/46caedd4-f06a-4361-9258-16a0aa54b4cb/runs\n",
                        "\n",
                        "{'entity': {'parameters': {'bias_end_time': '2022-11-27T17:08:06.611055Z', 'class_label': 'prediction', 'distributions': [{'attribute': 'Sex', 'class_labels': [{'counts': [{'class_value': 0, 'count': 1085}, {'class_value': 1, 'count': 441}], 'label': 'female'}, {'counts': [{'class_value': 0, 'count': 1634}, {'class_value': 1, 'count': 865}], 'label': 'male'}], 'distinct_values': ['female', 'male']}, {'attribute': 'Age', 'class_labels': [{'counts': [{'class_value': 0, 'count': 322}, {'class_value': 1, 'count': 20}], 'label': '[18, 19]'}, {'counts': [{'class_value': 0, 'count': 51}, {'class_value': 1, 'count': 3}], 'label': '[19, 20]'}, {'counts': [{'class_value': 0, 'count': 143}, {'class_value': 1, 'count': 9}], 'label': '[20, 22]'}, {'counts': [{'class_value': 0, 'count': 147}, {'class_value': 1, 'count': 11}], 'label': '[22, 24]'}, {'counts': [{'class_value': 0, 'count': 70}, {'class_value': 1, 'count': 10}], 'label': '[24, 25]'}, {'counts': [{'class_value': 0, 'count': 78}, {'class_value': 1, 'count': 12}], 'label': '[25, 26]'}, {'counts': [{'class_value': 0, 'count': 188}, {'class_value': 1, 'count': 33}], 'label': '[26, 28]'}, {'counts': [{'class_value': 0, 'count': 201}, {'class_value': 1, 'count': 40}], 'label': '[28, 30]'}, {'counts': [{'class_value': 0, 'count': 207}, {'class_value': 1, 'count': 50}], 'label': '[30, 32]'}, {'counts': [{'class_value': 0, 'count': 198}, {'class_value': 1, 'count': 74}], 'label': '[32, 34]'}, {'counts': [{'class_value': 0, 'count': 168}, {'class_value': 1, 'count': 76}], 'label': '[34, 36]'}, {'counts': [{'class_value': 0, 'count': 175}, {'class_value': 1, 'count': 83}], 'label': '[36, 38]'}, {'counts': [{'class_value': 0, 'count': 157}, {'class_value': 1, 'count': 102}], 'label': '[38, 40]'}, {'counts': [{'class_value': 0, 'count': 168}, {'class_value': 1, 'count': 86}], 'label': '[40, 42]'}, {'counts': [{'class_value': 0, 'count': 129}, {'class_value': 1, 'count': 94}], 'label': '[42, 44]'}, {'counts': [{'class_value': 0, 'count': 99}, {'class_value': 1, 'count': 133}], 'label': '[44, 46]'}, {'counts': [{'class_value': 0, 'count': 70}, {'class_value': 1, 'count': 98}], 'label': '[46, 48]'}, {'counts': [{'class_value': 0, 'count': 56}, {'class_value': 1, 'count': 97}], 'label': '[48, 50]'}, {'counts': [{'class_value': 0, 'count': 39}, {'class_value': 1, 'count': 84}], 'label': '[50, 52]'}, {'counts': [{'class_value': 0, 'count': 27}, {'class_value': 1, 'count': 61}], 'label': '[52, 54]'}, {'counts': [{'class_value': 0, 'count': 12}, {'class_value': 1, 'count': 44}], 'label': '[54, 56]'}, {'counts': [{'class_value': 0, 'count': 8}, {'class_value': 1, 'count': 30}], 'label': '[56, 58]'}, {'counts': [{'class_value': 0, 'count': 3}, {'class_value': 1, 'count': 26}], 'label': '[58, 60]'}, {'counts': [{'class_value': 0, 'count': 2}, {'class_value': 1, 'count': 10}], 'label': '[60, 62]'}, {'counts': [{'class_value': 1, 'count': 8}], 'label': '[62, 64]'}, {'counts': [{'class_value': 1, 'count': 3}], 'label': '[64, 66]'}, {'counts': [{'class_value': 0, 'count': 1}], 'label': '[66, 68]'}, {'counts': [{'class_value': 1, 'count': 4}], 'label': '[68, 70]'}, {'counts': [{'class_value': 1, 'count': 2}], 'label': '[70, 72]'}, {'counts': [{'class_value': 1, 'count': 3}], 'label': '[72, 74]'}], 'max': 74.0, 'min': 19.0}, {'attribute': 'Risk', 'is_class_label': True, 'max': 1, 'min': 0}], 'favourable_class': ['No Risk'], 'features': [{'feature': 'Sex', 'majority': ['male'], 'minority': ['female'], 'threshold': 0.8}, {'feature': 'Age', 'majority': [[26, 75]], 'minority': [[18, 25]], 'threshold': 0.8}], 'min_records': 100, 'next_evaluation_ts': '2022-11-27 18:07:57.476691', 'perform_debias': False, 'run_errors_count': 0, 'run_status': {'e11f6fbb-3acb-4fba-98e9-cdbf7c25123a': {'run_info_code': 'AIQFM6001', 'run_info_message': 'Payload logging table rows 1 are less than the minimum rows 100', 'run_status': 'FINISHED WITH ERRORS'}}, 'schedule_migrated': True, 'training_data_class_label': 'Risk', 'training_data_distributions': {'fields': ['feature', 'feature_value', 'label', 'count', 'is_favourable', 'group'], 'values': []}, 'training_data_last_processed_time': '2022-11-27 17:08:11.913669', 'training_data_metrics': [{'fairness_calculation_details': [{'data_set_type': 'training', 'messages': [{'id': 'payload_fairness_score_with_zero_maj_fav_percent', 'message': 'The monitored group female received favorable outcomes 0% of the time. The reference group received favorable outcomes 0% of the time. When the favorable outcome percentage for reference group is 0%, the formula does not apply. The fairness score for Sex is automatically 100%.', 'parameters': ['female', 0, 0, 'Sex', 100]}, {'id': 'payload_di_ratio_with_zero_maj_fav_percent', 'message': 'The group with the lowest percentage of favorable outcomes is Sex group female with 0%. The percentage of favorable outcomes for all reference groups combined (fairness baseline) is 0%. When the favorable outcome percentage for reference groups is 0%, the formula does not apply. The fairness score is automatically 1.', 'parameters': ['Sex', 'female', 0, 0, 1]}]}], 'fairness_value': 100, 'feature': 'Sex', 'majority': {'total_fav_percent': 0, 'values': [{'fav_class_percent': 0, 'value': 'male'}]}, 'minority': {'total_fav_percent': 0, 'values': [{'fairness_value': 100, 'fav_class_percent': 0, 'value': 'female'}]}}, {'fairness_calculation_details': [{'data_set_type': 'training', 'messages': [{'id': 'payload_fairness_score_with_zero_maj_fav_percent', 'message': 'The monitored group [18-25] received favorable outcomes 0% of the time. The reference group received favorable outcomes 0% of the time. When the favorable outcome percentage for reference group is 0%, the formula does not apply. The fairness score for Age is automatically 100%.', 'parameters': ['[18-25]', 0, 0, 'Age', 100]}, {'id': 'payload_di_ratio_with_zero_maj_fav_percent', 'message': 'The group with the lowest percentage of favorable outcomes is Age group 18-25 with 0%. The percentage of favorable outcomes for all reference groups combined (fairness baseline) is 0%. When the favorable outcome percentage for reference groups is 0%, the formula does not apply. The fairness score is automatically 1.', 'parameters': ['Age', '18-25', 0, 0, 1]}]}], 'fairness_value': 100, 'feature': 'Age', 'majority': {'total_fav_percent': 0, 'values': [{'fav_class_percent': 0, 'value': [26, 75]}]}, 'minority': {'total_fav_percent': 0, 'values': [{'fairness_value': 100, 'fav_class_percent': 0, 'value': [18, 25]}]}}], 'training_data_records_count': 4025, 'unfavourable_class': ['Risk']}, 'status': {'operators': [], 'queued_at': '2022-11-27T17:14:50.125Z', 'started_at': '2022-11-27T17:14:50.142Z', 'state': 'running'}, 'triggered_by': 'user'}, 'metadata': {'created_at': '2022-11-27T17:14:50.142Z', 'created_by': 'IBMid-55000171WW', 'crn': 'crn:v1:bluemix:public:aiopenscale:us-south:a/27ff418fedd6aedffb8dc6ae4164a1d2:7ec1ce0f-e784-4b7d-9bb0-ff1430b3fa86:run:6a239d0e-9863-436d-aa12-0330063d2757', 'id': '6a239d0e-9863-436d-aa12-0330063d2757', 'url': '/v2/monitor_instances/46caedd4-f06a-4361-9258-16a0aa54b4cb/runs/6a239d0e-9863-436d-aa12-0330063d2757'}}\n",
                        "\n",
                        "Done triggering fairness computation\n"
                    ]
                }
            ],
            "source": [
                "if PROD_DEPLOYMENT:\n",
                "    headers = {}\n",
                "    headers[\"Content-Type\"] = \"application/json\"\n",
                "    headers[\"Authorization\"] = \"Bearer {}\".format(generate_access_token())\n",
                "\n",
                "    if fairness_monitor_instance_id is not None:\n",
                "        MONITOR_RUN_URL = \"https://api.aiopenscale.cloud.ibm.com/openscale/{0}/v2/monitor_instances/{1}/runs\".format(data_mart_id, fairness_monitor_instance_id)\n",
                "        payload = {\n",
                "            \"triggered_by\": \"user\"\n",
                "        }\n",
                "        print(\"Triggering fairness computation with {}\".format(MONITOR_RUN_URL))\n",
                "        response = requests.post(MONITOR_RUN_URL, json=payload, headers=headers, verify=False)\n",
                "        json_data = response.json()\n",
                "        print()\n",
                "        print(json_data)\n",
                "        print()\n",
                "        if \"metadata\" in json_data and \"id\" in json_data[\"metadata\"]:\n",
                "            fairness_monitor_run_id = json_data[\"metadata\"][\"id\"]\n",
                "        print(\"Done triggering fairness computation\")\n",
                "\n"
            ]
        },
        {
            "cell_type": "code",
            "execution_count": null,
            "metadata": {},
            "outputs": [
                {
                    "name": "stdout",
                    "output_type": "stream",
                    "text": [
                        "17:14:51 running\n"
                    ]
                }
            ],
            "source": [
                "if PROD_DEPLOYMENT:\n",
                "    fairness_run_status = None\n",
                "    while fairness_run_status != 'finished':\n",
                "        monitoring_run_details = get_monitoring_run_details(fairness_monitor_instance_id, fairness_monitor_run_id)\n",
                "        fairness_run_status = monitoring_run_details[\"entity\"][\"status\"][\"state\"]\n",
                "        if fairness_run_status == \"error\":\n",
                "            print(monitoring_run_details)\n",
                "            break\n",
                "        if fairness_run_status != 'finished':\n",
                "            print(datetime.utcnow().strftime('%H:%M:%S'), fairness_run_status)\n",
                "            time.sleep(10)\n",
                "    print(fairness_run_status)"
            ]
        },
        {
            "cell_type": "code",
            "execution_count": null,
            "metadata": {},
            "outputs": [],
            "source": []
        },
        {
            "cell_type": "code",
            "execution_count": null,
            "metadata": {},
            "outputs": [],
            "source": []
        }
    ],
    "metadata": {
        "kernelspec": {
            "display_name": "Python 3.9",
            "language": "python",
            "name": "python3"
        },
        "language_info": {
            "codemirror_mode": {
                "name": "ipython",
                "version": 3
            },
            "file_extension": ".py",
            "mimetype": "text/x-python",
            "name": "python",
            "nbconvert_exporter": "python",
            "pygments_lexer": "ipython3",
            "version": "3.9.13"
        }
    },
    "nbformat": 4,
    "nbformat_minor": 1
}
