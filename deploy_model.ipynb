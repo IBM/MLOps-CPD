{
    "cells": [
        {
            "cell_type": "markdown",
            "metadata": {},
            "source": [
                "## Deploy the Saved Model in the project to Deployment Space"
            ]
        },
        {
            "attachments": {},
            "cell_type": "markdown",
            "metadata": {},
            "source": [
                "### The following cell is a way to get the utility script required for this notebook. \n",
                "Since IBM CPD SaaS doesn't have a filesystem, this is the only reliable way to get scripts on the cloud environment. \n",
                "```\n",
                "!rm -rf MLOps-CPD && git clone --quiet -b master https://github.com/IBM/MLOps-CPD.git\n",
                "```\n",
                "⚠️ Run the following cells only if you are executing on IBM CPD SaaS."
            ]
        },
        {
            "cell_type": "code",
            "execution_count": 1,
            "metadata": {},
            "outputs": [],
            "source": [
                "#!rm -rf MLOps-CPD && git clone --quiet -b master https://github.com/IBM/MLOps-CPD.git"
            ]
        },
        {
            "cell_type": "code",
            "execution_count": null,
            "metadata": {},
            "outputs": [],
            "source": [
                "#!mv MLOps-CPD MLOps_CPD"
            ]
        },
        {
            "cell_type": "markdown",
            "metadata": {},
            "source": [
                "## Imports"
            ]
        },
        {
            "cell_type": "code",
            "execution_count": 5,
            "metadata": {},
            "outputs": [],
            "source": [
                "from ibm_cloud_sdk_core.authenticators import IAMAuthenticator\n",
                "from ibm_watson_machine_learning import APIClient\n",
                "from ibm_aigov_facts_client import AIGovFactsClient\n",
                "from ibm_watson_studio_pipelines import WSPipelines\n",
                "from botocore.client import Config\n",
                "import ibm_boto3\n",
                "import pandas as pd\n",
                "import json\n",
                "import os\n",
                "import requests\n",
                "\n",
                "from os.path import exists\n",
                "if exists(\"utils/fs_utils.py\") and exists(\"utils/catalog_utils.py\"):\n",
                "    from utils import fs_utils,catalog_utils\n",
                "else:\n",
                "    # If utils/fs_utils.py and utils/catalog_utils.py exist we assume that you are running on CPD SaaS\n",
                "    # and will therefore import scripts from the freshly cloned repository\n",
                "    from MLOps_CPD.utils import fs_utils, catalog_utils"
            ]
        },
        {
            "cell_type": "markdown",
            "metadata": {},
            "source": [
                "## Pipeline Params"
            ]
        },
        {
            "cell_type": "code",
            "execution_count": null,
            "metadata": {},
            "outputs": [],
            "source": [
                "CLOUD_API_KEY = os.getenv(\"cloud_api_key\")\n",
                "MODEL_NAME = os.getenv(\"model_name\")\n",
                "DEPLOYMENT_NAME = os.getenv(\"deployment_name\")\n",
                "space_id = os.getenv(\"space_id\")\n",
                "model_id = os.getenv('model_id')\n",
                "project_id = os.environ['PROJECT_ID']"
            ]
        },
        {
            "attachments": {},
            "cell_type": "markdown",
            "metadata": {},
            "source": [
                "## Succeeding cell contains the credentials for MLOps COS\n",
                "```\n",
                "## PROJECT COS \n",
                "AUTH_ENDPOINT = \"https://iam.cloud.ibm.com/oidc/token\"\n",
                "ENDPOINT_URL = \"https://s3.private.us.cloud-object-storage.appdomain.cloud\"\n",
                "API_KEY_COS = \"xxx\"\n",
                "BUCKET_PROJECT_COS = \"mlops-donotdelete-pr-qxxcecxi1dtw94\"\n",
                "\n",
                "##MLOPS COS\n",
                "ENDPOINT_URL_MLOPS = \"https://s3.jp-tok.cloud-object-storage.appdomain.cloud\"\n",
                "API_KEY_MLOPS = \"xxx\"\n",
                "CRN_MLOPS = \"xxx\"\n",
                "BUCKET_MLOPS  = \"mlops-asset\"\n",
                "\n",
                "##CATALOG\n",
                "CATALOG_NAME = \"MLOps-ns\"\n",
                "```"
            ]
        },
        {
            "cell_type": "code",
            "execution_count": null,
            "metadata": {},
            "outputs": [],
            "source": [
                "# The code was removed by Watson Studio for sharing."
            ]
        },
        {
            "cell_type": "markdown",
            "metadata": {},
            "source": [
                "## Instantiate WML Client"
            ]
        },
        {
            "cell_type": "code",
            "execution_count": null,
            "metadata": {},
            "outputs": [
                {
                    "data": {
                        "text/plain": [
                            "'1.0.257'"
                        ]
                    },
                    "execution_count": 9,
                    "metadata": {},
                    "output_type": "execute_result"
                }
            ],
            "source": [
                "WML_CREDENTIALS = {\n",
                "                   \"url\": \"https://us-south.ml.cloud.ibm.com\",\n",
                "                   \"apikey\": CLOUD_API_KEY\n",
                "            }\n",
                "\n",
                "wml_client = APIClient(WML_CREDENTIALS)\n",
                "wml_client.version"
            ]
        },
        {
            "cell_type": "markdown",
            "metadata": {},
            "source": [
                "## Utility Functions"
            ]
        },
        {
            "cell_type": "code",
            "execution_count": 9,
            "metadata": {},
            "outputs": [],
            "source": [
                "def get_model_from_registry(catalog_name):\n",
                "    ctutils = catalog_utils.CatalogUtils(\n",
                "    service_url=\"https://api.dataplatform.cloud.ibm.com\",\n",
                "    api_key=CLOUD_API_KEY,\n",
                "    project_id=project_id,\n",
                "    auth_url=\"https://iam.cloud.ibm.com/identity/token\")\n",
                "\n",
                "    catalog_id = ctutils.get_catalog_id_map()[catalog_name]\n",
                "    model_id = ctutils.get_model_from_registry(MODEL_NAME)\n",
                "    print(model_id)\n",
                "    \n",
                "    wml_client.set.default_project(project_id)\n",
                "    model_pipeline = wml_client.repository.load(model_id)\n",
                "    \n",
                "    return model_id,catalog_id,model_pipeline\n",
                "\n",
                "\n",
                "def read_data_from_mlops_cos(key,json=False):\n",
                "    def __iter__(self): return 0\n",
                "    MLOPS_DATA_STORE_client = ibm_boto3.client(\n",
                "        service_name='s3',\n",
                "        ibm_api_key_id=API_KEY_MLOPS,\n",
                "        ibm_service_instance_id=CRN_MLOPS,\n",
                "        ibm_auth_endpoint=AUTH_ENDPOINT,\n",
                "        config=Config(signature_version='oauth'),\n",
                "        endpoint_url=ENDPOINT_URL_MLOPS)\n",
                "\n",
                "    body = MLOPS_DATA_STORE_client.get_object(Bucket=BUCKET_MLOPS, Key=key)['Body']\n",
                "    # add missing __iter__ method, so pandas accepts body as file-like object\n",
                "    if not hasattr(body, \"__iter__\"): body.__iter__ = types.MethodType( __iter__, body )\n",
                "    if json:\n",
                "        gcf_df = body\n",
                "    else:\n",
                "        gcf_df = pd.read_csv(body)\n",
                "    return gcf_df\n",
                "\n",
                "def promote_and_deploy_model(experiment_name):\n",
                "    facts_client = AIGovFactsClient(api_key=CLOUD_API_KEY, experiment_name=experiment_name, container_type=\"project\", container_id=project_id, set_as_current_experiment=True)\n",
                "    fsutils = fs_utils.FSUtils(wml_client=wml_client,catalog_id=catalog_id,project_id=project_id,bss_account_id='27ff418fedd6aedffb8dc6ae4164a1d2',space_id=space_id,\n",
                "                           facts_client=facts_client)\n",
                "    result = fsutils.promote_model(model_uid=model_id,model_name=MODEL_NAME)\n",
                "    dep_model_uid = result['metadata']['asset_id']\n",
                "    deployment_uid = fsutils.deploy_model(space_id=space_id,deployment_name=DEPLOYMENT_NAME,model_uid=dep_model_uid)\n",
                "    return deployment_uid,dep_model_uid\n",
                "\n",
                "\n",
                "def test_deployment(CLOUD_API_KEY,deploymet_uid):\n",
                "    # NOTE: you must manually set API_KEY below using information retrieved from your IBM Cloud account.\n",
                "    token_response = requests.post('https://iam.cloud.ibm.com/identity/token', data={\"apikey\":CLOUD_API_KEY, \"grant_type\": 'urn:ibm:params:oauth:grant-type:apikey'})\n",
                "\n",
                "    mltoken = token_response.json()[\"access_token\"]\n",
                "\n",
                "    header = {'Content-Type': 'application/json', 'Authorization': 'Bearer ' + mltoken}\n",
                "\n",
                "    # NOTE: manually define and pass the array(s) of values to be scored in the next line\n",
                "\n",
                "    payload_scoring = {\"input_data\": [{\"fields\": fields, \"values\": values}]}\n",
                "\n",
                "    response_scoring = requests.post(f'https://us-south.ml.cloud.ibm.com/ml/v4/deployments/{deployment_uid}/predictions?version=2022-10-12', json=payload_scoring,\n",
                "     headers={'Authorization': 'Bearer ' + mltoken})\n",
                "\n",
                "    print(response_scoring.json())\n",
                "    if response_scoring.json():\n",
                "        return True"
            ]
        },
        {
            "cell_type": "markdown",
            "metadata": {},
            "source": [
                "## Load the Trained Model from Model Registry"
            ]
        },
        {
            "cell_type": "code",
            "execution_count": 10,
            "metadata": {},
            "outputs": [
                {
                    "name": "stdout",
                    "output_type": "stream",
                    "text": [
                        "None\n"
                    ]
                },
                {
                    "name": "stderr",
                    "output_type": "stream",
                    "text": [
                        "No \"artifact_uid\" provided.\n"
                    ]
                },
                {
                    "ename": "MissingValue",
                    "evalue": "No \"artifact_uid\" provided.",
                    "output_type": "error",
                    "traceback": [
                        "\u001b[0;31m---------------------------------------------------------------------------\u001b[0m",
                        "\u001b[0;31mMissingValue\u001b[0m                              Traceback (most recent call last)",
                        "\u001b[0;32m/tmp/wsuser/ipykernel_2071/1382897465.py\u001b[0m in \u001b[0;36m<module>\u001b[0;34m\u001b[0m\n\u001b[0;32m----> 1\u001b[0;31m \u001b[0mmodel_id\u001b[0m\u001b[0;34m,\u001b[0m\u001b[0mcatalog_id\u001b[0m\u001b[0;34m,\u001b[0m\u001b[0mmodel_pipeline\u001b[0m \u001b[0;34m=\u001b[0m \u001b[0mget_model_from_registry\u001b[0m\u001b[0;34m(\u001b[0m\u001b[0;34m\"MLOps-ns\"\u001b[0m\u001b[0;34m)\u001b[0m\u001b[0;34m\u001b[0m\u001b[0;34m\u001b[0m\u001b[0m\n\u001b[0m",
                        "\u001b[0;32m/tmp/wsuser/ipykernel_2071/3406537002.py\u001b[0m in \u001b[0;36mget_model_from_registry\u001b[0;34m(catalog_name)\u001b[0m\n\u001b[1;32m     11\u001b[0m \u001b[0;34m\u001b[0m\u001b[0m\n\u001b[1;32m     12\u001b[0m     \u001b[0mwml_client\u001b[0m\u001b[0;34m.\u001b[0m\u001b[0mset\u001b[0m\u001b[0;34m.\u001b[0m\u001b[0mdefault_project\u001b[0m\u001b[0;34m(\u001b[0m\u001b[0mproject_id\u001b[0m\u001b[0;34m)\u001b[0m\u001b[0;34m\u001b[0m\u001b[0;34m\u001b[0m\u001b[0m\n\u001b[0;32m---> 13\u001b[0;31m     \u001b[0mmodel_pipeline\u001b[0m \u001b[0;34m=\u001b[0m \u001b[0mwml_client\u001b[0m\u001b[0;34m.\u001b[0m\u001b[0mrepository\u001b[0m\u001b[0;34m.\u001b[0m\u001b[0mload\u001b[0m\u001b[0;34m(\u001b[0m\u001b[0mmodel_id\u001b[0m\u001b[0;34m)\u001b[0m\u001b[0;34m\u001b[0m\u001b[0;34m\u001b[0m\u001b[0m\n\u001b[0m\u001b[1;32m     14\u001b[0m \u001b[0;34m\u001b[0m\u001b[0m\n\u001b[1;32m     15\u001b[0m     \u001b[0;32mreturn\u001b[0m \u001b[0mmodel_id\u001b[0m\u001b[0;34m,\u001b[0m\u001b[0mcatalog_id\u001b[0m\u001b[0;34m,\u001b[0m\u001b[0mmodel_pipeline\u001b[0m\u001b[0;34m\u001b[0m\u001b[0;34m\u001b[0m\u001b[0m\n",
                        "\u001b[0;32m/opt/conda/envs/Python-3.9/lib/python3.9/site-packages/ibm_watson_machine_learning/repository.py\u001b[0m in \u001b[0;36mload\u001b[0;34m(self, artifact_uid)\u001b[0m\n\u001b[1;32m    861\u001b[0m         \"\"\"\n\u001b[1;32m    862\u001b[0m \u001b[0;34m\u001b[0m\u001b[0m\n\u001b[0;32m--> 863\u001b[0;31m         \u001b[0;32mreturn\u001b[0m \u001b[0mself\u001b[0m\u001b[0;34m.\u001b[0m\u001b[0m_client\u001b[0m\u001b[0;34m.\u001b[0m\u001b[0m_models\u001b[0m\u001b[0;34m.\u001b[0m\u001b[0mload\u001b[0m\u001b[0;34m(\u001b[0m\u001b[0martifact_uid\u001b[0m\u001b[0;34m)\u001b[0m\u001b[0;34m\u001b[0m\u001b[0;34m\u001b[0m\u001b[0m\n\u001b[0m\u001b[1;32m    864\u001b[0m \u001b[0;34m\u001b[0m\u001b[0m\n\u001b[1;32m    865\u001b[0m     \u001b[0;34m@\u001b[0m\u001b[0mdocstring_parameter\u001b[0m\u001b[0;34m(\u001b[0m\u001b[0;34m{\u001b[0m\u001b[0;34m'str_type'\u001b[0m\u001b[0;34m:\u001b[0m \u001b[0mSTR_TYPE_NAME\u001b[0m\u001b[0;34m}\u001b[0m\u001b[0;34m)\u001b[0m\u001b[0;34m\u001b[0m\u001b[0;34m\u001b[0m\u001b[0m\n",
                        "\u001b[0;32m/opt/conda/envs/Python-3.9/lib/python3.9/site-packages/ibm_watson_machine_learning/models.py\u001b[0m in \u001b[0;36mload\u001b[0;34m(self, artifact_uid)\u001b[0m\n\u001b[1;32m   1746\u001b[0m             \u001b[0;32mraise\u001b[0m \u001b[0mWMLClientError\u001b[0m\u001b[0;34m(\u001b[0m\u001b[0;34m'Load model operation is not supported in IBM Watson Studio Desktop.'\u001b[0m\u001b[0;34m)\u001b[0m\u001b[0;34m\u001b[0m\u001b[0;34m\u001b[0m\u001b[0m\n\u001b[1;32m   1747\u001b[0m         \u001b[0martifact_uid\u001b[0m \u001b[0;34m=\u001b[0m \u001b[0mstr_type_conv\u001b[0m\u001b[0;34m(\u001b[0m\u001b[0martifact_uid\u001b[0m\u001b[0;34m)\u001b[0m\u001b[0;34m\u001b[0m\u001b[0;34m\u001b[0m\u001b[0m\n\u001b[0;32m-> 1748\u001b[0;31m         \u001b[0mModels\u001b[0m\u001b[0;34m.\u001b[0m\u001b[0m_validate_type\u001b[0m\u001b[0;34m(\u001b[0m\u001b[0martifact_uid\u001b[0m\u001b[0;34m,\u001b[0m \u001b[0;34mu'artifact_uid'\u001b[0m\u001b[0;34m,\u001b[0m \u001b[0mSTR_TYPE\u001b[0m\u001b[0;34m,\u001b[0m \u001b[0;32mTrue\u001b[0m\u001b[0;34m)\u001b[0m\u001b[0;34m\u001b[0m\u001b[0;34m\u001b[0m\u001b[0m\n\u001b[0m\u001b[1;32m   1749\u001b[0m         \u001b[0;31m#check if this is tensorflow 2.x model type\u001b[0m\u001b[0;34m\u001b[0m\u001b[0;34m\u001b[0m\u001b[0m\n\u001b[1;32m   1750\u001b[0m         \u001b[0;32mif\u001b[0m \u001b[0mself\u001b[0m\u001b[0;34m.\u001b[0m\u001b[0m_client\u001b[0m\u001b[0;34m.\u001b[0m\u001b[0mCAMS\u001b[0m \u001b[0;32mor\u001b[0m \u001b[0mself\u001b[0m\u001b[0;34m.\u001b[0m\u001b[0m_client\u001b[0m\u001b[0;34m.\u001b[0m\u001b[0mCLOUD_PLATFORM_SPACES\u001b[0m \u001b[0;32mor\u001b[0m \u001b[0mself\u001b[0m\u001b[0;34m.\u001b[0m\u001b[0m_client\u001b[0m\u001b[0;34m.\u001b[0m\u001b[0mICP_35\u001b[0m \u001b[0;32mor\u001b[0m \u001b[0mself\u001b[0m\u001b[0;34m.\u001b[0m\u001b[0m_client\u001b[0m\u001b[0;34m.\u001b[0m\u001b[0mICP_40\u001b[0m \u001b[0;32mor\u001b[0m\u001b[0;31m \u001b[0m\u001b[0;31m\\\u001b[0m\u001b[0;34m\u001b[0m\u001b[0;34m\u001b[0m\u001b[0m\n",
                        "\u001b[0;32m/opt/conda/envs/Python-3.9/lib/python3.9/site-packages/ibm_watson_machine_learning/wml_resource.py\u001b[0m in \u001b[0;36m_validate_type\u001b[0;34m(el, el_name, expected_type, mandatory)\u001b[0m\n\u001b[1;32m    141\u001b[0m \u001b[0;34m\u001b[0m\u001b[0m\n\u001b[1;32m    142\u001b[0m         \u001b[0;32mif\u001b[0m \u001b[0mmandatory\u001b[0m \u001b[0;32mand\u001b[0m \u001b[0mel\u001b[0m \u001b[0;32mis\u001b[0m \u001b[0;32mNone\u001b[0m\u001b[0;34m:\u001b[0m\u001b[0;34m\u001b[0m\u001b[0;34m\u001b[0m\u001b[0m\n\u001b[0;32m--> 143\u001b[0;31m             \u001b[0;32mraise\u001b[0m \u001b[0mMissingValue\u001b[0m\u001b[0;34m(\u001b[0m\u001b[0mel_name\u001b[0m\u001b[0;34m)\u001b[0m\u001b[0;34m\u001b[0m\u001b[0;34m\u001b[0m\u001b[0m\n\u001b[0m\u001b[1;32m    144\u001b[0m         \u001b[0;32melif\u001b[0m \u001b[0mel\u001b[0m \u001b[0;32mis\u001b[0m \u001b[0;32mNone\u001b[0m\u001b[0;34m:\u001b[0m\u001b[0;34m\u001b[0m\u001b[0;34m\u001b[0m\u001b[0m\n\u001b[1;32m    145\u001b[0m             \u001b[0;32mreturn\u001b[0m\u001b[0;34m\u001b[0m\u001b[0;34m\u001b[0m\u001b[0m\n",
                        "\u001b[0;31mMissingValue\u001b[0m: No \"artifact_uid\" provided."
                    ]
                }
            ],
            "source": [
                "model_id,catalog_id,model_pipeline = get_model_from_registry(CATALOG_NAME)"
            ]
        },
        {
            "cell_type": "markdown",
            "metadata": {},
            "source": [
                "## Promote the Model to deployment space and Deploy the Model"
            ]
        },
        {
            "cell_type": "code",
            "execution_count": 11,
            "metadata": {},
            "outputs": [
                {
                    "name": "stdout",
                    "output_type": "stream",
                    "text": [
                        "2022/11/07 11:18:24 INFO : Successfully set CreditRiskModel as current experiment\n",
                        "2022/11/07 11:18:24 INFO : Autolog enabled Successfully\n",
                        "Unsetting the project_id ...\n",
                        "defaultdict(<class 'list'>, {})\n",
                        "\n",
                        "\n",
                        "#######################################################################################\n",
                        "\n",
                        "Synchronous deployment creation for uid: '8cd59bfb-76fa-4f79-bb10-b0d82076bd32' started\n",
                        "\n",
                        "#######################################################################################\n",
                        "\n",
                        "\n",
                        "initializing\n",
                        "Note: online_url is deprecated and will be removed in a future release. Use serving_urls instead.\n",
                        "\n",
                        "ready\n",
                        "\n",
                        "\n",
                        "------------------------------------------------------------------------------------------------\n",
                        "Successfully finished deployment creation, deployment_uid='2ff2d30e-9299-4865-bfbc-9fa4f977037d'\n",
                        "------------------------------------------------------------------------------------------------\n",
                        "\n",
                        "\n"
                    ]
                }
            ],
            "source": [
                "deployment_uid,dep_model_uid = promote_and_deploy_model('CreditRiskModel')"
            ]
        },
        {
            "cell_type": "markdown",
            "metadata": {},
            "source": [
                "## Model Testing on the Serving Endpoint\n",
                "\n"
            ]
        },
        {
            "cell_type": "markdown",
            "metadata": {},
            "source": [
                "### Load Sample Data "
            ]
        },
        {
            "cell_type": "code",
            "execution_count": 13,
            "metadata": {},
            "outputs": [
                {
                    "data": {
                        "text/plain": [
                            "'{\"input_data\": [{\"fields\": [\"LoanDuration\", \"LoanAmount\", \"InstallmentPercent\", \"CurrentResidenceDuration\", \"Age\", \"ExistingCreditsCount\", \"Dependents\", \"OwnsProperty\", \"CheckingStatus\", \"ExistingSavings\", \"LoanPurpose\", \"Telephone\", \"OthersOnLoan\", \"Job\", \"EmploymentDuration\", \"CreditHistory\", \"Housing\", \"Sex\"], \"values\": [[31, 1889, 3, 3, 32, 1, 1, \"savings_insurance\", \"0_to_200\", \"100_to_500\", \"other\", \"none\", \"none\", \"skilled\", \"less_1\", \"credits_paid_to_date\", \"own\", \"female\"]]}]}'"
                        ]
                    },
                    "execution_count": 13,
                    "metadata": {},
                    "output_type": "execute_result"
                }
            ],
            "source": [
                "payload_data = read_data_from_mlops_cos('test_tfr.csv')\n",
                "payload_data = payload_data.drop('Risk',axis=1)\n",
                "fields = payload_data.columns.tolist()\n",
                "values = [payload_data.values.tolist()[0]]\n",
                "\n",
                "payload_scoring = {\"input_data\": [{\"fields\": fields, \"values\": values}]}\n",
                "json.dumps(payload_scoring)"
            ]
        },
        {
            "cell_type": "markdown",
            "metadata": {},
            "source": [
                "## Score the Endpoint"
            ]
        },
        {
            "cell_type": "code",
            "execution_count": 14,
            "metadata": {},
            "outputs": [
                {
                    "data": {
                        "text/plain": [
                            "{'predictions': [{'fields': ['prediction', 'probability'],\n",
                            "   'values': [[0, [0.7398784195684511, 0.26012158043154887]]]}]}"
                        ]
                    },
                    "execution_count": 14,
                    "metadata": {},
                    "output_type": "execute_result"
                }
            ],
            "source": [
                "predictions = wml_client.deployments.score(deployment_uid, payload_scoring)\n",
                "predictions"
            ]
        },
        {
            "cell_type": "markdown",
            "metadata": {},
            "source": [
                "### Test for Downstream Apps without using WML SDK."
            ]
        },
        {
            "cell_type": "code",
            "execution_count": 16,
            "metadata": {},
            "outputs": [
                {
                    "name": "stdout",
                    "output_type": "stream",
                    "text": [
                        "{'predictions': [{'fields': ['prediction', 'probability'], 'values': [[0, [0.7398784195684511, 0.26012158043154887]]]}]}\n"
                    ]
                },
                {
                    "data": {
                        "text/plain": [
                            "True"
                        ]
                    },
                    "execution_count": 16,
                    "metadata": {},
                    "output_type": "execute_result"
                }
            ],
            "source": [
                "deploy_done = test_deployment(CLOUD_API_KEY,deployment_uid)\n",
                "deploy_done"
            ]
        },
        {
            "cell_type": "markdown",
            "metadata": {},
            "source": [
                "## Save Params in WS Pipeline"
            ]
        },
        {
            "cell_type": "code",
            "execution_count": 17,
            "metadata": {},
            "outputs": [],
            "source": [
                "deployment_done = {}\n",
                "deployment_done['deployment_status'] = deploy_done\n",
                "deployment_done['deployment_id'] = deployment_uid\n",
                "deployment_done['model_id'] = dep_model_uid\n",
                "deployment_done['space_id'] = space_id"
            ]
        },
        {
            "cell_type": "code",
            "execution_count": 18,
            "metadata": {},
            "outputs": [
                {
                    "name": "stdout",
                    "output_type": "stream",
                    "text": [
                        "Running outside of Watson Studio Pipeline - storing results in the local filesystem for testing purposes...\n",
                        "\n",
                        "  output paths:\n",
                        "    - \"deployment_status\": .ibm_watson_studio_pipelines/results/deployment_status\n",
                        "    - \"deployment_id\": .ibm_watson_studio_pipelines/results/deployment_id\n",
                        "    - \"model_id\": .ibm_watson_studio_pipelines/results/model_id\n",
                        "    - \"space_id\": .ibm_watson_studio_pipelines/results/space_id\n"
                    ]
                },
                {
                    "data": {
                        "text/plain": [
                            "<ibm_cloud_sdk_core.detailed_response.DetailedResponse at 0x7f0e7e40dfa0>"
                        ]
                    },
                    "execution_count": 18,
                    "metadata": {},
                    "output_type": "execute_result"
                }
            ],
            "source": [
                "pipelines_client = WSPipelines.from_apikey(apikey=CLOUD_API_KEY)\n",
                "pipelines_client.store_results(deployment_done)"
            ]
        }
    ],
    "metadata": {
        "kernelspec": {
            "display_name": "Python 3",
            "language": "python",
            "name": "python3"
        },
        "language_info": {
            "codemirror_mode": {
                "name": "ipython",
                "version": 3
            },
            "file_extension": ".py",
            "mimetype": "text/x-python",
            "name": "python",
            "nbconvert_exporter": "python",
            "pygments_lexer": "ipython3",
            "version": "3.10.8"
        },
        "vscode": {
            "interpreter": {
                "hash": "b0fa6594d8f4cbf19f97940f81e996739fb7646882a419484c72d19e05852a7e"
            }
        }
    },
    "nbformat": 4,
    "nbformat_minor": 1
}
