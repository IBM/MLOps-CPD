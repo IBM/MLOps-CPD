{
    "cells": [
        {
            "cell_type": "markdown",
            "metadata": {
                "collapsed": true
            },
            "source": [
                "## Data Preparation Notebook"
            ]
        },
        {
            "cell_type": "markdown",
            "metadata": {},
            "source": [
                "## Imports"
            ]
        },
        {
            "cell_type": "code",
            "execution_count": 1,
            "metadata": {},
            "outputs": [],
            "source": [
                "from sklearn.feature_selection import SelectKBest\n",
                "from sklearn.feature_selection import chi2\n",
                "from sklearn.preprocessing import OrdinalEncoder,OneHotEncoder,LabelEncoder,MinMaxScaler\n",
                "from sklearn.feature_selection import mutual_info_classif\n",
                "from sklearn.compose import ColumnTransformer\n",
                "from sklearn.pipeline import Pipeline\n",
                "from botocore.client import Config\n",
                "from ibm_watson_studio_pipelines import WSPipelines\n",
                "import matplotlib.pyplot as plt\n",
                "import seaborn as sns\n",
                "import heapq\n",
                "import pickle\n",
                "import os, types\n",
                "import pandas as pd\n",
                "import ibm_boto3"
            ]
        },
        {
            "cell_type": "markdown",
            "metadata": {},
            "source": [
                "### Load the validated training and test data from IBM COS \n",
                "\n",
                "```\n",
                "## PROJECT COS \n",
                "AUTH_ENDPOINT = \"https://iam.cloud.ibm.com/oidc/token\"\n",
                "ENDPOINT_URL = \"https://s3.private.us.cloud-object-storage.appdomain.cloud\"\n",
                "API_KEY_COS = \"xxx\"\n",
                "BUCKET_PROJECT_COS = \"mlops-donotdelete-pr-qxxcecxi1dtw94\"\n",
                "\n",
                "\n",
                "##MLOPS COS\n",
                "ENDPOINT_URL_MLOPS = \"https://s3.jp-tok.cloud-object-storage.appdomain.cloud\"\n",
                "API_KEY_MLOPS = \"xxx\"\n",
                "CRN_MLOPS = \"xxx\"\n",
                "BUCKET_MLOPS  = \"mlops-asset\"\n",
                "```"
            ]
        },
        {
            "cell_type": "code",
            "execution_count": 2,
            "metadata": {},
            "outputs": [],
            "source": [
                "# The code was removed by Watson Studio for sharing."
            ]
        },
        {
            "cell_type": "markdown",
            "metadata": {},
            "source": [
                "## Pipeline Params"
            ]
        },
        {
            "cell_type": "code",
            "execution_count": null,
            "metadata": {},
            "outputs": [],
            "source": [
                "CLOUD_API_KEY = os.getenv(\"cloud_api_key\")"
            ]
        },
        {
            "cell_type": "code",
            "execution_count": 3,
            "metadata": {},
            "outputs": [],
            "source": [
                "project_cos_credentials = {'API_KEY':API_KEY_COS,\n",
                "                          'CRN':None,\n",
                "                          'AUTH_ENDPOINT':AUTH_ENDPOINT,\n",
                "                           'ENDPOINT_URL':ENDPOINT_URL,\n",
                "                           'BUCKET':BUCKET_PROJECT_COS\n",
                "                          }\n",
                "\n",
                "mlops_cos_credentials = {'API_KEY':API_KEY_MLOPS,\n",
                "                          'CRN':CRN_MLOPS,\n",
                "                          'AUTH_ENDPOINT':AUTH_ENDPOINT,\n",
                "                           'ENDPOINT_URL':ENDPOINT_URL_MLOPS,\n",
                "                           'BUCKET':BUCKET_MLOPS\n",
                "                          }\n"
            ]
        },
        {
            "cell_type": "markdown",
            "metadata": {},
            "source": [
                "###  Read and Write Utility"
            ]
        },
        {
            "cell_type": "code",
            "execution_count": 4,
            "metadata": {},
            "outputs": [],
            "source": [
                "def read_data_from_mlops_cos(key):\n",
                "    def __iter__(self): return 0\n",
                "    MLOPS_DATA_STORE_client = ibm_boto3.client(\n",
                "        service_name='s3',\n",
                "        ibm_api_key_id=API_KEY_MLOPS,\n",
                "        ibm_service_instance_id=CRN_MLOPS,\n",
                "        ibm_auth_endpoint=AUTH_ENDPOINT,\n",
                "        config=Config(signature_version='oauth'),\n",
                "        endpoint_url=ENDPOINT_URL_MLOPS)\n",
                "\n",
                "    body = MLOPS_DATA_STORE_client.get_object(Bucket=BUCKET_MLOPS, Key=key)['Body']\n",
                "    # add missing __iter__ method, so pandas accepts body as file-like object\n",
                "    if not hasattr(body, \"__iter__\"): body.__iter__ = types.MethodType( __iter__, body )\n",
                "\n",
                "    gcf_df = pd.read_csv(body)\n",
                "    return gcf_df\n",
                "\n",
                "def save_data_in_cos(df,filename,key,credentials,pipe=False):\n",
                "    \"\"\"\n",
                "\n",
                "    Save Data in IBM Cloud Object Storage\n",
                "\n",
                "    \"\"\"\n",
                "    try:\n",
                "        \n",
                "        if pipe:\n",
                "            with open (filename,'wb') as f:\n",
                "                pickle.dump(pipeline,f)\n",
                "        else:\n",
                "            df.to_csv(filename,index=False)\n",
                "        mlops_res = ibm_boto3.resource(\n",
                "            service_name='s3',\n",
                "            ibm_api_key_id=credentials['API_KEY'],\n",
                "            ibm_auth_endpoint=credentials['AUTH_ENDPOINT'],\n",
                "            config=Config(signature_version='oauth'),\n",
                "            endpoint_url=credentials['ENDPOINT_URL'])\n",
                "\n",
                "        mlops_res.Bucket(credentials['BUCKET']).upload_file(filename,key)\n",
                "        print(f\"File {filename} uploaded successfully\")\n",
                "    except Exception as e:\n",
                "        print(e)\n",
                "        print(\"File upload for {filename} failed\")\n",
                "\n",
                "        \n",
                "def check_if_file_exists(filename):\n",
                "    mlops_client = ibm_boto3.client(\n",
                "        service_name='s3',\n",
                "        ibm_api_key_id=API_KEY_MLOPS,\n",
                "        ibm_service_instance_id=CRN_MLOPS,\n",
                "        ibm_auth_endpoint=AUTH_ENDPOINT,\n",
                "        config=Config(signature_version='oauth'),\n",
                "        endpoint_url=ENDPOINT_URL_MLOPS)\n",
                "    \n",
                "    for key in mlops_client.list_objects(Bucket=BUCKET_MLOPS)['Contents']:\n",
                "        files = key['Key']\n",
                "        if files == filename:\n",
                "            return True\n",
                "    return False\n"
            ]
        },
        {
            "cell_type": "markdown",
            "metadata": {},
            "source": [
                "## Train_Data "
            ]
        },
        {
            "cell_type": "code",
            "execution_count": 5,
            "metadata": {},
            "outputs": [
                {
                    "data": {
                        "text/html": [
                            "<div>\n",
                            "<style scoped>\n",
                            "    .dataframe tbody tr th:only-of-type {\n",
                            "        vertical-align: middle;\n",
                            "    }\n",
                            "\n",
                            "    .dataframe tbody tr th {\n",
                            "        vertical-align: top;\n",
                            "    }\n",
                            "\n",
                            "    .dataframe thead th {\n",
                            "        text-align: right;\n",
                            "    }\n",
                            "</style>\n",
                            "<table border=\"1\" class=\"dataframe\">\n",
                            "  <thead>\n",
                            "    <tr style=\"text-align: right;\">\n",
                            "      <th></th>\n",
                            "      <th>CheckingStatus</th>\n",
                            "      <th>LoanDuration</th>\n",
                            "      <th>CreditHistory</th>\n",
                            "      <th>LoanPurpose</th>\n",
                            "      <th>LoanAmount</th>\n",
                            "      <th>ExistingSavings</th>\n",
                            "      <th>EmploymentDuration</th>\n",
                            "      <th>InstallmentPercent</th>\n",
                            "      <th>Sex</th>\n",
                            "      <th>OthersOnLoan</th>\n",
                            "      <th>...</th>\n",
                            "      <th>OwnsProperty</th>\n",
                            "      <th>Age</th>\n",
                            "      <th>InstallmentPlans</th>\n",
                            "      <th>Housing</th>\n",
                            "      <th>ExistingCreditsCount</th>\n",
                            "      <th>Job</th>\n",
                            "      <th>Dependents</th>\n",
                            "      <th>Telephone</th>\n",
                            "      <th>ForeignWorker</th>\n",
                            "      <th>Risk</th>\n",
                            "    </tr>\n",
                            "  </thead>\n",
                            "  <tbody>\n",
                            "    <tr>\n",
                            "      <th>0</th>\n",
                            "      <td>less_0</td>\n",
                            "      <td>18</td>\n",
                            "      <td>credits_paid_to_date</td>\n",
                            "      <td>car_new</td>\n",
                            "      <td>462</td>\n",
                            "      <td>less_100</td>\n",
                            "      <td>1_to_4</td>\n",
                            "      <td>2</td>\n",
                            "      <td>female</td>\n",
                            "      <td>none</td>\n",
                            "      <td>...</td>\n",
                            "      <td>savings_insurance</td>\n",
                            "      <td>37</td>\n",
                            "      <td>stores</td>\n",
                            "      <td>own</td>\n",
                            "      <td>2</td>\n",
                            "      <td>skilled</td>\n",
                            "      <td>1</td>\n",
                            "      <td>none</td>\n",
                            "      <td>yes</td>\n",
                            "      <td>0</td>\n",
                            "    </tr>\n",
                            "    <tr>\n",
                            "      <th>1</th>\n",
                            "      <td>less_0</td>\n",
                            "      <td>15</td>\n",
                            "      <td>prior_payments_delayed</td>\n",
                            "      <td>furniture</td>\n",
                            "      <td>250</td>\n",
                            "      <td>less_100</td>\n",
                            "      <td>1_to_4</td>\n",
                            "      <td>2</td>\n",
                            "      <td>male</td>\n",
                            "      <td>none</td>\n",
                            "      <td>...</td>\n",
                            "      <td>real_estate</td>\n",
                            "      <td>28</td>\n",
                            "      <td>none</td>\n",
                            "      <td>own</td>\n",
                            "      <td>2</td>\n",
                            "      <td>skilled</td>\n",
                            "      <td>1</td>\n",
                            "      <td>yes</td>\n",
                            "      <td>no</td>\n",
                            "      <td>0</td>\n",
                            "    </tr>\n",
                            "    <tr>\n",
                            "      <th>2</th>\n",
                            "      <td>no_checking</td>\n",
                            "      <td>28</td>\n",
                            "      <td>prior_payments_delayed</td>\n",
                            "      <td>education</td>\n",
                            "      <td>6235</td>\n",
                            "      <td>500_to_1000</td>\n",
                            "      <td>greater_7</td>\n",
                            "      <td>3</td>\n",
                            "      <td>male</td>\n",
                            "      <td>none</td>\n",
                            "      <td>...</td>\n",
                            "      <td>unknown</td>\n",
                            "      <td>57</td>\n",
                            "      <td>none</td>\n",
                            "      <td>own</td>\n",
                            "      <td>2</td>\n",
                            "      <td>skilled</td>\n",
                            "      <td>1</td>\n",
                            "      <td>none</td>\n",
                            "      <td>yes</td>\n",
                            "      <td>1</td>\n",
                            "    </tr>\n",
                            "    <tr>\n",
                            "      <th>3</th>\n",
                            "      <td>no_checking</td>\n",
                            "      <td>9</td>\n",
                            "      <td>prior_payments_delayed</td>\n",
                            "      <td>car_new</td>\n",
                            "      <td>1032</td>\n",
                            "      <td>100_to_500</td>\n",
                            "      <td>4_to_7</td>\n",
                            "      <td>3</td>\n",
                            "      <td>male</td>\n",
                            "      <td>none</td>\n",
                            "      <td>...</td>\n",
                            "      <td>savings_insurance</td>\n",
                            "      <td>41</td>\n",
                            "      <td>none</td>\n",
                            "      <td>own</td>\n",
                            "      <td>1</td>\n",
                            "      <td>management_self-employed</td>\n",
                            "      <td>1</td>\n",
                            "      <td>none</td>\n",
                            "      <td>yes</td>\n",
                            "      <td>0</td>\n",
                            "    </tr>\n",
                            "    <tr>\n",
                            "      <th>4</th>\n",
                            "      <td>0_to_200</td>\n",
                            "      <td>11</td>\n",
                            "      <td>credits_paid_to_date</td>\n",
                            "      <td>car_new</td>\n",
                            "      <td>4553</td>\n",
                            "      <td>less_100</td>\n",
                            "      <td>less_1</td>\n",
                            "      <td>3</td>\n",
                            "      <td>female</td>\n",
                            "      <td>none</td>\n",
                            "      <td>...</td>\n",
                            "      <td>savings_insurance</td>\n",
                            "      <td>22</td>\n",
                            "      <td>none</td>\n",
                            "      <td>own</td>\n",
                            "      <td>1</td>\n",
                            "      <td>management_self-employed</td>\n",
                            "      <td>1</td>\n",
                            "      <td>none</td>\n",
                            "      <td>yes</td>\n",
                            "      <td>0</td>\n",
                            "    </tr>\n",
                            "  </tbody>\n",
                            "</table>\n",
                            "<p>5 rows × 21 columns</p>\n",
                            "</div>"
                        ],
                        "text/plain": [
                            "  CheckingStatus  LoanDuration           CreditHistory LoanPurpose  \\\n",
                            "0         less_0            18    credits_paid_to_date     car_new   \n",
                            "1         less_0            15  prior_payments_delayed   furniture   \n",
                            "2    no_checking            28  prior_payments_delayed   education   \n",
                            "3    no_checking             9  prior_payments_delayed     car_new   \n",
                            "4       0_to_200            11    credits_paid_to_date     car_new   \n",
                            "\n",
                            "   LoanAmount ExistingSavings EmploymentDuration  InstallmentPercent     Sex  \\\n",
                            "0         462        less_100             1_to_4                   2  female   \n",
                            "1         250        less_100             1_to_4                   2    male   \n",
                            "2        6235     500_to_1000          greater_7                   3    male   \n",
                            "3        1032      100_to_500             4_to_7                   3    male   \n",
                            "4        4553        less_100             less_1                   3  female   \n",
                            "\n",
                            "  OthersOnLoan  ...       OwnsProperty Age  InstallmentPlans Housing  \\\n",
                            "0         none  ...  savings_insurance  37            stores     own   \n",
                            "1         none  ...        real_estate  28              none     own   \n",
                            "2         none  ...            unknown  57              none     own   \n",
                            "3         none  ...  savings_insurance  41              none     own   \n",
                            "4         none  ...  savings_insurance  22              none     own   \n",
                            "\n",
                            "  ExistingCreditsCount                       Job Dependents  Telephone  \\\n",
                            "0                    2                   skilled          1       none   \n",
                            "1                    2                   skilled          1        yes   \n",
                            "2                    2                   skilled          1       none   \n",
                            "3                    1  management_self-employed          1       none   \n",
                            "4                    1  management_self-employed          1       none   \n",
                            "\n",
                            "  ForeignWorker Risk  \n",
                            "0           yes    0  \n",
                            "1            no    0  \n",
                            "2           yes    1  \n",
                            "3           yes    0  \n",
                            "4           yes    0  \n",
                            "\n",
                            "[5 rows x 21 columns]"
                        ]
                    },
                    "execution_count": 5,
                    "metadata": {},
                    "output_type": "execute_result"
                }
            ],
            "source": [
                "train_data = read_data_from_mlops_cos('train_gcr.csv')\n",
                "train_data.head()"
            ]
        },
        {
            "cell_type": "code",
            "execution_count": 6,
            "metadata": {},
            "outputs": [
                {
                    "name": "stdout",
                    "output_type": "stream",
                    "text": [
                        "<class 'pandas.core.frame.DataFrame'>\n",
                        "RangeIndex: 3995 entries, 0 to 3994\n",
                        "Data columns (total 21 columns):\n",
                        " #   Column                    Non-Null Count  Dtype \n",
                        "---  ------                    --------------  ----- \n",
                        " 0   CheckingStatus            3995 non-null   object\n",
                        " 1   LoanDuration              3995 non-null   int64 \n",
                        " 2   CreditHistory             3995 non-null   object\n",
                        " 3   LoanPurpose               3995 non-null   object\n",
                        " 4   LoanAmount                3995 non-null   int64 \n",
                        " 5   ExistingSavings           3995 non-null   object\n",
                        " 6   EmploymentDuration        3995 non-null   object\n",
                        " 7   InstallmentPercent        3995 non-null   int64 \n",
                        " 8   Sex                       3995 non-null   object\n",
                        " 9   OthersOnLoan              3995 non-null   object\n",
                        " 10  CurrentResidenceDuration  3995 non-null   int64 \n",
                        " 11  OwnsProperty              3995 non-null   object\n",
                        " 12  Age                       3995 non-null   int64 \n",
                        " 13  InstallmentPlans          3995 non-null   object\n",
                        " 14  Housing                   3995 non-null   object\n",
                        " 15  ExistingCreditsCount      3995 non-null   int64 \n",
                        " 16  Job                       3995 non-null   object\n",
                        " 17  Dependents                3995 non-null   int64 \n",
                        " 18  Telephone                 3995 non-null   object\n",
                        " 19  ForeignWorker             3995 non-null   object\n",
                        " 20  Risk                      3995 non-null   object\n",
                        "dtypes: int64(7), object(14)\n",
                        "memory usage: 655.6+ KB\n"
                    ]
                }
            ],
            "source": [
                "train_data.info()"
            ]
        },
        {
            "cell_type": "code",
            "execution_count": 6,
            "metadata": {},
            "outputs": [
                {
                    "data": {
                        "text/html": [
                            "<div>\n",
                            "<style scoped>\n",
                            "    .dataframe tbody tr th:only-of-type {\n",
                            "        vertical-align: middle;\n",
                            "    }\n",
                            "\n",
                            "    .dataframe tbody tr th {\n",
                            "        vertical-align: top;\n",
                            "    }\n",
                            "\n",
                            "    .dataframe thead th {\n",
                            "        text-align: right;\n",
                            "    }\n",
                            "</style>\n",
                            "<table border=\"1\" class=\"dataframe\">\n",
                            "  <thead>\n",
                            "    <tr style=\"text-align: right;\">\n",
                            "      <th></th>\n",
                            "      <th>LoanDuration</th>\n",
                            "      <th>LoanAmount</th>\n",
                            "      <th>InstallmentPercent</th>\n",
                            "      <th>CurrentResidenceDuration</th>\n",
                            "      <th>Age</th>\n",
                            "      <th>ExistingCreditsCount</th>\n",
                            "      <th>Dependents</th>\n",
                            "      <th>Risk</th>\n",
                            "    </tr>\n",
                            "  </thead>\n",
                            "  <tbody>\n",
                            "    <tr>\n",
                            "      <th>count</th>\n",
                            "      <td>3995.000000</td>\n",
                            "      <td>3995.000000</td>\n",
                            "      <td>3995.000000</td>\n",
                            "      <td>3995.00000</td>\n",
                            "      <td>3995.000000</td>\n",
                            "      <td>3995.000000</td>\n",
                            "      <td>3995.00000</td>\n",
                            "      <td>3995.000000</td>\n",
                            "    </tr>\n",
                            "    <tr>\n",
                            "      <th>mean</th>\n",
                            "      <td>21.395745</td>\n",
                            "      <td>3488.971464</td>\n",
                            "      <td>2.977222</td>\n",
                            "      <td>2.84781</td>\n",
                            "      <td>35.979224</td>\n",
                            "      <td>1.472340</td>\n",
                            "      <td>1.16821</td>\n",
                            "      <td>0.330914</td>\n",
                            "    </tr>\n",
                            "    <tr>\n",
                            "      <th>std</th>\n",
                            "      <td>11.175001</td>\n",
                            "      <td>2500.504918</td>\n",
                            "      <td>1.130774</td>\n",
                            "      <td>1.12105</td>\n",
                            "      <td>10.678289</td>\n",
                            "      <td>0.567809</td>\n",
                            "      <td>0.37410</td>\n",
                            "      <td>0.470601</td>\n",
                            "    </tr>\n",
                            "    <tr>\n",
                            "      <th>min</th>\n",
                            "      <td>4.000000</td>\n",
                            "      <td>250.000000</td>\n",
                            "      <td>1.000000</td>\n",
                            "      <td>1.00000</td>\n",
                            "      <td>19.000000</td>\n",
                            "      <td>1.000000</td>\n",
                            "      <td>1.00000</td>\n",
                            "      <td>0.000000</td>\n",
                            "    </tr>\n",
                            "    <tr>\n",
                            "      <th>25%</th>\n",
                            "      <td>12.500000</td>\n",
                            "      <td>1328.000000</td>\n",
                            "      <td>2.000000</td>\n",
                            "      <td>2.00000</td>\n",
                            "      <td>28.000000</td>\n",
                            "      <td>1.000000</td>\n",
                            "      <td>1.00000</td>\n",
                            "      <td>0.000000</td>\n",
                            "    </tr>\n",
                            "    <tr>\n",
                            "      <th>50%</th>\n",
                            "      <td>21.000000</td>\n",
                            "      <td>3237.000000</td>\n",
                            "      <td>3.000000</td>\n",
                            "      <td>3.00000</td>\n",
                            "      <td>36.000000</td>\n",
                            "      <td>1.000000</td>\n",
                            "      <td>1.00000</td>\n",
                            "      <td>0.000000</td>\n",
                            "    </tr>\n",
                            "    <tr>\n",
                            "      <th>75%</th>\n",
                            "      <td>29.000000</td>\n",
                            "      <td>5334.500000</td>\n",
                            "      <td>4.000000</td>\n",
                            "      <td>4.00000</td>\n",
                            "      <td>44.000000</td>\n",
                            "      <td>2.000000</td>\n",
                            "      <td>1.00000</td>\n",
                            "      <td>1.000000</td>\n",
                            "    </tr>\n",
                            "    <tr>\n",
                            "      <th>max</th>\n",
                            "      <td>64.000000</td>\n",
                            "      <td>11676.000000</td>\n",
                            "      <td>6.000000</td>\n",
                            "      <td>6.00000</td>\n",
                            "      <td>74.000000</td>\n",
                            "      <td>4.000000</td>\n",
                            "      <td>2.00000</td>\n",
                            "      <td>1.000000</td>\n",
                            "    </tr>\n",
                            "  </tbody>\n",
                            "</table>\n",
                            "</div>"
                        ],
                        "text/plain": [
                            "       LoanDuration    LoanAmount  InstallmentPercent  \\\n",
                            "count   3995.000000   3995.000000         3995.000000   \n",
                            "mean      21.395745   3488.971464            2.977222   \n",
                            "std       11.175001   2500.504918            1.130774   \n",
                            "min        4.000000    250.000000            1.000000   \n",
                            "25%       12.500000   1328.000000            2.000000   \n",
                            "50%       21.000000   3237.000000            3.000000   \n",
                            "75%       29.000000   5334.500000            4.000000   \n",
                            "max       64.000000  11676.000000            6.000000   \n",
                            "\n",
                            "       CurrentResidenceDuration          Age  ExistingCreditsCount  \\\n",
                            "count                3995.00000  3995.000000           3995.000000   \n",
                            "mean                    2.84781    35.979224              1.472340   \n",
                            "std                     1.12105    10.678289              0.567809   \n",
                            "min                     1.00000    19.000000              1.000000   \n",
                            "25%                     2.00000    28.000000              1.000000   \n",
                            "50%                     3.00000    36.000000              1.000000   \n",
                            "75%                     4.00000    44.000000              2.000000   \n",
                            "max                     6.00000    74.000000              4.000000   \n",
                            "\n",
                            "       Dependents         Risk  \n",
                            "count  3995.00000  3995.000000  \n",
                            "mean      1.16821     0.330914  \n",
                            "std       0.37410     0.470601  \n",
                            "min       1.00000     0.000000  \n",
                            "25%       1.00000     0.000000  \n",
                            "50%       1.00000     0.000000  \n",
                            "75%       1.00000     1.000000  \n",
                            "max       2.00000     1.000000  "
                        ]
                    },
                    "execution_count": 6,
                    "metadata": {},
                    "output_type": "execute_result"
                }
            ],
            "source": [
                "train_data.describe()"
            ]
        },
        {
            "cell_type": "code",
            "execution_count": 7,
            "metadata": {},
            "outputs": [
                {
                    "data": {
                        "text/html": [
                            "<div>\n",
                            "<style scoped>\n",
                            "    .dataframe tbody tr th:only-of-type {\n",
                            "        vertical-align: middle;\n",
                            "    }\n",
                            "\n",
                            "    .dataframe tbody tr th {\n",
                            "        vertical-align: top;\n",
                            "    }\n",
                            "\n",
                            "    .dataframe thead th {\n",
                            "        text-align: right;\n",
                            "    }\n",
                            "</style>\n",
                            "<table border=\"1\" class=\"dataframe\">\n",
                            "  <thead>\n",
                            "    <tr style=\"text-align: right;\">\n",
                            "      <th></th>\n",
                            "      <th>CheckingStatus</th>\n",
                            "      <th>CreditHistory</th>\n",
                            "      <th>LoanPurpose</th>\n",
                            "      <th>ExistingSavings</th>\n",
                            "      <th>EmploymentDuration</th>\n",
                            "      <th>Sex</th>\n",
                            "      <th>OthersOnLoan</th>\n",
                            "      <th>OwnsProperty</th>\n",
                            "      <th>InstallmentPlans</th>\n",
                            "      <th>Housing</th>\n",
                            "      <th>Job</th>\n",
                            "      <th>Telephone</th>\n",
                            "      <th>ForeignWorker</th>\n",
                            "    </tr>\n",
                            "  </thead>\n",
                            "  <tbody>\n",
                            "    <tr>\n",
                            "      <th>0</th>\n",
                            "      <td>less_0</td>\n",
                            "      <td>credits_paid_to_date</td>\n",
                            "      <td>car_new</td>\n",
                            "      <td>less_100</td>\n",
                            "      <td>1_to_4</td>\n",
                            "      <td>female</td>\n",
                            "      <td>none</td>\n",
                            "      <td>savings_insurance</td>\n",
                            "      <td>stores</td>\n",
                            "      <td>own</td>\n",
                            "      <td>skilled</td>\n",
                            "      <td>none</td>\n",
                            "      <td>yes</td>\n",
                            "    </tr>\n",
                            "    <tr>\n",
                            "      <th>1</th>\n",
                            "      <td>less_0</td>\n",
                            "      <td>prior_payments_delayed</td>\n",
                            "      <td>furniture</td>\n",
                            "      <td>less_100</td>\n",
                            "      <td>1_to_4</td>\n",
                            "      <td>male</td>\n",
                            "      <td>none</td>\n",
                            "      <td>real_estate</td>\n",
                            "      <td>none</td>\n",
                            "      <td>own</td>\n",
                            "      <td>skilled</td>\n",
                            "      <td>yes</td>\n",
                            "      <td>no</td>\n",
                            "    </tr>\n",
                            "    <tr>\n",
                            "      <th>2</th>\n",
                            "      <td>no_checking</td>\n",
                            "      <td>prior_payments_delayed</td>\n",
                            "      <td>education</td>\n",
                            "      <td>500_to_1000</td>\n",
                            "      <td>greater_7</td>\n",
                            "      <td>male</td>\n",
                            "      <td>none</td>\n",
                            "      <td>unknown</td>\n",
                            "      <td>none</td>\n",
                            "      <td>own</td>\n",
                            "      <td>skilled</td>\n",
                            "      <td>none</td>\n",
                            "      <td>yes</td>\n",
                            "    </tr>\n",
                            "    <tr>\n",
                            "      <th>3</th>\n",
                            "      <td>no_checking</td>\n",
                            "      <td>prior_payments_delayed</td>\n",
                            "      <td>car_new</td>\n",
                            "      <td>100_to_500</td>\n",
                            "      <td>4_to_7</td>\n",
                            "      <td>male</td>\n",
                            "      <td>none</td>\n",
                            "      <td>savings_insurance</td>\n",
                            "      <td>none</td>\n",
                            "      <td>own</td>\n",
                            "      <td>management_self-employed</td>\n",
                            "      <td>none</td>\n",
                            "      <td>yes</td>\n",
                            "    </tr>\n",
                            "    <tr>\n",
                            "      <th>4</th>\n",
                            "      <td>0_to_200</td>\n",
                            "      <td>credits_paid_to_date</td>\n",
                            "      <td>car_new</td>\n",
                            "      <td>less_100</td>\n",
                            "      <td>less_1</td>\n",
                            "      <td>female</td>\n",
                            "      <td>none</td>\n",
                            "      <td>savings_insurance</td>\n",
                            "      <td>none</td>\n",
                            "      <td>own</td>\n",
                            "      <td>management_self-employed</td>\n",
                            "      <td>none</td>\n",
                            "      <td>yes</td>\n",
                            "    </tr>\n",
                            "  </tbody>\n",
                            "</table>\n",
                            "</div>"
                        ],
                        "text/plain": [
                            "  CheckingStatus           CreditHistory LoanPurpose ExistingSavings  \\\n",
                            "0         less_0    credits_paid_to_date     car_new        less_100   \n",
                            "1         less_0  prior_payments_delayed   furniture        less_100   \n",
                            "2    no_checking  prior_payments_delayed   education     500_to_1000   \n",
                            "3    no_checking  prior_payments_delayed     car_new      100_to_500   \n",
                            "4       0_to_200    credits_paid_to_date     car_new        less_100   \n",
                            "\n",
                            "  EmploymentDuration     Sex OthersOnLoan       OwnsProperty InstallmentPlans  \\\n",
                            "0             1_to_4  female         none  savings_insurance           stores   \n",
                            "1             1_to_4    male         none        real_estate             none   \n",
                            "2          greater_7    male         none            unknown             none   \n",
                            "3             4_to_7    male         none  savings_insurance             none   \n",
                            "4             less_1  female         none  savings_insurance             none   \n",
                            "\n",
                            "  Housing                       Job Telephone ForeignWorker  \n",
                            "0     own                   skilled      none           yes  \n",
                            "1     own                   skilled       yes            no  \n",
                            "2     own                   skilled      none           yes  \n",
                            "3     own  management_self-employed      none           yes  \n",
                            "4     own  management_self-employed      none           yes  "
                        ]
                    },
                    "execution_count": 7,
                    "metadata": {},
                    "output_type": "execute_result"
                }
            ],
            "source": [
                "object_df = train_data.select_dtypes('O')\n",
                "object_df.head()"
            ]
        },
        {
            "cell_type": "code",
            "execution_count": 8,
            "metadata": {},
            "outputs": [
                {
                    "data": {
                        "text/plain": [
                            "['LoanPurpose',\n",
                            " 'OthersOnLoan',\n",
                            " 'OwnsProperty',\n",
                            " 'Housing',\n",
                            " 'Telephone',\n",
                            " 'CreditHistory',\n",
                            " 'EmploymentDuration',\n",
                            " 'Sex',\n",
                            " 'Job',\n",
                            " 'ExistingSavings',\n",
                            " 'InstallmentPlans',\n",
                            " 'CheckingStatus',\n",
                            " 'ForeignWorker']"
                        ]
                    },
                    "execution_count": 8,
                    "metadata": {},
                    "output_type": "execute_result"
                }
            ],
            "source": [
                "object_cols = list(set(object_df.columns.tolist()) - set(['Risk']))\n",
                "object_cols"
            ]
        },
        {
            "cell_type": "code",
            "execution_count": 9,
            "metadata": {},
            "outputs": [],
            "source": [
                "numerical_columns = [col for col in train_data.columns.tolist() if col not in object_cols and col!='Risk']"
            ]
        },
        {
            "cell_type": "markdown",
            "metadata": {},
            "source": [
                "## Load Test Data "
            ]
        },
        {
            "cell_type": "code",
            "execution_count": 10,
            "metadata": {},
            "outputs": [
                {
                    "data": {
                        "text/html": [
                            "<div>\n",
                            "<style scoped>\n",
                            "    .dataframe tbody tr th:only-of-type {\n",
                            "        vertical-align: middle;\n",
                            "    }\n",
                            "\n",
                            "    .dataframe tbody tr th {\n",
                            "        vertical-align: top;\n",
                            "    }\n",
                            "\n",
                            "    .dataframe thead th {\n",
                            "        text-align: right;\n",
                            "    }\n",
                            "</style>\n",
                            "<table border=\"1\" class=\"dataframe\">\n",
                            "  <thead>\n",
                            "    <tr style=\"text-align: right;\">\n",
                            "      <th></th>\n",
                            "      <th>CheckingStatus</th>\n",
                            "      <th>LoanDuration</th>\n",
                            "      <th>CreditHistory</th>\n",
                            "      <th>LoanPurpose</th>\n",
                            "      <th>LoanAmount</th>\n",
                            "      <th>ExistingSavings</th>\n",
                            "      <th>EmploymentDuration</th>\n",
                            "      <th>InstallmentPercent</th>\n",
                            "      <th>Sex</th>\n",
                            "      <th>OthersOnLoan</th>\n",
                            "      <th>...</th>\n",
                            "      <th>OwnsProperty</th>\n",
                            "      <th>Age</th>\n",
                            "      <th>InstallmentPlans</th>\n",
                            "      <th>Housing</th>\n",
                            "      <th>ExistingCreditsCount</th>\n",
                            "      <th>Job</th>\n",
                            "      <th>Dependents</th>\n",
                            "      <th>Telephone</th>\n",
                            "      <th>ForeignWorker</th>\n",
                            "      <th>Risk</th>\n",
                            "    </tr>\n",
                            "  </thead>\n",
                            "  <tbody>\n",
                            "    <tr>\n",
                            "      <th>0</th>\n",
                            "      <td>0_to_200</td>\n",
                            "      <td>31</td>\n",
                            "      <td>credits_paid_to_date</td>\n",
                            "      <td>other</td>\n",
                            "      <td>1889</td>\n",
                            "      <td>100_to_500</td>\n",
                            "      <td>less_1</td>\n",
                            "      <td>3</td>\n",
                            "      <td>female</td>\n",
                            "      <td>none</td>\n",
                            "      <td>...</td>\n",
                            "      <td>savings_insurance</td>\n",
                            "      <td>32</td>\n",
                            "      <td>none</td>\n",
                            "      <td>own</td>\n",
                            "      <td>1</td>\n",
                            "      <td>skilled</td>\n",
                            "      <td>1</td>\n",
                            "      <td>none</td>\n",
                            "      <td>yes</td>\n",
                            "      <td>0</td>\n",
                            "    </tr>\n",
                            "    <tr>\n",
                            "      <th>1</th>\n",
                            "      <td>0_to_200</td>\n",
                            "      <td>28</td>\n",
                            "      <td>credits_paid_to_date</td>\n",
                            "      <td>retraining</td>\n",
                            "      <td>3693</td>\n",
                            "      <td>less_100</td>\n",
                            "      <td>greater_7</td>\n",
                            "      <td>3</td>\n",
                            "      <td>male</td>\n",
                            "      <td>none</td>\n",
                            "      <td>...</td>\n",
                            "      <td>savings_insurance</td>\n",
                            "      <td>32</td>\n",
                            "      <td>none</td>\n",
                            "      <td>own</td>\n",
                            "      <td>1</td>\n",
                            "      <td>skilled</td>\n",
                            "      <td>1</td>\n",
                            "      <td>none</td>\n",
                            "      <td>yes</td>\n",
                            "      <td>0</td>\n",
                            "    </tr>\n",
                            "    <tr>\n",
                            "      <th>2</th>\n",
                            "      <td>no_checking</td>\n",
                            "      <td>32</td>\n",
                            "      <td>outstanding_credit</td>\n",
                            "      <td>vacation</td>\n",
                            "      <td>9604</td>\n",
                            "      <td>500_to_1000</td>\n",
                            "      <td>greater_7</td>\n",
                            "      <td>6</td>\n",
                            "      <td>male</td>\n",
                            "      <td>co-applicant</td>\n",
                            "      <td>...</td>\n",
                            "      <td>unknown</td>\n",
                            "      <td>57</td>\n",
                            "      <td>none</td>\n",
                            "      <td>free</td>\n",
                            "      <td>2</td>\n",
                            "      <td>skilled</td>\n",
                            "      <td>2</td>\n",
                            "      <td>yes</td>\n",
                            "      <td>yes</td>\n",
                            "      <td>1</td>\n",
                            "    </tr>\n",
                            "    <tr>\n",
                            "      <th>3</th>\n",
                            "      <td>less_0</td>\n",
                            "      <td>16</td>\n",
                            "      <td>credits_paid_to_date</td>\n",
                            "      <td>vacation</td>\n",
                            "      <td>3109</td>\n",
                            "      <td>less_100</td>\n",
                            "      <td>4_to_7</td>\n",
                            "      <td>3</td>\n",
                            "      <td>female</td>\n",
                            "      <td>none</td>\n",
                            "      <td>...</td>\n",
                            "      <td>car_other</td>\n",
                            "      <td>36</td>\n",
                            "      <td>none</td>\n",
                            "      <td>own</td>\n",
                            "      <td>2</td>\n",
                            "      <td>skilled</td>\n",
                            "      <td>1</td>\n",
                            "      <td>none</td>\n",
                            "      <td>yes</td>\n",
                            "      <td>0</td>\n",
                            "    </tr>\n",
                            "    <tr>\n",
                            "      <th>4</th>\n",
                            "      <td>0_to_200</td>\n",
                            "      <td>15</td>\n",
                            "      <td>prior_payments_delayed</td>\n",
                            "      <td>furniture</td>\n",
                            "      <td>250</td>\n",
                            "      <td>500_to_1000</td>\n",
                            "      <td>4_to_7</td>\n",
                            "      <td>3</td>\n",
                            "      <td>male</td>\n",
                            "      <td>none</td>\n",
                            "      <td>...</td>\n",
                            "      <td>savings_insurance</td>\n",
                            "      <td>24</td>\n",
                            "      <td>none</td>\n",
                            "      <td>own</td>\n",
                            "      <td>2</td>\n",
                            "      <td>skilled</td>\n",
                            "      <td>2</td>\n",
                            "      <td>yes</td>\n",
                            "      <td>yes</td>\n",
                            "      <td>0</td>\n",
                            "    </tr>\n",
                            "  </tbody>\n",
                            "</table>\n",
                            "<p>5 rows × 21 columns</p>\n",
                            "</div>"
                        ],
                        "text/plain": [
                            "  CheckingStatus  LoanDuration           CreditHistory LoanPurpose  \\\n",
                            "0       0_to_200            31    credits_paid_to_date       other   \n",
                            "1       0_to_200            28    credits_paid_to_date  retraining   \n",
                            "2    no_checking            32      outstanding_credit    vacation   \n",
                            "3         less_0            16    credits_paid_to_date    vacation   \n",
                            "4       0_to_200            15  prior_payments_delayed   furniture   \n",
                            "\n",
                            "   LoanAmount ExistingSavings EmploymentDuration  InstallmentPercent     Sex  \\\n",
                            "0        1889      100_to_500             less_1                   3  female   \n",
                            "1        3693        less_100          greater_7                   3    male   \n",
                            "2        9604     500_to_1000          greater_7                   6    male   \n",
                            "3        3109        less_100             4_to_7                   3  female   \n",
                            "4         250     500_to_1000             4_to_7                   3    male   \n",
                            "\n",
                            "   OthersOnLoan  ...       OwnsProperty Age  InstallmentPlans Housing  \\\n",
                            "0          none  ...  savings_insurance  32              none     own   \n",
                            "1          none  ...  savings_insurance  32              none     own   \n",
                            "2  co-applicant  ...            unknown  57              none    free   \n",
                            "3          none  ...          car_other  36              none     own   \n",
                            "4          none  ...  savings_insurance  24              none     own   \n",
                            "\n",
                            "  ExistingCreditsCount      Job Dependents  Telephone ForeignWorker Risk  \n",
                            "0                    1  skilled          1       none           yes    0  \n",
                            "1                    1  skilled          1       none           yes    0  \n",
                            "2                    2  skilled          2        yes           yes    1  \n",
                            "3                    2  skilled          1       none           yes    0  \n",
                            "4                    2  skilled          2        yes           yes    0  \n",
                            "\n",
                            "[5 rows x 21 columns]"
                        ]
                    },
                    "execution_count": 10,
                    "metadata": {},
                    "output_type": "execute_result"
                }
            ],
            "source": [
                "test_data = read_data_from_mlops_cos('test_gcr.csv')\n",
                "test_data.head()"
            ]
        },
        {
            "cell_type": "markdown",
            "metadata": {},
            "source": [
                "## Split X and Y "
            ]
        },
        {
            "cell_type": "code",
            "execution_count": 11,
            "metadata": {},
            "outputs": [],
            "source": [
                "y_train = train_data['Risk']\n",
                "\n",
                "X_train = train_data.drop(\"Risk\",axis=1)\n",
                "\n",
                "\n",
                "y_test = test_data['Risk']\n",
                "\n",
                "X_test = test_data.drop(\"Risk\",axis=1)\n",
                "\n"
            ]
        },
        {
            "cell_type": "markdown",
            "metadata": {},
            "source": [
                "## Categorcial Feature Analysis "
            ]
        },
        {
            "cell_type": "code",
            "execution_count": 35,
            "metadata": {},
            "outputs": [],
            "source": [
                "def prepare_input_data(X_train, X_test):\n",
                "    oe = OrdinalEncoder()\n",
                "    oe.fit(X_train)\n",
                "    X_train_enc = oe.transform(X_train)\n",
                "    X_test_enc = oe.transform(X_test)\n",
                "    return X_train_enc, X_test_enc\n",
                "\n",
                "\n",
                "def prepare_output_data(y_train, y_test):\n",
                "    le = LabelEncoder()\n",
                "    le.fit(y_train)\n",
                "    y_train_enc = le.transform(y_train)\n",
                "    y_test_enc = le.transform(y_test)\n",
                "    return y_train_enc, y_test_enc\n",
                "\n",
                "\n",
                "def select_best_chi2_features(X_train, y_train, X_test,score_func=chi2):\n",
                "    featureselector = SelectKBest(score_func=chi2, k='all')\n",
                "    featureselector.fit(X_train, y_train)\n",
                "    X_train_best_feat = featureselector.transform(X_train)\n",
                "    X_test_best_feat= featureselector.transform(X_test)\n",
                "    return X_train_best_feat, X_test_best_feat, featureselector\n",
                "\n",
                "\n",
                "def select_best_mutualinf_features(X_train, y_train, X_test,k=5):\n",
                "    featureselector = SelectKBest(score_func=mutual_info_classif, k=k)\n",
                "    featureselector.fit(X_train, y_train)\n",
                "    X_train_best_feat = fs.transform(X_train)\n",
                "    X_test_best_feat= fs.transform(X_test)\n",
                "    return X_train_best_feat, X_test_best_feat, featureselector\n",
                "\n",
                "def plot_scores():\n",
                "    plt.figure(figsize=(14, 12))\n",
                "    plt.subplot(221)\n",
                "\n",
                "    ax1 = sns.barplot([i for i in range(len(fs.scores_))], fs.scores_)\n",
                "    ax1.set_title(\"Chi2 Importance Scores\", fontsize=20)\n",
                "    ax1.set_xlabel(\"Features\",fontsize=15)\n",
                "    ax1.set_ylabel(\"Chi2 Scores\",fontsize=15)\n",
                "    \n",
                "    \n",
                "def get_top_k_catgeorical(fs,train_cat,k=10):\n",
                "    fs_score_map = {}\n",
                "    for i in range(len(fs.scores_)):\n",
                "        #print(f\"Feature {train_cat.columns.tolist()[i]} {fs.scores_[i]}\")\n",
                "        fs_score_map[train_cat.columns.tolist()[i]] = fs.scores_[i]\n",
                "        \n",
                "    k_keys_sorted_by_values = heapq.nlargest(k, fs_score_map, key=fs_score_map.get)\n",
                "    \n",
                "    return k_keys_sorted_by_values\n",
                "    \n",
                "    \n"
            ]
        },
        {
            "cell_type": "markdown",
            "metadata": {},
            "source": [
                "## Encode and shape the Variables "
            ]
        },
        {
            "cell_type": "code",
            "execution_count": 36,
            "metadata": {},
            "outputs": [
                {
                    "name": "stderr",
                    "output_type": "stream",
                    "text": [
                        "/opt/conda/envs/Python-3.9/lib/python3.9/site-packages/seaborn/_decorators.py:36: FutureWarning: Pass the following variables as keyword args: x, y. From version 0.12, the only valid positional argument will be `data`, and passing other arguments without an explicit keyword will result in an error or misinterpretation.\n",
                        "  warnings.warn(\n"
                    ]
                },
                {
                    "data": {
                        "image/png": "[encoded data removed]",
                        "text/plain": [
                            "<Figure size 1008x864 with 1 Axes>"
                        ]
                    },
                    "metadata": {
                        "needs_background": "light"
                    },
                    "output_type": "display_data"
                }
            ],
            "source": [
                "X_train_enc, X_test_enc = prepare_input_data(X_train[object_cols], X_test[object_cols])\n",
                "\n",
                "y_train_enc, y_test_enc = prepare_output_data(y_train, y_test)\n",
                "\n",
                "X_train_fs, X_test_fs, fs = select_best_chi2_features(X_train_enc, y_train_enc, X_test_enc)\n",
                "\n",
                "plot_scores()\n"
            ]
        },
        {
            "cell_type": "markdown",
            "metadata": {},
            "source": [
                "## Top K Categorical Features  based on Chi2"
            ]
        },
        {
            "cell_type": "code",
            "execution_count": 37,
            "metadata": {},
            "outputs": [
                {
                    "data": {
                        "text/plain": [
                            "['CreditHistory',\n",
                            " 'Telephone',\n",
                            " 'CheckingStatus',\n",
                            " 'Housing',\n",
                            " 'OthersOnLoan',\n",
                            " 'OwnsProperty',\n",
                            " 'LoanPurpose',\n",
                            " 'ExistingSavings',\n",
                            " 'EmploymentDuration',\n",
                            " 'Job']"
                        ]
                    },
                    "execution_count": 37,
                    "metadata": {},
                    "output_type": "execute_result"
                }
            ],
            "source": [
                "top_k_cat = get_top_k_catgeorical(fs,X_train[object_cols])\n",
                "top_k_cat"
            ]
        },
        {
            "cell_type": "markdown",
            "metadata": {},
            "source": [
                "## Top K Categorical Features  based on Mutual Information Feature Selection"
            ]
        },
        {
            "cell_type": "code",
            "execution_count": 38,
            "metadata": {},
            "outputs": [
                {
                    "name": "stderr",
                    "output_type": "stream",
                    "text": [
                        "/opt/conda/envs/Python-3.9/lib/python3.9/site-packages/seaborn/_decorators.py:36: FutureWarning: Pass the following variables as keyword args: x, y. From version 0.12, the only valid positional argument will be `data`, and passing other arguments without an explicit keyword will result in an error or misinterpretation.\n",
                        "  warnings.warn(\n"
                    ]
                },
                {
                    "data": {
                        "image/png": "[encoded data removed]",
                        "text/plain": [
                            "<Figure size 1008x864 with 1 Axes>"
                        ]
                    },
                    "metadata": {
                        "needs_background": "light"
                    },
                    "output_type": "display_data"
                }
            ],
            "source": [
                "X_train_enc_mf, X_test_enc_mf = prepare_input_data(X_train[object_cols], X_test[object_cols])\n",
                "\n",
                "y_train_enc_mf, y_test_enc_mf = prepare_output_data(y_train, y_test)\n",
                "\n",
                "X_train_fs_mf, X_test_fs_mf, fs_mf = select_best_chi2_features(X_train_enc_mf, y_train_enc_mf, X_test_enc_mf)\n",
                "\n",
                "plot_scores()"
            ]
        },
        {
            "cell_type": "code",
            "execution_count": 39,
            "metadata": {},
            "outputs": [
                {
                    "data": {
                        "text/plain": [
                            "['CreditHistory',\n",
                            " 'Telephone',\n",
                            " 'CheckingStatus',\n",
                            " 'Housing',\n",
                            " 'OthersOnLoan',\n",
                            " 'OwnsProperty',\n",
                            " 'LoanPurpose',\n",
                            " 'ExistingSavings',\n",
                            " 'EmploymentDuration',\n",
                            " 'Job']"
                        ]
                    },
                    "execution_count": 39,
                    "metadata": {},
                    "output_type": "execute_result"
                }
            ],
            "source": [
                "top_k_cat_mf = get_top_k_catgeorical(fs_mf,X_train[object_cols])\n",
                "top_k_cat_mf"
            ]
        },
        {
            "cell_type": "code",
            "execution_count": 52,
            "metadata": {},
            "outputs": [
                {
                    "data": {
                        "text/plain": [
                            "['LoanPurpose',\n",
                            " 'OthersOnLoan',\n",
                            " 'Housing',\n",
                            " 'Telephone',\n",
                            " 'OwnsProperty',\n",
                            " 'CreditHistory',\n",
                            " 'EmploymentDuration',\n",
                            " 'Job',\n",
                            " 'ExistingSavings',\n",
                            " 'CheckingStatus',\n",
                            " 'Sex']"
                        ]
                    },
                    "execution_count": 52,
                    "metadata": {},
                    "output_type": "execute_result"
                }
            ],
            "source": [
                "union_features = list(set(top_k_cat+top_k_cat_mf))\n",
                "if \"Sex\" not in union_features:\n",
                "    union_features.append(\"Sex\")\n",
                "union_features"
            ]
        },
        {
            "cell_type": "markdown",
            "metadata": {},
            "source": [
                "## Filter the Top K Categorical features and Merge to Original Train and Test Dataframes"
            ]
        },
        {
            "cell_type": "code",
            "execution_count": 53,
            "metadata": {},
            "outputs": [],
            "source": [
                "X_train_object_filtered = X_train[union_features]\n",
                "X_test_object_filtered = X_test[union_features]\n",
                "\n",
                "X_train_final = pd.concat([X_train[numerical_columns],X_train_object_filtered],axis=1)\n",
                "\n",
                "X_test_final = pd.concat([X_test[numerical_columns],X_test_object_filtered],axis=1)"
            ]
        },
        {
            "cell_type": "markdown",
            "metadata": {},
            "source": [
                "## Use Column Transformer and Pipelines to encode the Input and Output Variables . Scale the Numerical columns using MinMaxScaler."
            ]
        },
        {
            "cell_type": "code",
            "execution_count": 54,
            "metadata": {},
            "outputs": [],
            "source": [
                "numerical_ix = X_train_final.select_dtypes(include=['int64', 'float64']).columns\n",
                "categorical_ix = X_train_final.select_dtypes(include=['object', 'bool']).columns"
            ]
        },
        {
            "cell_type": "code",
            "execution_count": 55,
            "metadata": {},
            "outputs": [],
            "source": [
                "encoding_steps = [('cat', OrdinalEncoder(), categorical_ix), ('num', MinMaxScaler(), numerical_ix)]\n",
                "col_transform = ColumnTransformer(transformers=encoding_steps)"
            ]
        },
        {
            "cell_type": "code",
            "execution_count": 56,
            "metadata": {},
            "outputs": [],
            "source": [
                "pipeline = Pipeline(steps=[('prep',col_transform)])"
            ]
        },
        {
            "cell_type": "code",
            "execution_count": 57,
            "metadata": {},
            "outputs": [],
            "source": [
                "train_final = pd.concat([X_train_final,y_train],axis=1)"
            ]
        },
        {
            "cell_type": "code",
            "execution_count": 58,
            "metadata": {},
            "outputs": [],
            "source": [
                "test_final = pd.concat([X_test_final,y_test],axis=1)"
            ]
        },
        {
            "cell_type": "code",
            "execution_count": 47,
            "metadata": {},
            "outputs": [],
            "source": [
                "#encoded_train = pd.DataFrame(pipeline.fit_transform(X_train_final),columns=X_train_final.columns)"
            ]
        },
        {
            "cell_type": "code",
            "execution_count": 48,
            "metadata": {},
            "outputs": [],
            "source": [
                "#encoded_test = pd.DataFrame(pipeline.transform(X_test_final),columns=X_test_final.columns)"
            ]
        },
        {
            "cell_type": "markdown",
            "metadata": {},
            "source": [
                "## Save the Prepared Data to IBM COS"
            ]
        },
        {
            "cell_type": "code",
            "execution_count": 27,
            "metadata": {},
            "outputs": [
                {
                    "name": "stdout",
                    "output_type": "stream",
                    "text": [
                        "File train_tfr.csv uploaded successfully\n"
                    ]
                }
            ],
            "source": [
                "save_data_in_cos(train_final,\"train_tfr.csv\",\"train_tfr.csv\",mlops_cos_credentials)"
            ]
        },
        {
            "cell_type": "code",
            "execution_count": 28,
            "metadata": {},
            "outputs": [
                {
                    "name": "stdout",
                    "output_type": "stream",
                    "text": [
                        "File test_tfr.csv uploaded successfully\n"
                    ]
                }
            ],
            "source": [
                "save_data_in_cos(test_final,\"test_tfr.csv\",\"test_tfr.csv\",mlops_cos_credentials)"
            ]
        },
        {
            "cell_type": "code",
            "execution_count": 29,
            "metadata": {},
            "outputs": [
                {
                    "name": "stdout",
                    "output_type": "stream",
                    "text": [
                        "File feature_encode.pickle uploaded successfully\n"
                    ]
                }
            ],
            "source": [
                "save_data_in_cos(pipeline,\"feature_encode.pickle\",\"feature_encode.pickle\",mlops_cos_credentials,pipe=True)"
            ]
        },
        {
            "cell_type": "markdown",
            "metadata": {},
            "source": [
                "## Check if files have been copied "
            ]
        },
        {
            "cell_type": "code",
            "execution_count": 30,
            "metadata": {},
            "outputs": [
                {
                    "data": {
                        "text/plain": [
                            "True"
                        ]
                    },
                    "execution_count": 30,
                    "metadata": {},
                    "output_type": "execute_result"
                }
            ],
            "source": [
                "data_prep_done = check_if_file_exists(\"train_tfr.csv\") and check_if_file_exists(\"test_tfr.csv\") and check_if_file_exists(\"feature_encode.pickle\")\n",
                "data_prep_done"
            ]
        },
        {
            "cell_type": "markdown",
            "metadata": {},
            "source": [
                "## Store Params in WS Pipelines"
            ]
        },
        {
            "cell_type": "code",
            "execution_count": 33,
            "metadata": {},
            "outputs": [
                {
                    "ename": "MissingValueError",
                    "evalue": "No \"APIKEY\" provided.",
                    "output_type": "error",
                    "traceback": [
                        "\u001b[0;31m---------------------------------------------------------------------------\u001b[0m",
                        "\u001b[0;31mMissingValueError\u001b[0m                         Traceback (most recent call last)",
                        "\u001b[0;32m/tmp/wsuser/ipykernel_3434/1434487689.py\u001b[0m in \u001b[0;36m<module>\u001b[0;34m\u001b[0m\n\u001b[1;32m      1\u001b[0m \u001b[0;32mfrom\u001b[0m \u001b[0mibm_watson_studio_pipelines\u001b[0m \u001b[0;32mimport\u001b[0m \u001b[0mWSPipelines\u001b[0m\u001b[0;34m\u001b[0m\u001b[0;34m\u001b[0m\u001b[0m\n\u001b[0;32m----> 2\u001b[0;31m \u001b[0mpipelines_client\u001b[0m \u001b[0;34m=\u001b[0m \u001b[0mWSPipelines\u001b[0m\u001b[0;34m.\u001b[0m\u001b[0mfrom_apikey\u001b[0m\u001b[0;34m(\u001b[0m\u001b[0mapikey\u001b[0m\u001b[0;34m=\u001b[0m\u001b[0mCLOUD_API_KEY\u001b[0m\u001b[0;34m)\u001b[0m\u001b[0;34m\u001b[0m\u001b[0;34m\u001b[0m\u001b[0m\n\u001b[0m\u001b[1;32m      3\u001b[0m \u001b[0mpipelines_client\u001b[0m\u001b[0;34m.\u001b[0m\u001b[0mstore_results\u001b[0m\u001b[0;34m(\u001b[0m\u001b[0mpreparation_params\u001b[0m\u001b[0;34m)\u001b[0m\u001b[0;34m\u001b[0m\u001b[0;34m\u001b[0m\u001b[0m\n",
                        "\u001b[0;32m/opt/conda/envs/Python-3.9/lib/python3.9/site-packages/ibm_watson_studio_pipelines/client.py\u001b[0m in \u001b[0;36mfrom_apikey\u001b[0;34m(cls, apikey, service_name, url)\u001b[0m\n\u001b[1;32m     91\u001b[0m         \u001b[0mReturn\u001b[0m \u001b[0ma\u001b[0m \u001b[0mnew\u001b[0m \u001b[0mWatson\u001b[0m \u001b[0mStudio\u001b[0m \u001b[0mPipelines\u001b[0m \u001b[0mclient\u001b[0m \u001b[0;32mfor\u001b[0m \u001b[0mthe\u001b[0m \u001b[0mspecified\u001b[0m \u001b[0mAPI\u001b[0m \u001b[0mkey\u001b[0m\u001b[0;34m.\u001b[0m\u001b[0;34m\u001b[0m\u001b[0;34m\u001b[0m\u001b[0m\n\u001b[1;32m     92\u001b[0m         \"\"\"\n\u001b[0;32m---> 93\u001b[0;31m         return cls(\n\u001b[0m\u001b[1;32m     94\u001b[0m             \u001b[0mapikey\u001b[0m\u001b[0;34m=\u001b[0m\u001b[0mapikey\u001b[0m\u001b[0;34m,\u001b[0m\u001b[0;34m\u001b[0m\u001b[0;34m\u001b[0m\u001b[0m\n\u001b[1;32m     95\u001b[0m             \u001b[0mauth_method\u001b[0m\u001b[0;34m=\u001b[0m\u001b[0mAuthMethod\u001b[0m\u001b[0;34m.\u001b[0m\u001b[0mAPIKEY\u001b[0m\u001b[0;34m,\u001b[0m\u001b[0;34m\u001b[0m\u001b[0;34m\u001b[0m\u001b[0m\n",
                        "\u001b[0;32m/opt/conda/envs/Python-3.9/lib/python3.9/site-packages/ibm_watson_studio_pipelines/client.py\u001b[0m in \u001b[0;36m__init__\u001b[0;34m(self, apikey, bearer_token, service_name, url, auth_method)\u001b[0m\n\u001b[1;32m    123\u001b[0m         \u001b[0mvalidate_type\u001b[0m\u001b[0;34m(\u001b[0m\u001b[0murl\u001b[0m\u001b[0;34m,\u001b[0m \u001b[0;34m\"url\"\u001b[0m\u001b[0;34m,\u001b[0m \u001b[0mstr\u001b[0m\u001b[0;34m)\u001b[0m\u001b[0;34m\u001b[0m\u001b[0;34m\u001b[0m\u001b[0m\n\u001b[1;32m    124\u001b[0m \u001b[0;34m\u001b[0m\u001b[0m\n\u001b[0;32m--> 125\u001b[0;31m         authenticator, is_public = self._get_authenticator(\n\u001b[0m\u001b[1;32m    126\u001b[0m             \u001b[0mauth_method\u001b[0m\u001b[0;34m,\u001b[0m\u001b[0;34m\u001b[0m\u001b[0;34m\u001b[0m\u001b[0m\n\u001b[1;32m    127\u001b[0m             \u001b[0mapikey\u001b[0m\u001b[0;34m=\u001b[0m\u001b[0mapikey\u001b[0m\u001b[0;34m,\u001b[0m\u001b[0;34m\u001b[0m\u001b[0;34m\u001b[0m\u001b[0m\n",
                        "\u001b[0;32m/opt/conda/envs/Python-3.9/lib/python3.9/site-packages/ibm_watson_studio_pipelines/client.py\u001b[0m in \u001b[0;36m_get_authenticator\u001b[0;34m(self, auth_method, apikey, bearer_token, url)\u001b[0m\n\u001b[1;32m    173\u001b[0m                 \u001b[0mapikey\u001b[0m \u001b[0;34m=\u001b[0m \u001b[0mos\u001b[0m\u001b[0;34m.\u001b[0m\u001b[0menviron\u001b[0m\u001b[0;34m.\u001b[0m\u001b[0mget\u001b[0m\u001b[0;34m(\u001b[0m\u001b[0;34m'APIKEY'\u001b[0m\u001b[0;34m,\u001b[0m \u001b[0;32mNone\u001b[0m\u001b[0;34m)\u001b[0m\u001b[0;34m\u001b[0m\u001b[0;34m\u001b[0m\u001b[0m\n\u001b[1;32m    174\u001b[0m             \u001b[0;32mif\u001b[0m \u001b[0mapikey\u001b[0m \u001b[0;32mis\u001b[0m \u001b[0;32mNone\u001b[0m\u001b[0;34m:\u001b[0m\u001b[0;34m\u001b[0m\u001b[0;34m\u001b[0m\u001b[0m\n\u001b[0;32m--> 175\u001b[0;31m                 \u001b[0;32mraise\u001b[0m \u001b[0mMissingValueError\u001b[0m\u001b[0;34m(\u001b[0m\u001b[0;34m'APIKEY'\u001b[0m\u001b[0;34m)\u001b[0m\u001b[0;34m\u001b[0m\u001b[0;34m\u001b[0m\u001b[0m\n\u001b[0m\u001b[1;32m    176\u001b[0m             \u001b[0;32mreturn\u001b[0m \u001b[0mself\u001b[0m\u001b[0;34m.\u001b[0m\u001b[0m_get_authenticator_from_api_key\u001b[0m\u001b[0;34m(\u001b[0m\u001b[0mapikey\u001b[0m\u001b[0;34m,\u001b[0m \u001b[0murl\u001b[0m\u001b[0;34m)\u001b[0m\u001b[0;34m\u001b[0m\u001b[0;34m\u001b[0m\u001b[0m\n\u001b[1;32m    177\u001b[0m \u001b[0;34m\u001b[0m\u001b[0m\n",
                        "\u001b[0;31mMissingValueError\u001b[0m: No \"APIKEY\" provided."
                    ]
                }
            ],
            "source": [
                "preparation_params = {}\n",
                "preparation_params['data_prep_done'] = data_prep_done\n",
                "\n",
                "pipelines_client = WSPipelines.from_apikey(apikey=CLOUD_API_KEY)\n",
                "pipelines_client.store_results(preparation_params)"
            ]
        }
    ],
    "metadata": {
        "kernelspec": {
            "display_name": "Python 3",
            "language": "python",
            "name": "python3"
        },
        "language_info": {
            "codemirror_mode": {
                "name": "ipython",
                "version": 3
            },
            "file_extension": ".py",
            "mimetype": "text/x-python",
            "name": "python",
            "nbconvert_exporter": "python",
            "pygments_lexer": "ipython3",
            "version": "3.10.8 (main, Oct 21 2022, 22:22:30) [Clang 14.0.0 (clang-1400.0.29.202)]"
        },
        "vscode": {
            "interpreter": {
                "hash": "b0fa6594d8f4cbf19f97940f81e996739fb7646882a419484c72d19e05852a7e"
            }
        }
    },
    "nbformat": 4,
    "nbformat_minor": 1
}
