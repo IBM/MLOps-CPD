{
    "cells": [
        {
            "cell_type": "code",
            "execution_count": 2,
            "metadata": {},
            "outputs": [],
            "source": "from ibm_cloud_sdk_core.authenticators import IAMAuthenticator\nfrom ibm_watson_openscale import APIClient as wosclient\nfrom ibm_watson_studio_pipelines import WSPipelines\nfrom botocore.client import Config\nimport ibm_boto3\nimport pandas as pd\nimport json\nimport os\nimport requests"
        },
        {
            "cell_type": "code",
            "execution_count": 3,
            "metadata": {},
            "outputs": [],
            "source": "CLOUD_API_KEY = os.getenv(\"cloud_api_key\")\nspace_id = os.getenv(\"space_id\")\npre_prod_model_id = os.getenv('pre_prod_model_id')\ndata_mart_id = os.getenv(\"data_mart_id\")"
        },
        {
            "cell_type": "markdown",
            "metadata": {},
            "source": "## If the model deploys to prod env, check if the model is approved for production"
        },
        {
            "cell_type": "code",
            "execution_count": 4,
            "metadata": {},
            "outputs": [
                {
                    "ename": "ValueError",
                    "evalue": "The apikey shouldn't be None.",
                    "output_type": "error",
                    "traceback": [
                        "\u001b[0;31m---------------------------------------------------------------------------\u001b[0m",
                        "\u001b[0;31mValueError\u001b[0m                                Traceback (most recent call last)",
                        "\u001b[0;32m/tmp/wsuser/ipykernel_2109/1832037076.py\u001b[0m in \u001b[0;36m<module>\u001b[0;34m\u001b[0m\n\u001b[0;32m----> 1\u001b[0;31m \u001b[0mauthenticator\u001b[0m \u001b[0;34m=\u001b[0m \u001b[0mIAMAuthenticator\u001b[0m\u001b[0;34m(\u001b[0m\u001b[0mapikey\u001b[0m\u001b[0;34m=\u001b[0m\u001b[0mCLOUD_API_KEY\u001b[0m\u001b[0;34m)\u001b[0m\u001b[0;34m\u001b[0m\u001b[0;34m\u001b[0m\u001b[0m\n\u001b[0m\u001b[1;32m      2\u001b[0m \u001b[0mwos_client\u001b[0m \u001b[0;34m=\u001b[0m \u001b[0mwosclient\u001b[0m\u001b[0;34m(\u001b[0m\u001b[0mauthenticator\u001b[0m\u001b[0;34m=\u001b[0m\u001b[0mauthenticator\u001b[0m\u001b[0;34m,\u001b[0m\u001b[0mservice_instance_id\u001b[0m\u001b[0;34m=\u001b[0m\u001b[0mdata_mart_id\u001b[0m\u001b[0;34m)\u001b[0m\u001b[0;34m\u001b[0m\u001b[0;34m\u001b[0m\u001b[0m\n\u001b[1;32m      3\u001b[0m \u001b[0mwos_client\u001b[0m\u001b[0;34m.\u001b[0m\u001b[0mversion\u001b[0m\u001b[0;34m\u001b[0m\u001b[0;34m\u001b[0m\u001b[0m\n",
                        "\u001b[0;32m/opt/conda/envs/Python-3.9/lib/python3.9/site-packages/ibm_cloud_sdk_core/authenticators/iam_authenticator.py\u001b[0m in \u001b[0;36m__init__\u001b[0;34m(self, apikey, url, client_id, client_secret, disable_ssl_verification, headers, proxies, scope)\u001b[0m\n\u001b[1;32m     84\u001b[0m         )\n\u001b[1;32m     85\u001b[0m \u001b[0;34m\u001b[0m\u001b[0m\n\u001b[0;32m---> 86\u001b[0;31m         \u001b[0mself\u001b[0m\u001b[0;34m.\u001b[0m\u001b[0mvalidate\u001b[0m\u001b[0;34m(\u001b[0m\u001b[0;34m)\u001b[0m\u001b[0;34m\u001b[0m\u001b[0;34m\u001b[0m\u001b[0m\n\u001b[0m\u001b[1;32m     87\u001b[0m \u001b[0;34m\u001b[0m\u001b[0m\n\u001b[1;32m     88\u001b[0m     \u001b[0;32mdef\u001b[0m \u001b[0mauthentication_type\u001b[0m\u001b[0;34m(\u001b[0m\u001b[0mself\u001b[0m\u001b[0;34m)\u001b[0m \u001b[0;34m->\u001b[0m \u001b[0mstr\u001b[0m\u001b[0;34m:\u001b[0m\u001b[0;34m\u001b[0m\u001b[0;34m\u001b[0m\u001b[0m\n",
                        "\u001b[0;32m/opt/conda/envs/Python-3.9/lib/python3.9/site-packages/ibm_cloud_sdk_core/authenticators/iam_authenticator.py\u001b[0m in \u001b[0;36mvalidate\u001b[0;34m(self)\u001b[0m\n\u001b[1;32m    102\u001b[0m \u001b[0;34m\u001b[0m\u001b[0m\n\u001b[1;32m    103\u001b[0m         \u001b[0;32mif\u001b[0m \u001b[0mself\u001b[0m\u001b[0;34m.\u001b[0m\u001b[0mtoken_manager\u001b[0m\u001b[0;34m.\u001b[0m\u001b[0mapikey\u001b[0m \u001b[0;32mis\u001b[0m \u001b[0;32mNone\u001b[0m\u001b[0;34m:\u001b[0m\u001b[0;34m\u001b[0m\u001b[0;34m\u001b[0m\u001b[0m\n\u001b[0;32m--> 104\u001b[0;31m             \u001b[0;32mraise\u001b[0m \u001b[0mValueError\u001b[0m\u001b[0;34m(\u001b[0m\u001b[0;34m'The apikey shouldn\\'t be None.'\u001b[0m\u001b[0;34m)\u001b[0m\u001b[0;34m\u001b[0m\u001b[0;34m\u001b[0m\u001b[0m\n\u001b[0m\u001b[1;32m    105\u001b[0m \u001b[0;34m\u001b[0m\u001b[0m\n\u001b[1;32m    106\u001b[0m         \u001b[0;32mif\u001b[0m \u001b[0mhas_bad_first_or_last_char\u001b[0m\u001b[0;34m(\u001b[0m\u001b[0mself\u001b[0m\u001b[0;34m.\u001b[0m\u001b[0mtoken_manager\u001b[0m\u001b[0;34m.\u001b[0m\u001b[0mapikey\u001b[0m\u001b[0;34m)\u001b[0m\u001b[0;34m:\u001b[0m\u001b[0;34m\u001b[0m\u001b[0;34m\u001b[0m\u001b[0m\n",
                        "\u001b[0;31mValueError\u001b[0m: The apikey shouldn't be None."
                    ]
                }
            ],
            "source": "authenticator = IAMAuthenticator(apikey=CLOUD_API_KEY)\nwos_client = wosclient(authenticator=authenticator,service_instance_id=data_mart_id)\nwos_client.version"
        },
        {
            "cell_type": "markdown",
            "metadata": {},
            "source": "#### Check if the deployment env is prod env"
        },
        {
            "cell_type": "code",
            "execution_count": 8,
            "metadata": {},
            "outputs": [],
            "source": "service_providers = wos_client.service_providers.list().result.service_providers"
        },
        {
            "cell_type": "markdown",
            "metadata": {},
            "source": "Check the tag for the service provider"
        },
        {
            "cell_type": "code",
            "execution_count": 9,
            "metadata": {},
            "outputs": [
                {
                    "name": "stdout",
                    "output_type": "stream",
                    "text": "The deployed model is in production environment: True\n"
                }
            ],
            "source": "PROD_DEPLOYMENT = False\nfor service_provider in service_providers:\n    deployment_space_id = service_provider.entity.deployment_space_id\n    if deployment_space_id == space_id and service_provider.entity.operational_space_id == \"production\":\n        PROD_DEPLOYMENT = True\nprint('The deployed model is in production environment:', PROD_DEPLOYMENT)"
        },
        {
            "cell_type": "markdown",
            "metadata": {},
            "source": "#### Check in Openscale if the model is approved for production "
        },
        {
            "cell_type": "code",
            "execution_count": 10,
            "metadata": {},
            "outputs": [],
            "source": "def check_prod_approval(data_mart_id, wos_client):\n    subscriptions = wos_client.subscriptions.list().result.subscriptions\n    for subscription in subscriptions:\n        sub_model_id = subscription.entity.asset.asset_id\n        if sub_model_id == pre_prod_model_id:\n            if subscription.entity.risk_evaluation_status.state == \"approved\":\n                return True\n            else:\n                return False\n    return False"
        },
        {
            "cell_type": "code",
            "execution_count": 11,
            "metadata": {},
            "outputs": [
                {
                    "name": "stdout",
                    "output_type": "stream",
                    "text": "The pre-prod model was approved for production:  True\n"
                }
            ],
            "source": "if PROD_DEPLOYMENT:\n    PREPROD_MODEL_APPROVED = check_prod_approval(data_mart_id, wos_client)\n    print('The pre-prod model was approved for production: ', PREPROD_MODEL_APPROVED)"
        },
        {
            "cell_type": "markdown",
            "metadata": {},
            "source": "### Output to pipeline"
        },
        {
            "cell_type": "code",
            "execution_count": 12,
            "metadata": {},
            "outputs": [],
            "source": "deployment_prod_checks = {}\ndeployment_prod_checks['prod_deployment'] = PROD_DEPLOYMENT\ndeployment_prod_checks['preprod_model_approval'] = PREPROD_MODEL_APPROVED"
        },
        {
            "cell_type": "code",
            "execution_count": 14,
            "metadata": {},
            "outputs": [
                {
                    "name": "stdout",
                    "output_type": "stream",
                    "text": "Running outside of Watson Studio Pipeline - storing results in the local filesystem for testing purposes...\n\n  output paths:\n    - \"prod_deployment\": .ibm_watson_studio_pipelines/results/prod_deployment\n    - \"preprod_model_approval\": .ibm_watson_studio_pipelines/results/preprod_model_approval\n"
                },
                {
                    "data": {
                        "text/plain": "<ibm_cloud_sdk_core.detailed_response.DetailedResponse at 0x7fdce62f8bb0>"
                    },
                    "execution_count": 14,
                    "metadata": {},
                    "output_type": "execute_result"
                }
            ],
            "source": "pipelines_client = WSPipelines.from_apikey(apikey=CLOUD_API_KEY)\npipelines_client.store_results(deployment_prod_checks)"
        },
        {
            "cell_type": "code",
            "execution_count": null,
            "metadata": {},
            "outputs": [],
            "source": ""
        }
    ],
    "metadata": {
        "kernelspec": {
            "display_name": "Python 3.9",
            "language": "python",
            "name": "python3"
        },
        "language_info": {
            "codemirror_mode": {
                "name": "ipython",
                "version": 3
            },
            "file_extension": ".py",
            "mimetype": "text/x-python",
            "name": "python",
            "nbconvert_exporter": "python",
            "pygments_lexer": "ipython3",
            "version": "3.9.13"
        }
    },
    "nbformat": 4,
    "nbformat_minor": 1
}