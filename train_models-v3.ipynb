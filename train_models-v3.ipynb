{
    "cells": [
        {
            "cell_type": "markdown",
            "metadata": {
                "collapsed": true
            },
            "source": "## Training Notebook "
        },
        {
            "cell_type": "markdown",
            "metadata": {},
            "source": "### The following cell is a way to get the utility script required for this notebook. \nSince IBM CPD SaaS doesn't have a filesystem, this is the only reliable way to get scripts on the cloud environment.\n\n```\n!rm -rf MLOps-CPD && git clone --quiet -b master https://github.com/IBM/MLOps-CPD.git\n```\n\n\u26a0\ufe0f Run the following cells only if you are executing on IBM CPD SaaS."
        },
        {
            "cell_type": "code",
            "execution_count": 4,
            "metadata": {},
            "outputs": [],
            "source": "!rm -rf MLOps_CPD"
        },
        {
            "cell_type": "code",
            "execution_count": 5,
            "metadata": {},
            "outputs": [],
            "source": "!rm -rf MLOps-CPD"
        },
        {
            "cell_type": "code",
            "execution_count": 6,
            "metadata": {},
            "outputs": [],
            "source": "!rm -rf MLOps-CPD && git clone --quiet -b master https://github.com/iiias/MLOps-CPD.git"
        },
        {
            "cell_type": "code",
            "execution_count": 7,
            "metadata": {},
            "outputs": [],
            "source": "!mv MLOps-CPD MLOps_CPD"
        },
        {
            "cell_type": "code",
            "execution_count": 8,
            "metadata": {},
            "outputs": [
                {
                    "name": "stdout",
                    "output_type": "stream",
                    "text": "Requirement already satisfied: ibm_watson_machine_learning in /opt/conda/envs/Python-3.9/lib/python3.9/site-packages (1.0.297)\nRequirement already satisfied: ibm_watson_studio_pipelines in /opt/conda/envs/Python-3.9/lib/python3.9/site-packages (0.2.12)\nRequirement already satisfied: ibm_aigov_facts_client in /opt/conda/envs/Python-3.9/lib/python3.9/site-packages (1.0.57)\nRequirement already satisfied: importlib-metadata in /opt/conda/envs/Python-3.9/lib/python3.9/site-packages (from ibm_watson_machine_learning) (4.8.2)\nRequirement already satisfied: lomond in /opt/conda/envs/Python-3.9/lib/python3.9/site-packages (from ibm_watson_machine_learning) (0.3.3)\nRequirement already satisfied: packaging in /opt/conda/envs/Python-3.9/lib/python3.9/site-packages (from ibm_watson_machine_learning) (21.3)\nRequirement already satisfied: urllib3 in /opt/conda/envs/Python-3.9/lib/python3.9/site-packages (from ibm_watson_machine_learning) (1.26.7)\nRequirement already satisfied: requests in /opt/conda/envs/Python-3.9/lib/python3.9/site-packages (from ibm_watson_machine_learning) (2.29.0)\nRequirement already satisfied: tabulate in /opt/conda/envs/Python-3.9/lib/python3.9/site-packages (from ibm_watson_machine_learning) (0.8.9)\nRequirement already satisfied: ibm-cos-sdk==2.11.* in /opt/conda/envs/Python-3.9/lib/python3.9/site-packages (from ibm_watson_machine_learning) (2.11.0)\nRequirement already satisfied: certifi in /opt/conda/envs/Python-3.9/lib/python3.9/site-packages (from ibm_watson_machine_learning) (2022.12.7)\nRequirement already satisfied: pandas<1.6.0,>=0.24.2 in /opt/conda/envs/Python-3.9/lib/python3.9/site-packages (from ibm_watson_machine_learning) (1.3.4)\nRequirement already satisfied: jmespath<1.0.0,>=0.7.1 in /opt/conda/envs/Python-3.9/lib/python3.9/site-packages (from ibm-cos-sdk==2.11.*->ibm_watson_machine_learning) (0.10.0)\nRequirement already satisfied: ibm-cos-sdk-core==2.11.0 in /opt/conda/envs/Python-3.9/lib/python3.9/site-packages (from ibm-cos-sdk==2.11.*->ibm_watson_machine_learning) (2.11.0)\nRequirement already satisfied: ibm-cos-sdk-s3transfer==2.11.0 in /opt/conda/envs/Python-3.9/lib/python3.9/site-packages (from ibm-cos-sdk==2.11.*->ibm_watson_machine_learning) (2.11.0)\nRequirement already satisfied: python-dateutil<3.0.0,>=2.1 in /opt/conda/envs/Python-3.9/lib/python3.9/site-packages (from ibm-cos-sdk-core==2.11.0->ibm-cos-sdk==2.11.*->ibm_watson_machine_learning) (2.8.2)\nRequirement already satisfied: pytest>=6.2.5 in /opt/conda/envs/Python-3.9/lib/python3.9/site-packages (from ibm_watson_studio_pipelines) (6.2.5)\nRequirement already satisfied: typing-extensions>=3.7.4 in /opt/conda/envs/Python-3.9/lib/python3.9/site-packages (from ibm_watson_studio_pipelines) (4.1.1)\nRequirement already satisfied: responses>=0.13.4 in /opt/conda/envs/Python-3.9/lib/python3.9/site-packages (from ibm_watson_studio_pipelines) (0.23.1)\nRequirement already satisfied: ibm-cloud-sdk-core>=3.11.3 in /opt/conda/envs/Python-3.9/lib/python3.9/site-packages (from ibm_watson_studio_pipelines) (3.16.5)\nRequirement already satisfied: attrs>=21.2.0 in /opt/conda/envs/Python-3.9/lib/python3.9/site-packages (from ibm_watson_studio_pipelines) (21.2.0)\nRequirement already satisfied: docutils<0.16,>=0.10 in /opt/conda/envs/Python-3.9/lib/python3.9/site-packages (from ibm_aigov_facts_client) (0.15.2)\nRequirement already satisfied: pillow in /opt/conda/envs/Python-3.9/lib/python3.9/site-packages (from ibm_aigov_facts_client) (9.0.1)\nRequirement already satisfied: timeout-decorator in /opt/conda/envs/Python-3.9/lib/python3.9/site-packages (from ibm_aigov_facts_client) (0.5.0)\nRequirement already satisfied: numpy in /opt/conda/envs/Python-3.9/lib/python3.9/site-packages (from ibm_aigov_facts_client) (1.22.4)\nRequirement already satisfied: sqlparse>=0.3.1 in /opt/conda/envs/Python-3.9/lib/python3.9/site-packages (from ibm_aigov_facts_client) (0.4.4)\nRequirement already satisfied: python-magic in /opt/conda/envs/Python-3.9/lib/python3.9/site-packages (from ibm_aigov_facts_client) (0.4.27)\nRequirement already satisfied: mlflow-skinny==1.28.0 in /opt/conda/envs/Python-3.9/lib/python3.9/site-packages (from ibm_aigov_facts_client) (1.28.0)\nRequirement already satisfied: databricks-cli<1,>=0.8.7 in /opt/conda/envs/Python-3.9/lib/python3.9/site-packages (from mlflow-skinny==1.28.0->ibm_aigov_facts_client) (0.17.7)\nRequirement already satisfied: click<9,>=7.0 in /opt/conda/envs/Python-3.9/lib/python3.9/site-packages (from mlflow-skinny==1.28.0->ibm_aigov_facts_client) (8.0.4)\nRequirement already satisfied: pyyaml<7,>=5.1 in /opt/conda/envs/Python-3.9/lib/python3.9/site-packages (from mlflow-skinny==1.28.0->ibm_aigov_facts_client) (5.4.1)\nRequirement already satisfied: gitpython<4,>=2.1.0 in /opt/conda/envs/Python-3.9/lib/python3.9/site-packages (from mlflow-skinny==1.28.0->ibm_aigov_facts_client) (3.1.31)\nRequirement already satisfied: protobuf<5,>=3.12.0 in /opt/conda/envs/Python-3.9/lib/python3.9/site-packages (from mlflow-skinny==1.28.0->ibm_aigov_facts_client) (4.22.5)\nRequirement already satisfied: cloudpickle<3 in /opt/conda/envs/Python-3.9/lib/python3.9/site-packages (from mlflow-skinny==1.28.0->ibm_aigov_facts_client) (2.2.1)\nRequirement already satisfied: entrypoints<1 in /opt/conda/envs/Python-3.9/lib/python3.9/site-packages (from mlflow-skinny==1.28.0->ibm_aigov_facts_client) (0.3)\nRequirement already satisfied: pytz<2023 in /opt/conda/envs/Python-3.9/lib/python3.9/site-packages (from mlflow-skinny==1.28.0->ibm_aigov_facts_client) (2021.3)\nRequirement already satisfied: PyJWT<3.0.0,>=2.4.0 in /opt/conda/envs/Python-3.9/lib/python3.9/site-packages (from ibm-cloud-sdk-core>=3.11.3->ibm_watson_studio_pipelines) (2.4.0)\nRequirement already satisfied: zipp>=0.5 in /opt/conda/envs/Python-3.9/lib/python3.9/site-packages (from importlib-metadata->ibm_watson_machine_learning) (3.6.0)\nRequirement already satisfied: pyparsing!=3.0.5,>=2.0.2 in /opt/conda/envs/Python-3.9/lib/python3.9/site-packages (from packaging->ibm_watson_machine_learning) (3.0.4)\nRequirement already satisfied: iniconfig in /opt/conda/envs/Python-3.9/lib/python3.9/site-packages (from pytest>=6.2.5->ibm_watson_studio_pipelines) (1.1.1)\nRequirement already satisfied: pluggy<2.0,>=0.12 in /opt/conda/envs/Python-3.9/lib/python3.9/site-packages (from pytest>=6.2.5->ibm_watson_studio_pipelines) (1.0.0)\nRequirement already satisfied: py>=1.8.2 in /opt/conda/envs/Python-3.9/lib/python3.9/site-packages (from pytest>=6.2.5->ibm_watson_studio_pipelines) (1.10.0)\nRequirement already satisfied: toml in /opt/conda/envs/Python-3.9/lib/python3.9/site-packages (from pytest>=6.2.5->ibm_watson_studio_pipelines) (0.10.2)\nRequirement already satisfied: idna<4,>=2.5 in /opt/conda/envs/Python-3.9/lib/python3.9/site-packages (from requests->ibm_watson_machine_learning) (3.3)\nRequirement already satisfied: charset-normalizer<4,>=2 in /opt/conda/envs/Python-3.9/lib/python3.9/site-packages (from requests->ibm_watson_machine_learning) (2.0.4)\nRequirement already satisfied: types-PyYAML in /opt/conda/envs/Python-3.9/lib/python3.9/site-packages (from responses>=0.13.4->ibm_watson_studio_pipelines) (6.0.12.9)\nRequirement already satisfied: six>=1.10.0 in /opt/conda/envs/Python-3.9/lib/python3.9/site-packages (from lomond->ibm_watson_machine_learning) (1.15.0)\nRequirement already satisfied: oauthlib>=3.1.0 in /opt/conda/envs/Python-3.9/lib/python3.9/site-packages (from databricks-cli<1,>=0.8.7->mlflow-skinny==1.28.0->ibm_aigov_facts_client) (3.2.2)\nRequirement already satisfied: gitdb<5,>=4.0.1 in /opt/conda/envs/Python-3.9/lib/python3.9/site-packages (from gitpython<4,>=2.1.0->mlflow-skinny==1.28.0->ibm_aigov_facts_client) (4.0.10)\nRequirement already satisfied: smmap<6,>=3.0.1 in /opt/conda/envs/Python-3.9/lib/python3.9/site-packages (from gitdb<5,>=4.0.1->gitpython<4,>=2.1.0->mlflow-skinny==1.28.0->ibm_aigov_facts_client) (5.0.0)\n"
                }
            ],
            "source": "!pip install ibm_watson_machine_learning ibm_watson_studio_pipelines ibm_aigov_facts_client"
        },
        {
            "cell_type": "code",
            "execution_count": 9,
            "metadata": {},
            "outputs": [],
            "source": "from botocore.client import Config\nfrom ibm_botocore.client import Config\nfrom sklearn.pipeline import Pipeline\nfrom sklearn.model_selection import train_test_split,cross_val_score, KFold\nfrom sklearn.metrics import roc_auc_score,confusion_matrix,plot_confusion_matrix,plot_roc_curve,f1_score,auc,roc_curve,accuracy_score\nfrom hyperopt import STATUS_OK, Trials, fmin, hp, tpe\nfrom ibm_aigov_facts_client import AIGovFactsClient\nfrom ibm_watson_studio_pipelines import WSPipelines\nfrom ibm_watson_machine_learning import APIClient\nimport warnings\nimport os, types\nimport pandas as pd\nimport numpy as np\nimport ibm_boto3\nimport seaborn as sns\nimport json\nimport pickle\nimport matplotlib.pyplot as plt\n\nfrom os.path import exists\nif exists(\"utils/fs_utils.py\") and exists(\"utils/catalog_utils.py\"):\n    from utils import fs_utils,catalog_utils\nelse:\n    # If utils/fs_utils.py and utils/catalog_utils.py exist we assume that you are running on CPD SaaS\n    # and will therefore import scripts from the freshly cloned repository\n#    from MLOps_CPD.utils import fs_utils, catalog_utils\n    pass\n\nfrom MLOps_CPD.utils import fs_utils, catalog_utils\n\nwarnings.filterwarnings(\"ignore\")"
        },
        {
            "cell_type": "markdown",
            "metadata": {},
            "source": "## Succeeding cell contains the credentials for MLOps COS\n```\n## PROJECT COS \nAUTH_ENDPOINT = \"https://iam.cloud.ibm.com/oidc/token\"\nENDPOINT_URL = \"https://s3.private.us.cloud-object-storage.appdomain.cloud\"\nAPI_KEY_COS = \"xxx\"\nBUCKET_PROJECT_COS = \"mlops-donotdelete-pr-qxxcecxi1dtw94\"\n\n##MLOPS COS\nENDPOINT_URL_MLOPS = \"https://s3.jp-tok.cloud-object-storage.appdomain.cloud\"\nAPI_KEY_MLOPS = \"xxx\"\nCRN_MLOPS = \"xxx\"\nBUCKET_MLOPS  = \"mlops-asset\"\n\n##CATALOG\nCATALOG_NAME = \"MLOps-ns\"\n```"
        },
        {
            "cell_type": "code",
            "execution_count": 10,
            "metadata": {},
            "outputs": [],
            "source": "# The code was removed by Watson Studio for sharing."
        },
        {
            "cell_type": "code",
            "execution_count": 11,
            "metadata": {},
            "outputs": [],
            "source": "## Retrieve cos credentials from global pipeline parameters\nimport json\n# Get json from environment and convert to string\nproject_cos_credentials = json.loads(os.getenv('project_cos_credentials'))\nmlops_cos_credentials = json.loads(os.getenv('mlops_cos_credentials'))\n\n## PROJECT COS \nAUTH_ENDPOINT = project_cos_credentials['AUTH_ENDPOINT']\nENDPOINT_URL = project_cos_credentials['ENDPOINT_URL']\nAPI_KEY_COS = project_cos_credentials['API_KEY']\nBUCKET_PROJECT_COS = project_cos_credentials['BUCKET']\n\n## MLOPS COS\nENDPOINT_URL_MLOPS = mlops_cos_credentials['ENDPOINT_URL']\nAPI_KEY_MLOPS = mlops_cos_credentials['API_KEY']\nCRN_MLOPS = mlops_cos_credentials['CRN']\nBUCKET_MLOPS  = mlops_cos_credentials['BUCKET']"
        },
        {
            "cell_type": "markdown",
            "metadata": {},
            "source": "## Pipeline Params"
        },
        {
            "cell_type": "code",
            "execution_count": 12,
            "metadata": {},
            "outputs": [],
            "source": "CLOUD_API_KEY = os.getenv(\"cloud_api_key\")\n\nfilename = os.getenv(\"feature_pickle\")\n\nMODEL_NAME =os.getenv(\"model_name\")\nDEPLOYMENT_NAME =os.getenv(\"deployment_name\")\nCATALOG_NAME=\"mlops-ns\"\n\nproject_id = os.environ['PROJECT_ID']\nspace_id = os.getenv(\"model_name\")"
        },
        {
            "cell_type": "code",
            "execution_count": 13,
            "metadata": {},
            "outputs": [],
            "source": "MODEL_NAME = \"creditrisk-model\"\nDEPLOYMENT_NAME = \"creditrisk-deployment\"\nspace_id = MODEL_NAME"
        },
        {
            "cell_type": "markdown",
            "metadata": {},
            "source": "## Utility Functions"
        },
        {
            "cell_type": "code",
            "execution_count": 14,
            "metadata": {},
            "outputs": [],
            "source": "def download_file_cos(local_file_name,key):\n    cos = ibm_boto3.client(service_name='s3',\n                           ibm_api_key_id=API_KEY_MLOPS,\n                           ibm_service_instance_id=CRN_MLOPS,\n                           ibm_auth_endpoint=AUTH_ENDPOINT,\n                           config=Config(signature_version='oauth'),\n                           endpoint_url=ENDPOINT_URL_MLOPS)\n    try:\n        res=cos.download_file(Bucket=BUCKET_MLOPS,Key=key,Filename=local_file_name)\n    except Exception as e:\n        print(Exception, e)\n    else:\n        print('File Downloaded')\n        \ndef read_data_from_mlops_cos(key):\n    def __iter__(self): return 0\n    MLOPS_DATA_STORE_client = ibm_boto3.client(\n        service_name='s3',\n        ibm_api_key_id=API_KEY_MLOPS,\n        ibm_service_instance_id=CRN_MLOPS,\n        ibm_auth_endpoint=AUTH_ENDPOINT,\n        config=Config(signature_version='oauth'),\n        endpoint_url=ENDPOINT_URL_MLOPS)\n\n    body = MLOPS_DATA_STORE_client.get_object(Bucket=BUCKET_MLOPS, Key=key)['Body']\n    # add missing __iter__ method, so pandas accepts body as file-like object\n    if not hasattr(body, \"__iter__\"): body.__iter__ = types.MethodType( __iter__, body )\n\n    gcf_df = pd.read_csv(body)\n    return gcf_df\n\ndef load_model(key, filename):\n    download_file_cos(key,filename)\n    with open (filename,\"rb\") as f:\n        pipeline = pickle.load(f)\n    return pipeline\n\ndef check_if_file_exists(filename):\n    mlops_client = ibm_boto3.client(\n        service_name='s3',\n        ibm_api_key_id=API_KEY_MLOPS,\n        ibm_service_instance_id=CRN_MLOPS,\n        ibm_auth_endpoint=AUTH_ENDPOINT,\n        config=Config(signature_version='oauth'),\n        endpoint_url=ENDPOINT_URL_MLOPS)\n    \n    for key in mlops_client.list_objects(Bucket=BUCKET_MLOPS)['Contents']:\n        files = key['Key']\n        if files == filename:\n            return True\n    return False\n\ndef save_data_in_cos(dictionary,filename,key):\n    \"\"\"\n\n    Save Data in IBM Cloud Object Storage\n\n    \"\"\"\n    try:\n        with open(filename+'.pkl', 'wb') as f:\n            pickle.dump(dictionary, f)\n        mlops_res = ibm_boto3.resource(\n            service_name='s3',\n            ibm_api_key_id=API_KEY_MLOPS,\n            ibm_service_instance_id=CRN_MLOPS,\n            ibm_auth_endpoint=AUTH_ENDPOINT,\n            config=Config(signature_version='oauth'),\n            endpoint_url=ENDPOINT_URL_MLOPS)\n\n        mlops_res.Bucket(BUCKET_MLOPS).upload_file(filename+'.pkl',key+'.pkl')\n        print(f\"File {filename} uploaded successfully\")\n    except Exception as e:\n        print(e)\n        print(\"File upload for {filename} failed\")\n"
        },
        {
            "cell_type": "code",
            "execution_count": 15,
            "metadata": {},
            "outputs": [],
            "source": "# The code was removed by Watson Studio for sharing."
        },
        {
            "cell_type": "markdown",
            "metadata": {},
            "source": "## Load the Saved Transformer from IBM COS "
        },
        {
            "cell_type": "code",
            "execution_count": 16,
            "metadata": {},
            "outputs": [
                {
                    "name": "stdout",
                    "output_type": "stream",
                    "text": "File Downloaded\n"
                }
            ],
            "source": "pipeline = load_model(filename, filename)"
        },
        {
            "cell_type": "markdown",
            "metadata": {},
            "source": "## Instantiate FactSheets Client"
        },
        {
            "cell_type": "code",
            "execution_count": 17,
            "metadata": {},
            "outputs": [
                {
                    "name": "stdout",
                    "output_type": "stream",
                    "text": "2023/05/17 11:40:05 INFO : Experiment CreditRiskModel does not exist, creating new experiment\n2023/05/17 11:40:06 INFO : Experiment successfully created with ID 1 and name CreditRiskModel\n2023/05/17 11:40:06 INFO : Autolog enabled Successfully\n"
                }
            ],
            "source": "facts_client = AIGovFactsClient(api_key=CLOUD_API_KEY, experiment_name=\"CreditRiskModel\", container_type=\"project\", container_id=project_id, set_as_current_experiment=True)"
        },
        {
            "cell_type": "markdown",
            "metadata": {},
            "source": "## Load Train Data and Test Data "
        },
        {
            "cell_type": "code",
            "execution_count": 18,
            "metadata": {},
            "outputs": [
                {
                    "data": {
                        "text/html": "<div>\n<style scoped>\n    .dataframe tbody tr th:only-of-type {\n        vertical-align: middle;\n    }\n\n    .dataframe tbody tr th {\n        vertical-align: top;\n    }\n\n    .dataframe thead th {\n        text-align: right;\n    }\n</style>\n<table border=\"1\" class=\"dataframe\">\n  <thead>\n    <tr style=\"text-align: right;\">\n      <th></th>\n      <th>LoanDuration</th>\n      <th>LoanAmount</th>\n      <th>InstallmentPercent</th>\n      <th>CurrentResidenceDuration</th>\n      <th>Age</th>\n      <th>ExistingCreditsCount</th>\n      <th>Dependents</th>\n      <th>Housing</th>\n      <th>Telephone</th>\n      <th>OthersOnLoan</th>\n      <th>Job</th>\n      <th>OwnsProperty</th>\n      <th>EmploymentDuration</th>\n      <th>LoanPurpose</th>\n      <th>CheckingStatus</th>\n      <th>CreditHistory</th>\n      <th>ExistingSavings</th>\n      <th>Sex</th>\n      <th>Risk</th>\n    </tr>\n  </thead>\n  <tbody>\n    <tr>\n      <th>0</th>\n      <td>18</td>\n      <td>462</td>\n      <td>2</td>\n      <td>2</td>\n      <td>37</td>\n      <td>2</td>\n      <td>1</td>\n      <td>own</td>\n      <td>none</td>\n      <td>none</td>\n      <td>skilled</td>\n      <td>savings_insurance</td>\n      <td>1_to_4</td>\n      <td>car_new</td>\n      <td>less_0</td>\n      <td>credits_paid_to_date</td>\n      <td>less_100</td>\n      <td>female</td>\n      <td>0</td>\n    </tr>\n    <tr>\n      <th>1</th>\n      <td>15</td>\n      <td>250</td>\n      <td>2</td>\n      <td>3</td>\n      <td>28</td>\n      <td>2</td>\n      <td>1</td>\n      <td>own</td>\n      <td>yes</td>\n      <td>none</td>\n      <td>skilled</td>\n      <td>real_estate</td>\n      <td>1_to_4</td>\n      <td>furniture</td>\n      <td>less_0</td>\n      <td>prior_payments_delayed</td>\n      <td>less_100</td>\n      <td>male</td>\n      <td>0</td>\n    </tr>\n    <tr>\n      <th>2</th>\n      <td>28</td>\n      <td>6235</td>\n      <td>3</td>\n      <td>3</td>\n      <td>57</td>\n      <td>2</td>\n      <td>1</td>\n      <td>own</td>\n      <td>none</td>\n      <td>none</td>\n      <td>skilled</td>\n      <td>unknown</td>\n      <td>greater_7</td>\n      <td>education</td>\n      <td>no_checking</td>\n      <td>prior_payments_delayed</td>\n      <td>500_to_1000</td>\n      <td>male</td>\n      <td>1</td>\n    </tr>\n    <tr>\n      <th>3</th>\n      <td>9</td>\n      <td>1032</td>\n      <td>3</td>\n      <td>4</td>\n      <td>41</td>\n      <td>1</td>\n      <td>1</td>\n      <td>own</td>\n      <td>none</td>\n      <td>none</td>\n      <td>management_self-employed</td>\n      <td>savings_insurance</td>\n      <td>4_to_7</td>\n      <td>car_new</td>\n      <td>no_checking</td>\n      <td>prior_payments_delayed</td>\n      <td>100_to_500</td>\n      <td>male</td>\n      <td>0</td>\n    </tr>\n    <tr>\n      <th>4</th>\n      <td>11</td>\n      <td>4553</td>\n      <td>3</td>\n      <td>3</td>\n      <td>22</td>\n      <td>1</td>\n      <td>1</td>\n      <td>own</td>\n      <td>none</td>\n      <td>none</td>\n      <td>management_self-employed</td>\n      <td>savings_insurance</td>\n      <td>less_1</td>\n      <td>car_new</td>\n      <td>0_to_200</td>\n      <td>credits_paid_to_date</td>\n      <td>less_100</td>\n      <td>female</td>\n      <td>0</td>\n    </tr>\n  </tbody>\n</table>\n</div>",
                        "text/plain": "   LoanDuration  LoanAmount  InstallmentPercent  CurrentResidenceDuration  \\\n0            18         462                   2                         2   \n1            15         250                   2                         3   \n2            28        6235                   3                         3   \n3             9        1032                   3                         4   \n4            11        4553                   3                         3   \n\n   Age  ExistingCreditsCount  Dependents Housing Telephone OthersOnLoan  \\\n0   37                     2           1     own      none         none   \n1   28                     2           1     own       yes         none   \n2   57                     2           1     own      none         none   \n3   41                     1           1     own      none         none   \n4   22                     1           1     own      none         none   \n\n                        Job       OwnsProperty EmploymentDuration LoanPurpose  \\\n0                   skilled  savings_insurance             1_to_4     car_new   \n1                   skilled        real_estate             1_to_4   furniture   \n2                   skilled            unknown          greater_7   education   \n3  management_self-employed  savings_insurance             4_to_7     car_new   \n4  management_self-employed  savings_insurance             less_1     car_new   \n\n  CheckingStatus           CreditHistory ExistingSavings     Sex  Risk  \n0         less_0    credits_paid_to_date        less_100  female     0  \n1         less_0  prior_payments_delayed        less_100    male     0  \n2    no_checking  prior_payments_delayed     500_to_1000    male     1  \n3    no_checking  prior_payments_delayed      100_to_500    male     0  \n4       0_to_200    credits_paid_to_date        less_100  female     0  "
                    },
                    "execution_count": 18,
                    "metadata": {},
                    "output_type": "execute_result"
                }
            ],
            "source": "train_data = read_data_from_mlops_cos('train_tfr.csv')\ntest_data = read_data_from_mlops_cos('test_tfr.csv')\ntrain_data.head()"
        },
        {
            "cell_type": "markdown",
            "metadata": {},
            "source": "## Load train and test set"
        },
        {
            "cell_type": "code",
            "execution_count": 19,
            "metadata": {},
            "outputs": [],
            "source": "y_train = train_data['Risk']\n\ny_test = test_data['Risk']\n\n\nX_train = train_data.drop('Risk',axis=1)\n\nX_test = test_data.drop('Risk',axis=1)\n"
        },
        {
            "cell_type": "markdown",
            "metadata": {},
            "source": "## Make validation set"
        },
        {
            "cell_type": "code",
            "execution_count": 20,
            "metadata": {},
            "outputs": [],
            "source": "from sklearn.model_selection import train_test_split\nX_tr, X_val, y_tr, y_val = train_test_split(X_train, y_train, test_size = 0.2, random_state = 42)"
        },
        {
            "cell_type": "markdown",
            "metadata": {},
            "source": "## Instantiate a Classifier "
        },
        {
            "cell_type": "code",
            "execution_count": 27,
            "metadata": {},
            "outputs": [],
            "source": "from lightgbm import LGBMClassifier\nfrom xgboost import XGBClassifier\n\nfrom sklearn.ensemble import GradientBoostingClassifier\n\nmodel_lgb = LGBMClassifier(learning_rate=0.09,max_depth=5,random_state=42)"
        },
        {
            "cell_type": "markdown",
            "metadata": {},
            "source": "## Append the Pipeline"
        },
        {
            "cell_type": "code",
            "execution_count": 28,
            "metadata": {
                "scrolled": true
            },
            "outputs": [],
            "source": "estimator_step = ['model_lgb',model_lgb]\npipeline.steps.append(estimator_step)\n# if len(pipeline) >2:\n#     pipeline= list(pipeline[0]).append(pipeline[-1])"
        },
        {
            "cell_type": "code",
            "execution_count": 26,
            "metadata": {
                "scrolled": true
            },
            "outputs": [
                {
                    "data": {
                        "text/plain": "ColumnTransformer(transformers=[('cat', OrdinalEncoder(),\n                                 Index(['Housing', 'Telephone', 'OthersOnLoan', 'Job', 'OwnsProperty',\n       'EmploymentDuration', 'LoanPurpose', 'CheckingStatus', 'CreditHistory',\n       'ExistingSavings', 'Sex'],\n      dtype='object')),\n                                ('num', MinMaxScaler(),\n                                 Index(['LoanDuration', 'LoanAmount', 'InstallmentPercent',\n       'CurrentResidenceDuration', 'Age', 'ExistingCreditsCount',\n       'Dependents'],\n      dtype='object'))])"
                    },
                    "execution_count": 26,
                    "metadata": {},
                    "output_type": "execute_result"
                }
            ],
            "source": "pipeline.steps[0][1].fit(X_tr)"
        },
        {
            "cell_type": "markdown",
            "metadata": {},
            "source": "## Baseline Model "
        },
        {
            "cell_type": "code",
            "execution_count": 22,
            "metadata": {},
            "outputs": [
                {
                    "name": "stdout",
                    "output_type": "stream",
                    "text": "2023/05/17 07:50:56 INFO : logging results to factsheet for run_id 2995dfe3686144a79384859ed3993092\n2023/05/17 07:50:56 INFO : logging results to factsheet for run_id 2995dfe3686144a79384859ed3993092\n2023/05/17 07:50:58 INFO : Successfully logged results to Factsheet service for run_id 2995dfe3686144a79384859ed3993092 under asset_id: 024b6820-90e1-4cb8-8ed8-3edcd3022268 and project_id : 5f0d238e-b1b1-41c4-b83c-5a4c262d1988\n2023/05/17 07:50:59 INFO : Successfully logged results to Factsheet service for run_id 2995dfe3686144a79384859ed3993092 under asset_id: 024b6820-90e1-4cb8-8ed8-3edcd3022268 and project_id : 5f0d238e-b1b1-41c4-b83c-5a4c262d1988\n[5]\tvalid_0's binary_logloss: 0.539933\tvalid_1's binary_logloss: 0.516468\n[10]\tvalid_0's binary_logloss: 0.495028\tvalid_1's binary_logloss: 0.45781\n[15]\tvalid_0's binary_logloss: 0.47201\tvalid_1's binary_logloss: 0.422009\n[20]\tvalid_0's binary_logloss: 0.460184\tvalid_1's binary_logloss: 0.397386\n[25]\tvalid_0's binary_logloss: 0.452409\tvalid_1's binary_logloss: 0.379933\n[30]\tvalid_0's binary_logloss: 0.447527\tvalid_1's binary_logloss: 0.366433\n[35]\tvalid_0's binary_logloss: 0.444819\tvalid_1's binary_logloss: 0.356152\n[40]\tvalid_0's binary_logloss: 0.441855\tvalid_1's binary_logloss: 0.347831\n[45]\tvalid_0's binary_logloss: 0.440161\tvalid_1's binary_logloss: 0.34118\n[50]\tvalid_0's binary_logloss: 0.437747\tvalid_1's binary_logloss: 0.335239\n[55]\tvalid_0's binary_logloss: 0.436925\tvalid_1's binary_logloss: 0.328646\n[60]\tvalid_0's binary_logloss: 0.437222\tvalid_1's binary_logloss: 0.322972\n[65]\tvalid_0's binary_logloss: 0.437369\tvalid_1's binary_logloss: 0.317208\n[70]\tvalid_0's binary_logloss: 0.438004\tvalid_1's binary_logloss: 0.312235\n[75]\tvalid_0's binary_logloss: 0.436996\tvalid_1's binary_logloss: 0.306848\n[80]\tvalid_0's binary_logloss: 0.438031\tvalid_1's binary_logloss: 0.301456\n[85]\tvalid_0's binary_logloss: 0.438162\tvalid_1's binary_logloss: 0.29555\n[90]\tvalid_0's binary_logloss: 0.439448\tvalid_1's binary_logloss: 0.290057\n[95]\tvalid_0's binary_logloss: 0.440864\tvalid_1's binary_logloss: 0.284587\n[100]\tvalid_0's binary_logloss: 0.440806\tvalid_1's binary_logloss: 0.27828\n"
                }
            ],
            "source": "# model_pipeline = pipeline.fit(X_train,y_train)\nmodel_pipeline = pipeline.fit(X_tr,y_tr,model_lgb__verbose=5, model_lgb__eval_set=[(pipeline.steps[0][1].transform(X_val), y_val),(pipeline.steps[0][1].transform(X_tr), y_tr)])"
        },
        {
            "cell_type": "code",
            "execution_count": 23,
            "metadata": {
                "scrolled": true
            },
            "outputs": [
                {
                    "data": {
                        "text/plain": "<AxesSubplot:title={'center':'Metric during training'}, xlabel='Iterations', ylabel='binary_logloss'>"
                    },
                    "execution_count": 23,
                    "metadata": {},
                    "output_type": "execute_result"
                },
                {
                    "data": {
                        "image/png": "[encoded data removed]",
                        "text/plain": "<Figure size 432x288 with 1 Axes>"
                    },
                    "metadata": {
                        "needs_background": "light"
                    },
                    "output_type": "display_data"
                }
            ],
            "source": "from lightgbm import plot_metric\nplot_metric(pipeline.steps[1][1])"
        },
        {
            "cell_type": "markdown",
            "metadata": {},
            "source": "## Log the Train and Val loss"
        },
        {
            "cell_type": "code",
            "execution_count": 24,
            "metadata": {},
            "outputs": [],
            "source": "val_loss = pipeline.steps[1][1].evals_result_['valid_0']\ntrain_loss = pipeline.steps[1][1].evals_result_['valid_1']"
        },
        {
            "cell_type": "markdown",
            "metadata": {},
            "source": "## Save train and val loss to COS"
        },
        {
            "cell_type": "code",
            "execution_count": 25,
            "metadata": {
                "scrolled": true
            },
            "outputs": [
                {
                    "name": "stdout",
                    "output_type": "stream",
                    "text": "File val_loss uploaded successfully\nFile train_loss uploaded successfully\n"
                }
            ],
            "source": "save_data_in_cos(val_loss,'val_loss','val_loss')\nsave_data_in_cos(train_loss,'train_loss','train_loss')"
        },
        {
            "cell_type": "markdown",
            "metadata": {},
            "source": "## Check if the files are copied in COS\n"
        },
        {
            "cell_type": "code",
            "execution_count": 26,
            "metadata": {},
            "outputs": [
                {
                    "data": {
                        "text/plain": "True"
                    },
                    "execution_count": 26,
                    "metadata": {},
                    "output_type": "execute_result"
                }
            ],
            "source": "files_copied_in_cos = check_if_file_exists('val_loss.pkl') and check_if_file_exists('val_loss.pkl')\nfiles_copied_in_cos"
        },
        {
            "cell_type": "markdown",
            "metadata": {},
            "source": "## Baseline Results of the Model"
        },
        {
            "cell_type": "code",
            "execution_count": 27,
            "metadata": {},
            "outputs": [
                {
                    "name": "stdout",
                    "output_type": "stream",
                    "text": "0.7175182385975962\n"
                }
            ],
            "source": "predictions = pipeline.predict(X_test)\n\nprint(roc_auc_score(y_test,predictions))"
        },
        {
            "cell_type": "code",
            "execution_count": 28,
            "metadata": {},
            "outputs": [
                {
                    "name": "stderr",
                    "output_type": "stream",
                    "text": "/opt/conda/envs/Python-3.9/lib/python3.9/site-packages/mlflow/tracking/_tracking_service/utils.py:182: UserWarning: Failure attempting to register store for scheme \"file\": cannot import name 'MlflowClient' from partially initialized module 'mlflow.tracking' (most likely due to a circular import) (/opt/conda/envs/Python-3.9/lib/python3.9/site-packages/mlflow/tracking/__init__.py)\n  _tracking_store_registry.register_entrypoints()\n/opt/conda/envs/Python-3.9/lib/python3.9/site-packages/mlflow/tracking/_tracking_service/utils.py:182: UserWarning: Failure attempting to register store for scheme \"file\": cannot import name 'MlflowClient' from partially initialized module 'mlflow.tracking' (most likely due to a circular import) (/opt/conda/envs/Python-3.9/lib/python3.9/site-packages/mlflow/tracking/__init__.py)\n  _tracking_store_registry.register_entrypoints()\n"
                },
                {
                    "name": "stdout",
                    "output_type": "stream",
                    "text": "The Cross Validated AUC_ROC Score is 0.8551584949484683\n"
                }
            ],
            "source": "cv = KFold(n_splits=5, shuffle=True, random_state=1)\nscores = np.mean(cross_val_score(pipeline,X_train,y_train, cv=cv, n_jobs=-1,scoring='roc_auc'))\nprint(f\"The Cross Validated AUC_ROC Score is {scores}\")"
        },
        {
            "cell_type": "code",
            "execution_count": 29,
            "metadata": {},
            "outputs": [
                {
                    "name": "stdout",
                    "output_type": "stream",
                    "text": "Training set score: 0.8658\nTest set score: 0.7711\n"
                }
            ],
            "source": "# print the scores on training and test set\n\nprint('Training set score: {:.4f}'.format(pipeline.score(X_train, y_train)))\n\nprint('Test set score: {:.4f}'.format(pipeline.score(X_test, y_test)))"
        },
        {
            "cell_type": "code",
            "execution_count": 30,
            "metadata": {},
            "outputs": [
                {
                    "data": {
                        "text/plain": "<AxesSubplot:>"
                    },
                    "execution_count": 30,
                    "metadata": {},
                    "output_type": "execute_result"
                },
                {
                    "data": {
                        "image/png": "[encoded data removed]",
                        "text/plain": "<Figure size 432x288 with 2 Axes>"
                    },
                    "metadata": {
                        "needs_background": "light"
                    },
                    "output_type": "display_data"
                }
            ],
            "source": "df_cm = confusion_matrix(y_test,predictions)\n\ngroup_names = ['True Neg','False Pos','False Neg','True Pos']\ngroup_counts = [\"{0:0.0f}\".format(value) for value in df_cm.flatten()]\ngroup_percentages = [\"{0:.2%}\".format(value) for value in df_cm.flatten()/np.sum(df_cm)]\nlabels = [f\"{v1}\\n{v2}\\n{v3}\" for v1, v2,v3 in zip(group_names,group_counts,group_percentages)]\nlabels = np.asarray(labels).reshape(2,2)\nsns.heatmap(df_cm, annot=labels, fmt='', cmap='Blues')\n"
        },
        {
            "cell_type": "code",
            "execution_count": 31,
            "metadata": {},
            "outputs": [
                {
                    "name": "stdout",
                    "output_type": "stream",
                    "text": "\n\nArea Under Curve: 0.72\n\n\n"
                },
                {
                    "data": {
                        "image/png": "[encoded data removed]",
                        "text/plain": "<Figure size 432x288 with 1 Axes>"
                    },
                    "metadata": {
                        "needs_background": "light"
                    },
                    "output_type": "display_data"
                }
            ],
            "source": "fpr, tpr, thresholds = roc_curve(y_test, predictions)\n\nfig, ax = plt.subplots()\nax.plot(fpr, tpr)\nax.plot([0, 1], [0, 1], transform=ax.transAxes, ls=\"--\", c=\".3\")\nplt.xlim([0.0, 1.0])\nplt.ylim([0.0, 1.0])\nplt.rcParams['font.size'] = 12\n\nplt.xlabel('False Positive Rate (1 - Specificity)')\nplt.ylabel('True Positive Rate (Sensitivity)')\nplt.grid(True)\n\nprint(\"\\n\")\nprint (\"Area Under Curve: %.2f\" %auc(fpr, tpr))\nprint(\"\\n\")"
        },
        {
            "cell_type": "markdown",
            "metadata": {},
            "source": "## Store Model in the project"
        },
        {
            "cell_type": "code",
            "execution_count": 32,
            "metadata": {},
            "outputs": [],
            "source": "with open(\"model_pipeline.pkl\",'wb') as f:\n    pickle.dump(model_pipeline,f)"
        },
        {
            "cell_type": "code",
            "execution_count": 33,
            "metadata": {},
            "outputs": [],
            "source": "WML_CREDENTIALS = {\n                   \"url\": \"https://us-south.ml.cloud.ibm.com\",\n                   \"apikey\": CLOUD_API_KEY\n            }"
        },
        {
            "cell_type": "code",
            "execution_count": 34,
            "metadata": {},
            "outputs": [],
            "source": "wml_client = APIClient(WML_CREDENTIALS)"
        },
        {
            "cell_type": "markdown",
            "metadata": {},
            "source": "## Save and Log Models in AI Factsheets."
        },
        {
            "cell_type": "code",
            "execution_count": 37,
            "metadata": {},
            "outputs": [],
            "source": "def save_log_facts():\n    ctutils = catalog_utils.CatalogUtils(\n        service_url=\"https://api.dataplatform.cloud.ibm.com\",\n        api_key=CLOUD_API_KEY,\n        project_id=project_id,\n        auth_url=\"https://iam.cloud.ibm.com/identity/token\")\n    catalog_id = ctutils.get_catalog_id_map()[CATALOG_NAME]\n    fsutils = fs_utils.FSUtils(wml_client=wml_client,catalog_id=catalog_id,project_id=project_id,bss_account_id='27ff418fedd6aedffb8dc6ae4164a1d2',space_id=space_id,facts_client=facts_client)\n    train_ref  = fsutils.prepare_training_reference(apikey=CLOUD_API_KEY,crn=CRN_MLOPS,bucket_name=BUCKET_MLOPS,endpoint=ENDPOINT_URL_MLOPS,training_file_name=\"german_credit_risk.csv\")\n    model_id = fsutils.save_model(model=model_pipeline,model_name=MODEL_NAME,model_entry_name=\"MLOPs\",model_entry_description=\"MLOps Model Entry\",target=\"Risk\",X=X_train,y=y_train,train_data_ref=train_ref, model_type=\"scikit-learn_1.1\")\n    \n    nb_name = \"train_models\"\n    nb_asset_id = \"b8d38cab-e373-4303-bd09-12e1086c9132\"\n    CPD_URL =\"https://dataplatform.cloud.ibm.com\"\n\n    nb_asset_url = \"https://\" + CPD_URL + \"/analytics/notebooks/v2/\" + nb_asset_id + \"?projectid=\" + project_id + \"&context=cpdaas\"\n\n    latestRunId = facts_client.runs.list_runs_by_experiment('1').sort_values('start_time').iloc[-1]['run_id']\n    facts_client.runs.set_tags(latestRunId, {\"Notebook name\": nb_name, \"Notebook id\": nb_asset_id, \"Notebook URL\" : nb_asset_url})\n    facts_client.export_facts.export_payload(latestRunId)\n\n    RUN_ID=facts_client.runs.get_current_run_id()\n    facts_client.export_facts.export_payload(RUN_ID)\n    \n    return model_id\n"
        },
        {
            "cell_type": "code",
            "execution_count": 38,
            "metadata": {},
            "outputs": [
                {
                    "name": "stdout",
                    "output_type": "stream",
                    "text": "Creating connections...\nSUCCESS\n2023/05/17 07:53:50 INFO : Initiating logging to factsheet for run_id......2995dfe3686144a79384859ed3993092\n2023/05/17 07:53:52 INFO : Successfully logged results to Factsheet service for run_id 2995dfe3686144a79384859ed3993092 under asset_id: ae65a666-2177-43c8-b444-3742de91b4df and project_id : 5f0d238e-b1b1-41c4-b83c-5a4c262d1988\n\n\n----------------------------------------------------------------------------------------------\nSuccessfully finished linking WML Model '504f1623-c06d-4f10-85c7-3d3c57dd6ac5' to Model Entry.\n----------------------------------------------------------------------------------------------\n\n\n2023/05/17 07:54:03 INFO : Initiating logging to factsheet for run_id......2995dfe3686144a79384859ed3993092\n2023/05/17 07:54:04 INFO : Successfully logged results to Factsheet service for run_id 2995dfe3686144a79384859ed3993092 under asset_id: b393585d-293b-4f09-84e6-76b76cbff2f8 and project_id : 5f0d238e-b1b1-41c4-b83c-5a4c262d1988\n2023/05/17 07:54:05 INFO : Initiating logging to factsheet for run_id......2995dfe3686144a79384859ed3993092\n2023/05/17 07:54:06 INFO : Successfully logged results to Factsheet service for run_id 2995dfe3686144a79384859ed3993092 under asset_id: b393585d-293b-4f09-84e6-76b76cbff2f8 and project_id : 5f0d238e-b1b1-41c4-b83c-5a4c262d1988\n"
                }
            ],
            "source": "model_id = save_log_facts()"
        },
        {
            "cell_type": "markdown",
            "metadata": {},
            "source": "## Save Params in WS Pipeline"
        },
        {
            "cell_type": "code",
            "execution_count": 39,
            "metadata": {},
            "outputs": [
                {
                    "name": "stdout",
                    "output_type": "stream",
                    "text": "Running outside of Watson Studio Pipeline - storing results in the local filesystem for testing purposes...\n\n  output paths:\n    - \"auc_roc\": .ibm_watson_studio_pipelines/results/auc_roc\n    - \"training_done\": .ibm_watson_studio_pipelines/results/training_done\n    - \"model_name\": .ibm_watson_studio_pipelines/results/model_name\n    - \"deployment_name\": .ibm_watson_studio_pipelines/results/deployment_name\n    - \"model_id\": .ibm_watson_studio_pipelines/results/model_id\n    - \"project_id\": .ibm_watson_studio_pipelines/results/project_id\n"
                },
                {
                    "data": {
                        "text/plain": "<ibm_cloud_sdk_core.detailed_response.DetailedResponse at 0x7fc3bcbaef40>"
                    },
                    "execution_count": 39,
                    "metadata": {},
                    "output_type": "execute_result"
                }
            ],
            "source": "train_params = {}\ntrain_params['auc_roc'] = float(auc(fpr, tpr))\ntrain_params['training_done'] = True\ntrain_params['model_name'] = MODEL_NAME\ntrain_params['deployment_name'] = DEPLOYMENT_NAME\ntrain_params['model_id'] = model_id\ntrain_params['project_id'] = project_id\n# train_params['model_pipeline'] = \"/home/wsuser/work/model_pipeline.pkl\"\n\npipelines_client = WSPipelines.from_apikey(apikey=CLOUD_API_KEY)\npipelines_client.store_results(train_params)"
        },
        {
            "cell_type": "code",
            "execution_count": null,
            "metadata": {},
            "outputs": [],
            "source": ""
        },
        {
            "cell_type": "code",
            "execution_count": null,
            "metadata": {},
            "outputs": [],
            "source": ""
        },
        {
            "cell_type": "code",
            "execution_count": null,
            "metadata": {},
            "outputs": [],
            "source": ""
        }
    ],
    "metadata": {
        "kernelspec": {
            "display_name": "Python 3.9",
            "language": "python",
            "name": "python3"
        },
        "language_info": {
            "codemirror_mode": {
                "name": "ipython",
                "version": 3
            },
            "file_extension": ".py",
            "mimetype": "text/x-python",
            "name": "python",
            "nbconvert_exporter": "python",
            "pygments_lexer": "ipython3",
            "version": "3.9.13"
        },
        "vscode": {
            "interpreter": {
                "hash": "bd385fe162c5ca0c84973b7dd5c518456272446b2b64e67c2a69f949ca7a1754"
            }
        }
    },
    "nbformat": 4,
    "nbformat_minor": 1
}